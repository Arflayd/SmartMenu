{
 "cells": [
  {
   "cell_type": "code",
   "execution_count": 1,
   "id": "5c8e1741",
   "metadata": {
    "pycharm": {
     "name": "#%%\n"
    }
   },
   "outputs": [],
   "source": [
    "import random\n",
    "import string\n",
    "import numpy as np\n",
    "import pandas as pd\n",
    "from tabulate import tabulate"
   ]
  },
  {
   "cell_type": "markdown",
   "id": "efd3a88f",
   "metadata": {
    "pycharm": {
     "name": "#%% md\n"
    }
   },
   "source": [
    "### Config"
   ]
  },
  {
   "cell_type": "code",
   "execution_count": 43,
   "id": "c0a9f15f",
   "metadata": {
    "pycharm": {
     "name": "#%%\n"
    }
   },
   "outputs": [],
   "source": [
    "DISH_COUNT = 300\n",
    "MIN_CALORIES_PER_DISH = 100\n",
    "MAX_CALORIES_PER_DISH = 1200\n",
    "\n",
    "DAYS_PER_MENU = 7\n",
    "DISHES_PER_DAY = 3\n",
    "PENALTY = 400\n",
    "\n",
    "POPULATION_SIZE = 20\n",
    "MATING_POPULATION_SIZE = 10\n",
    "ITERATIONS = 3000\n",
    "\n",
    "CALORIES_PER_DAY = 2000\n",
    "REAL_DATA = True"
   ]
  },
  {
   "cell_type": "markdown",
   "id": "a5a4e843",
   "metadata": {
    "pycharm": {
     "name": "#%% md\n"
    }
   },
   "source": [
    "#### Helper functions"
   ]
  },
  {
   "cell_type": "code",
   "execution_count": 21,
   "id": "055b00d4",
   "metadata": {
    "pycharm": {
     "name": "#%%\n"
    }
   },
   "outputs": [],
   "source": [
    "def visualize_menu(menu):\n",
    "    print(\"Score: \" + str(score_menu(menu)))\n",
    "    headers = [\"Day\", \"Calories\", \"Dishes\"]\n",
    "    calories = count_calories_per_day(menu)\n",
    "    table = []\n",
    "    for day in range(DAYS_PER_MENU):\n",
    "        table.append([day, calories[day], menu[day]])\n",
    "    print(tabulate(table, headers, tablefmt=\"fancy_grid\"))"
   ]
  },
  {
   "cell_type": "markdown",
   "id": "74e9ae5d",
   "metadata": {
    "pycharm": {
     "name": "#%% md\n"
    }
   },
   "source": [
    "#### Test data"
   ]
  },
  {
   "cell_type": "code",
   "execution_count": 22,
   "id": "5aebac52",
   "metadata": {
    "pycharm": {
     "name": "#%%\n"
    },
    "scrolled": true
   },
   "outputs": [],
   "source": [
    "if not REAL_DATA:\n",
    "    dishes = {}\n",
    "    for _ in range(DISH_COUNT):\n",
    "        name = ''.join(random.choices(string.ascii_lowercase, k=6))\n",
    "        dishes[name] = random.randint(MIN_CALORIES_PER_DISH, MAX_CALORIES_PER_DISH)\n",
    "    dishes = list(dishes.items())\n",
    "\n",
    "    print(*dishes[:7], sep='n')"
   ]
  },
  {
   "cell_type": "markdown",
   "id": "0ad4269a",
   "metadata": {
    "pycharm": {
     "name": "#%% md\n"
    }
   },
   "source": [
    "#### Real data"
   ]
  },
  {
   "cell_type": "code",
   "execution_count": 23,
   "id": "4c55caa9",
   "metadata": {
    "pycharm": {
     "name": "#%%\n"
    }
   },
   "outputs": [
    {
     "name": "stdout",
     "output_type": "stream",
     "text": [
      "('Lamb New Zealand Imported Square-Cut Shoulder Chops Separable Lean And Fat Cooked Braised', 273.7)\n",
      "('Jams And Preserves No Sugar (With Sodium Saccharin) Any Flavor', 295.68)\n",
      "('Beef New Zealand Imported Intermuscular Fat Cooked', 476.0)\n",
      "('Chimichanga With Meat And Sour Cream', 259.44)\n",
      "('Pie Mince Individual Size Or Tart', 358.02)\n",
      "('Baklava', 333.84)\n",
      "('Pork Fresh Loin Center Loin (Chops) Bone-In Separable Lean And Fat Cooked Braised', 205.7)\n"
     ]
    }
   ],
   "source": [
    "if REAL_DATA:\n",
    "    dishes = {}\n",
    "    data = pd.read_csv('data.csv', delimiter=',', encoding='utf-8', low_memory=False)\n",
    "    df = pd.DataFrame(data, columns=['name', 'Food Group', \"calories_portion\"])\n",
    "    \n",
    "    while len(dishes) != DISH_COUNT:\n",
    "        random_choice = df.sample()\n",
    "        if MIN_CALORIES_PER_DISH < random_choice.calories_portion.values[0] < MAX_CALORIES_PER_DISH:\n",
    "            dishes[random_choice.name.values[0]] = random_choice.calories_portion.values[0]\n",
    "    dishes = list(dishes.items())\n",
    "    print(*dishes[:7], sep='\\n')"
   ]
  },
  {
   "cell_type": "markdown",
   "id": "654fbb0a",
   "metadata": {
    "pycharm": {
     "name": "#%% md\n"
    }
   },
   "source": [
    "#### Sample random menu"
   ]
  },
  {
   "cell_type": "code",
   "execution_count": 24,
   "id": "e70a5ab3",
   "metadata": {
    "pycharm": {
     "name": "#%%\n"
    }
   },
   "outputs": [],
   "source": [
    "def create_random_menu():\n",
    "    menu = np.ndarray((7, 3), tuple)\n",
    "    for day in range(DAYS_PER_MENU):\n",
    "        for dish_index in range(DISHES_PER_DAY):\n",
    "            menu[day, dish_index] = random.choice(dishes)\n",
    "    return menu"
   ]
  },
  {
   "cell_type": "code",
   "execution_count": 25,
   "id": "eefe5341",
   "metadata": {
    "pycharm": {
     "name": "#%%\n"
    }
   },
   "outputs": [],
   "source": [
    "def count_calories_per_day(menu):\n",
    "\n",
    "    calories = []\n",
    "    for day in range(DAYS_PER_MENU):\n",
    "        calories.append(0)\n",
    "        for dish_index in range(DISHES_PER_DAY):\n",
    "            calories[-1] += menu[day, dish_index][1]\n",
    "    \n",
    "    return calories\n",
    "\n",
    "def count_attr_per_day(menu):\n",
    "    \n",
    "    names = np.reshape(menu, 21)\n",
    "    unique, counts = np.unique(names, return_counts=True)\n",
    "    names_dict = dict(zip(unique, counts))\n",
    "\n",
    "    attr = []\n",
    "    for day in range(DAYS_PER_MENU):\n",
    "        attr.append(0)\n",
    "        for dish_index in range(DISHES_PER_DAY):\n",
    "            attr[-1] += (names_dict[menu[day, dish_index]] - 1 ) * PENALTY\n",
    "    \n",
    "    return attr\n",
    "\n",
    "def score_menu(menu):\n",
    "    \n",
    "    differences = [calories - CALORIES_PER_DAY for calories in count_calories_per_day(menu)]\n",
    "    penalty = [attr ** 2 for attr in count_attr_per_day(menu)]\n",
    "    squares = [calories ** 2 for calories in differences]\n",
    "    \n",
    "    return sum(squares + penalty)"
   ]
  },
  {
   "cell_type": "code",
   "execution_count": 26,
   "id": "81fcd157",
   "metadata": {
    "pycharm": {
     "name": "#%%\n"
    }
   },
   "outputs": [
    {
     "name": "stdout",
     "output_type": "stream",
     "text": [
      "Score: 13883311.196560001\n",
      "╒═══════╤════════════╤════════════════════════════════════════════════════════════════════════════════════════════════╕\n",
      "│   Day │   Calories │ Dishes                                                                                         │\n",
      "╞═══════╪════════════╪════════════════════════════════════════════════════════════════════════════════════════════════╡\n",
      "│     0 │   1061.4   │ [('Beef New Zealand Imported Intermuscular Fat Cooked', 476.0)                                 │\n",
      "│       │            │  ('Pasta Whole Grain With Cream Sauce And Added Vegetables Restaurant', 460.0)                 │\n",
      "│       │            │  ('Litchis', 125.4)]                                                                           │\n",
      "├───────┼────────────┼────────────────────────────────────────────────────────────────────────────────────────────────┤\n",
      "│     1 │    787.91  │ [('Dominos 14 Inch Sausage Pizza Ultimate Deep Dish Crust', 357.33)                            │\n",
      "│       │            │  ('Cake White Prepared From Recipe Without Frosting', 264.18)                                  │\n",
      "│       │            │  ('Milk Malted', 166.4)]                                                                       │\n",
      "├───────┼────────────┼────────────────────────────────────────────────────────────────────────────────────────────────┤\n",
      "│     2 │    426.31  │ [('Egg Omelet Or Scrambled Egg With Cheese Made With Animal Fat Or Meat Drippings', 108.16)    │\n",
      "│       │            │  ('Chicken Broilers Or Fryers Dark Meat Meat Only Raw', 136.25)                                │\n",
      "│       │            │  ('Pork Fresh Loin Center Rib (Roasts) Boneless Separable Lean Only Cooked Roasted', 181.9)]   │\n",
      "├───────┼────────────┼────────────────────────────────────────────────────────────────────────────────────────────────┤\n",
      "│     3 │    510.63  │ [('Sweet Potato Frozen Unprepared', 168.96)                                                    │\n",
      "│       │            │  (\"Cereal (Kellogg's Crispix)\", 109.62)                                                        │\n",
      "│       │            │  ('Sweet Potato Canned Vacuum Pack', 232.05)]                                                  │\n",
      "├───────┼────────────┼────────────────────────────────────────────────────────────────────────────────────────────────┤\n",
      "│     4 │    533.052 │ [('Shortening Special Purpose For Baking Soybean (Hydrogenated) Palm And Cottonseed', 113.152) │\n",
      "│       │            │  ('Pheasant Cooked', 309.4)                                                                    │\n",
      "│       │            │  ('Beef Round Tip Round Roast Separable Lean Only Trimmed To 0 Inch Fat Choice Raw', 110.5)]   │\n",
      "├───────┼────────────┼────────────────────────────────────────────────────────────────────────────────────────────────┤\n",
      "│     5 │    448.316 │ [('Beef Ground 93% Lean Meat / 7% Fat Loaf Cooked Baked', 163.2)                               │\n",
      "│       │            │  ('Sweet Potato Frozen Unprepared', 168.96)                                                    │\n",
      "│       │            │  ('Cookies Oatmeal Commercially Prepared Soft-Type', 116.156)]                                 │\n",
      "├───────┼────────────┼────────────────────────────────────────────────────────────────────────────────────────────────┤\n",
      "│     6 │    600.43  │ [('Cookies Marie Biscuit', 113.68)                                                             │\n",
      "│       │            │  ('Salmon Coated Fried Made With Margarine', 377.4)                                            │\n",
      "│       │            │  ('Soy Milk (All Flavors) Enhanced', 109.35)]                                                  │\n",
      "╘═══════╧════════════╧════════════════════════════════════════════════════════════════════════════════════════════════╛\n"
     ]
    }
   ],
   "source": [
    "sample_menu = create_random_menu()\n",
    "visualize_menu(sample_menu)"
   ]
  },
  {
   "cell_type": "code",
   "execution_count": 27,
   "id": "d0df3f87",
   "metadata": {
    "pycharm": {
     "name": "#%%\n"
    }
   },
   "outputs": [],
   "source": [
    "def crossover(first_menu, second_menu):\n",
    "    child = first_menu.copy()\n",
    "    for day_index in range(DAYS_PER_MENU):\n",
    "        if random.choice((0, 1)) == 1:\n",
    "            child[day_index] = second_menu[day_index]\n",
    "    return child\n",
    "\n",
    "\n",
    "def random_mutate(menu):\n",
    "    menu[random.randint(0, DAYS_PER_MENU - 1), random.randint(0, DISHES_PER_DAY - 1)] = random.choice(dishes)\n",
    "    return menu\n",
    "\n",
    "\n",
    "def swap_mutate(menu):\n",
    "    first_day_index = random.randint(0, DAYS_PER_MENU - 1)\n",
    "    second_day_index = random.randint(0, DAYS_PER_MENU - 1)\n",
    "    dish_index = random.randint(0, DISHES_PER_DAY - 1)\n",
    "    menu[first_day_index, dish_index], menu[second_day_index, dish_index] = menu[second_day_index, dish_index], menu[\n",
    "        first_day_index, dish_index]\n",
    "    return menu"
   ]
  },
  {
   "cell_type": "code",
   "execution_count": 44,
   "id": "aceb5dbd",
   "metadata": {
    "pycharm": {
     "name": "#%%\n"
    }
   },
   "outputs": [],
   "source": [
    "population = []\n",
    "for _ in range(POPULATION_SIZE):\n",
    "    population.append(create_random_menu())"
   ]
  },
  {
   "cell_type": "code",
   "execution_count": 45,
   "id": "89b343e3",
   "metadata": {
    "pycharm": {
     "name": "#%%\n"
    }
   },
   "outputs": [],
   "source": [
    "for i in range(ITERATIONS):\n",
    "    population.sort(key=score_menu)\n",
    "    mating_population = population[:MATING_POPULATION_SIZE]\n",
    "\n",
    "    offspring_population = []\n",
    "    for _ in range(POPULATION_SIZE - MATING_POPULATION_SIZE):\n",
    "        offspring_population.append(crossover(random.choice(mating_population), random.choice(mating_population)))\n",
    "        if random.random() < 0.1:\n",
    "            offspring_population[-1] = random_mutate(offspring_population[-1])\n",
    "        if random.random() < 0.1:\n",
    "            offspring_population[-1] = swap_mutate(offspring_population[-1])\n",
    "\n",
    "    population = mating_population + offspring_population"
   ]
  },
  {
   "cell_type": "code",
   "execution_count": 46,
   "id": "dcb47bfe",
   "metadata": {
    "pycharm": {
     "name": "#%%\n"
    }
   },
   "outputs": [
    {
     "name": "stdout",
     "output_type": "stream",
     "text": [
      "Score: 321856.84569999995\n",
      "╒═══════╤════════════╤════════════════════════════════════════════════════════════════════════════════════════════════╕\n",
      "│   Day │   Calories │ Dishes                                                                                         │\n",
      "╞═══════╪════════════╪════════════════════════════════════════════════════════════════════════════════════════════════╡\n",
      "│     0 │    1976.8  │ [('Cheeseburger 1 Large Patty Plain On Bun From Fast Food / Restaurant', 600.0)                │\n",
      "│       │            │  ('Potatoes Mashed Dehydrated Granules Without Milk Dry Form', 744.0)                          │\n",
      "│       │            │  ('Trail Mix With Nuts And Fruit', 632.8)]                                                     │\n",
      "├───────┼────────────┼────────────────────────────────────────────────────────────────────────────────────────────────┤\n",
      "│     1 │    2002.36 │ [('Hamburger Large Single Patty With Condiments', 437.76)                                      │\n",
      "│       │            │  ('Coleslaw Dressing', 975.0)                                                                  │\n",
      "│       │            │  ('Grilled Chicken Bacon And Tomato Club Sandwich With Cheese Lettuce And Mayonnaise', 589.6)] │\n",
      "├───────┼────────────┼────────────────────────────────────────────────────────────────────────────────────────────────┤\n",
      "│     2 │    1989.59 │ [('Cookie Batter Or Dough Raw', 1077.5)                                                        │\n",
      "│       │            │  ('Corn Flour Whole-Grain Yellow', 422.37)                                                     │\n",
      "│       │            │  ('Kfc Fried Chicken Original Recipe Breast Meat And Skin With Breading', 489.72)]             │\n",
      "├───────┼────────────┼────────────────────────────────────────────────────────────────────────────────────────────────┤\n",
      "│     3 │    1995.08 │ [('Mixed Nuts Honey Roasted', 822.18)                                                          │\n",
      "│       │            │  ('Cornmeal Degermed Enriched Yellow', 580.9)                                                  │\n",
      "│       │            │  ('Willow Leaves In Oil (Alaska Native)', 592.0)]                                              │\n",
      "├───────┼────────────┼────────────────────────────────────────────────────────────────────────────────────────────────┤\n",
      "│     4 │    2007.94 │ [('Submarine Sandwich Tuna On White Bread With Lettuce And Tomato', 516.66)                    │\n",
      "│       │            │  ('Rice White Glutinous Unenriched Uncooked', 684.5)                                           │\n",
      "│       │            │  ('Corn Pone Baked', 806.78)]                                                                  │\n",
      "├───────┼────────────┼────────────────────────────────────────────────────────────────────────────────────────────────┤\n",
      "│     5 │    1996.86 │ [('Popcorn Nfs', 457.3) ('Yam Buns; Puerto Rican Style', 462.06)                               │\n",
      "│       │            │  ('Cookie Batter Or Dough Raw', 1077.5)]                                                       │\n",
      "├───────┼────────────┼────────────────────────────────────────────────────────────────────────────────────────────────┤\n",
      "│     6 │    2033.28 │ [('Crisp Rhubarb', 553.5) ('Taco Bell Taco Salad', 906.1)                                      │\n",
      "│       │            │  ('Salisbury Steak With Gravy Macaroni And Cheese Frozen Meal', 573.68)]                       │\n",
      "╘═══════╧════════════╧════════════════════════════════════════════════════════════════════════════════════════════════╛\n",
      "No duplicants\n"
     ]
    }
   ],
   "source": [
    "def check_duplicant(menu):\n",
    "    names = np.reshape(menu, 21)\n",
    "    unique, counts = np.unique(names, return_counts=True)\n",
    "    is_repetable = dict(zip(unique, counts))\n",
    "    \n",
    "    for elem in is_repetable:\n",
    "        if is_repetable[elem] > 2:\n",
    "            print(\"duplicants detected\")\n",
    "            return\n",
    "    print(\"No duplicants\")\n",
    "\n",
    "    \n",
    "population.sort(key=score_menu)\n",
    "visualize_menu(population[0])    \n",
    "check_duplicant(population[0])"
   ]
  }
 ],
 "metadata": {
  "kernelspec": {
   "display_name": "Python 3 (ipykernel)",
   "language": "python",
   "name": "python3"
  },
  "language_info": {
   "codemirror_mode": {
    "name": "ipython",
    "version": 3
   },
   "file_extension": ".py",
   "mimetype": "text/x-python",
   "name": "python",
   "nbconvert_exporter": "python",
   "pygments_lexer": "ipython3",
   "version": "3.10.4"
  }
 },
 "nbformat": 4,
 "nbformat_minor": 5
}
