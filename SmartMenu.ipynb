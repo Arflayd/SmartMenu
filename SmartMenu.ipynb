{
 "cells": [
  {
   "cell_type": "code",
   "execution_count": 45,
   "id": "5c8e1741",
   "metadata": {
    "pycharm": {
     "name": "#%%\n"
    }
   },
   "outputs": [],
   "source": [
    "import random\n",
    "import string\n",
    "import numpy as np\n",
    "import pandas as pd\n",
    "from tabulate import tabulate"
   ]
  },
  {
   "cell_type": "markdown",
   "id": "efd3a88f",
   "metadata": {
    "pycharm": {
     "name": "#%% md\n"
    }
   },
   "source": [
    "### Config"
   ]
  },
  {
   "cell_type": "code",
   "execution_count": 46,
   "id": "c0a9f15f",
   "metadata": {
    "pycharm": {
     "name": "#%%\n"
    }
   },
   "outputs": [],
   "source": [
    "# How many dishes are available and in what range of calories\n",
    "DISH_COUNT = 3000\n",
    "MIN_CALORIES_PER_DISH = 100\n",
    "MAX_CALORIES_PER_DISH = 1500\n",
    "\n",
    "# User config - how many days, how many dishes per day, how many calories per day\n",
    "DAYS_PER_MENU = 7\n",
    "DISHES_PER_DAY = 3\n",
    "CALORIES_PER_DAY = 2000\n",
    "# Penalty for dishes repaeating during the week\n",
    "PENALTY = 400\n",
    "PROBABILITY_OF_RANDOM_MUTATE = 0.1\n",
    "PROBABILITY_OF_SWAP_MUTATE = 0.1\n",
    "# Genetic algorithm config\n",
    "POPULATION_SIZE = 200\n",
    "MATING_POPULATION_SIZE = 50\n",
    "ITERATIONS = 1000"
   ]
  },
  {
   "cell_type": "markdown",
   "id": "a5a4e843",
   "metadata": {
    "pycharm": {
     "name": "#%% md\n"
    }
   },
   "source": [
    "#### Helper functions"
   ]
  },
  {
   "cell_type": "code",
   "execution_count": 47,
   "id": "055b00d4",
   "metadata": {
    "pycharm": {
     "name": "#%%\n"
    }
   },
   "outputs": [],
   "source": [
    "def visualize_menu(menu):\n",
    "    print(\"Score: \" + str(score_menu(menu)))\n",
    "    headers = [\"Day\", \"Calories\", \"Dishes\"]\n",
    "    calories = count_calories_per_day(menu)\n",
    "    table = []\n",
    "    for day in range(DAYS_PER_MENU):\n",
    "        table.append([day, calories[day], menu[day]])\n",
    "    print(tabulate(table, headers, tablefmt=\"fancy_grid\"))"
   ]
  },
  {
   "cell_type": "markdown",
   "id": "0ad4269a",
   "metadata": {
    "pycharm": {
     "name": "#%% md\n"
    }
   },
   "source": [
    "#### Real data"
   ]
  },
  {
   "cell_type": "code",
   "execution_count": 48,
   "id": "4c55caa9",
   "metadata": {
    "pycharm": {
     "name": "#%%\n"
    }
   },
   "outputs": [
    {
     "name": "stdout",
     "output_type": "stream",
     "text": [
      "('Beef Top Loin Petite Roast/filet Boneless Separable Lean Only Trimmed To 1/8 Inch Fat Choice Raw', 126.65)\n",
      "('Scallops Baked Or Broiled Fat Added In Cooking', 164.16)\n",
      "('Cooked Pacific Herring', 360.0)\n",
      "('Potato Hash Brown From School Lunch', 119.9)\n",
      "('White Beans Canned Drained Low Sodium Fat Added In Cooking', 392.4)\n",
      "('Oatmeal From Fast Food Fruit Flavored', 292.8)\n",
      "('Lasagna With Meat', 286.34)\n"
     ]
    }
   ],
   "source": [
    "dishes = {}\n",
    "data = pd.read_csv('data.csv', delimiter=',', encoding='utf-8', low_memory=False)\n",
    "df = pd.DataFrame(data, columns=['name', 'Food Group', \"calories_portion\"])\n",
    "\n",
    "while len(dishes) != DISH_COUNT:\n",
    "    random_choice = df.sample()\n",
    "    if MIN_CALORIES_PER_DISH < random_choice.calories_portion.values[0] < MAX_CALORIES_PER_DISH:\n",
    "        dishes[random_choice.name.values[0]] = random_choice.calories_portion.values[0]\n",
    "dishes = list(dishes.items())\n",
    "print(*dishes[:DAYS_PER_MENU], sep='\\n')"
   ]
  },
  {
   "cell_type": "markdown",
   "id": "654fbb0a",
   "metadata": {
    "pycharm": {
     "name": "#%% md\n"
    }
   },
   "source": [
    "#### Sample random menu"
   ]
  },
  {
   "cell_type": "code",
   "execution_count": 49,
   "id": "e70a5ab3",
   "metadata": {
    "pycharm": {
     "name": "#%%\n"
    }
   },
   "outputs": [],
   "source": [
    "def create_random_menu():\n",
    "    menu = np.ndarray((DAYS_PER_MENU, DISHES_PER_DAY), tuple)\n",
    "    for day in range(DAYS_PER_MENU):\n",
    "        for dish_index in range(DISHES_PER_DAY):\n",
    "            menu[day, dish_index] = random.choice(dishes)\n",
    "    return menu"
   ]
  },
  {
   "cell_type": "code",
   "execution_count": 50,
   "id": "eefe5341",
   "metadata": {
    "pycharm": {
     "name": "#%%\n"
    }
   },
   "outputs": [],
   "source": [
    "def count_calories_per_day(menu):\n",
    "    calories = []\n",
    "    for day in range(DAYS_PER_MENU):\n",
    "        calories.append(0)\n",
    "        for dish_index in range(DISHES_PER_DAY):\n",
    "            calories[-1] += menu[day, dish_index][1]\n",
    "\n",
    "    return calories\n",
    "\n",
    "\n",
    "def count_duplicates_per_day(menu):\n",
    "    names = np.reshape(menu, DAYS_PER_MENU * DISHES_PER_DAY)\n",
    "    unique, counts = np.unique(names, return_counts=True)\n",
    "    names_dict = dict(zip(unique, counts))\n",
    "\n",
    "    attr = []\n",
    "    for day in range(DAYS_PER_MENU):\n",
    "        attr.append(0)\n",
    "        for dish_index in range(DISHES_PER_DAY):\n",
    "            attr[-1] += (names_dict[menu[day, dish_index]] - 1)\n",
    "\n",
    "    return attr\n",
    "\n",
    "\n",
    "def score_menu(menu):\n",
    "    differences = [calories - CALORIES_PER_DAY for calories in count_calories_per_day(menu)]\n",
    "    penalty = [(attr * PENALTY) ** 2 for attr in count_duplicates_per_day(menu)]\n",
    "    squares = [calories ** 2 for calories in differences]\n",
    "\n",
    "    return round(sum(squares + penalty),2)"
   ]
  },
  {
   "cell_type": "code",
   "execution_count": 51,
   "id": "81fcd157",
   "metadata": {
    "pycharm": {
     "name": "#%%\n"
    }
   },
   "outputs": [
    {
     "name": "stdout",
     "output_type": "stream",
     "text": [
      "Score: 8487295.06\n",
      "╒═══════╤════════════╤════════════════════════════════════════════════════════════════════════════════════════════════════════════════════════════╕\n",
      "│   Day │   Calories │ Dishes                                                                                                                     │\n",
      "╞═══════╪════════════╪════════════════════════════════════════════════════════════════════════════════════════════════════════════════════════════╡\n",
      "│     0 │    1018.1  │ [('Pasta Whole Grain With Cream Sauce Restaurant', 492.5)                                                                  │\n",
      "│       │            │  ('Lima Beans Dry Cooked Made With Oil', 298.8)                                                                            │\n",
      "│       │            │  ('Beef Stew With Potatoes And Vegetables Including Carrots Broccoli And/or Dark-Green Leafy; Tomato-Based Sauce', 226.8)] │\n",
      "├───────┼────────────┼────────────────────────────────────────────────────────────────────────────────────────────────────────────────────────────┤\n",
      "│     1 │    1042.88 │ [('Swiss Cheese', 518.76) ('Smart Soup Thai Coconut Curry', 101.88)                                                        │\n",
      "│       │            │  ('Cheese Sandwich Cheddar Cheese On Wheat Bread With Mayonnaise', 422.24)]                                                │\n",
      "├───────┼────────────┼────────────────────────────────────────────────────────────────────────────────────────────────────────────────────────────┤\n",
      "│     2 │     683.03 │ [('Shrimp Salad', 362.18)                                                                                                  │\n",
      "│       │            │  ('Soup Cream Of Celery Canned Prepared With Equal Volume Milk', 163.68)                                                   │\n",
      "│       │            │  ('Corn White Cooked From Canned Made With Oil', 157.17)]                                                                  │\n",
      "├───────┼────────────┼────────────────────────────────────────────────────────────────────────────────────────────────────────────────────────────┤\n",
      "│     3 │     603.53 │ [('McDonalds Hot Fudge Sundae', 332.94)                                                                                    │\n",
      "│       │            │  ('Beef New Zealand Imported Variety Meats And By-Products Liver Raw', 150.29)                                             │\n",
      "│       │            │  ('Post Honey Bunches Of Oats Honey Roasted', 120.3)]                                                                      │\n",
      "├───────┼────────────┼────────────────────────────────────────────────────────────────────────────────────────────────────────────────────────────┤\n",
      "│     4 │     763.69 │ [('Vegetable Submarine Sandwich With Spread', 310.62)                                                                      │\n",
      "│       │            │  ('Brunswick Stew', 291.6)                                                                                                 │\n",
      "│       │            │  ('Vegetable Beef Soup With Noodles Or Pasta Home Recipe', 161.47)]                                                        │\n",
      "├───────┼────────────┼────────────────────────────────────────────────────────────────────────────────────────────────────────────────────────────┤\n",
      "│     5 │    1550.1  │ [('Coleslaw Dressing', 975.0)                                                                                              │\n",
      "│       │            │  ('Taco Or Tostada Salad With Chicken And Sour Cream', 464.1)                                                              │\n",
      "│       │            │  ('Peas And Onions Cooked Fat Added In Cooking Ns As To Type Of Fat', 111.0)]                                              │\n",
      "├───────┼────────────┼────────────────────────────────────────────────────────────────────────────────────────────────────────────────────────────┤\n",
      "│     6 │     908.36 │ [('Soy Flour Defatted', 343.35)                                                                                            │\n",
      "│       │            │  ('Pork Cured Ham -- Water Added Rump Bone-In Separable Lean Only Heated Roasted', 102.85)                                 │\n",
      "│       │            │  ('Beef Stew With Potatoes Puerto Rican Style', 462.16)]                                                                   │\n",
      "╘═══════╧════════════╧════════════════════════════════════════════════════════════════════════════════════════════════════════════════════════════╛\n"
     ]
    }
   ],
   "source": [
    "sample_menu = create_random_menu()\n",
    "visualize_menu(sample_menu)"
   ]
  },
  {
   "cell_type": "code",
   "execution_count": 52,
   "id": "d0df3f87",
   "metadata": {
    "pycharm": {
     "name": "#%%\n"
    }
   },
   "outputs": [],
   "source": [
    "def crossover(first_menu, second_menu):\n",
    "    child = first_menu.copy()\n",
    "    for day_index in range(DAYS_PER_MENU):\n",
    "        if random.choice((0, 1)) == 1:\n",
    "            child[day_index] = second_menu[day_index]\n",
    "    return child\n",
    "\n",
    "\n",
    "def random_mutate(menu):\n",
    "    menu[random.randint(0, DAYS_PER_MENU - 1), random.randint(0, DISHES_PER_DAY - 1)] = random.choice(dishes)\n",
    "    return menu\n",
    "\n",
    "\n",
    "def swap_mutate(menu):\n",
    "    first_day_index = random.randint(0, DAYS_PER_MENU - 1)\n",
    "    second_day_index = random.randint(0, DAYS_PER_MENU - 1)\n",
    "    dish_index = random.randint(0, DISHES_PER_DAY - 1)\n",
    "    menu[first_day_index, dish_index], menu[second_day_index, dish_index] = menu[second_day_index, dish_index], menu[\n",
    "        first_day_index, dish_index]\n",
    "    return menu"
   ]
  },
  {
   "cell_type": "code",
   "execution_count": 53,
   "id": "aceb5dbd",
   "metadata": {
    "pycharm": {
     "name": "#%%\n"
    }
   },
   "outputs": [],
   "source": [
    "def create_initial_population():\n",
    "    population = []\n",
    "    for _ in range(POPULATION_SIZE):\n",
    "        population.append(create_random_menu())\n",
    "    return population"
   ]
  },
  {
   "cell_type": "code",
   "execution_count": 54,
   "id": "89b343e3",
   "metadata": {
    "pycharm": {
     "name": "#%%\n"
    }
   },
   "outputs": [],
   "source": [
    "def genetic_algorithm():\n",
    "    population = create_initial_population()\n",
    "    for i in range(ITERATIONS):\n",
    "        population.sort(key=score_menu)\n",
    "        mating_population = population[:MATING_POPULATION_SIZE]\n",
    "\n",
    "        offspring_population = []\n",
    "        for _ in range(POPULATION_SIZE - MATING_POPULATION_SIZE):\n",
    "            offspring_population.append(crossover(random.choice(mating_population), random.choice(mating_population)))\n",
    "            if random.random() < PROBABILITY_OF_RANDOM_MUTATE:\n",
    "                offspring_population[-1] = random_mutate(offspring_population[-1])\n",
    "            if random.random() < PROBABILITY_OF_SWAP_MUTATE:\n",
    "                offspring_population[-1] = swap_mutate(offspring_population[-1])\n",
    "\n",
    "        population = mating_population + offspring_population\n",
    "    population.sort(key=score_menu)\n",
    "    best_individual = population[0]\n",
    "    return best_individual"
   ]
  },
  {
   "cell_type": "code",
   "execution_count": 55,
   "id": "dcb47bfe",
   "metadata": {
    "pycharm": {
     "name": "#%%\n"
    }
   },
   "outputs": [
    {
     "name": "stdout",
     "output_type": "stream",
     "text": [
      "Score: 10.91\n",
      "╒═══════╤════════════╤════════════════════════════════════════════════════════════════════════════════════════════════════════════════════════╕\n",
      "│   Day │   Calories │ Dishes                                                                                                                 │\n",
      "╞═══════╪════════════╪════════════════════════════════════════════════════════════════════════════════════════════════════════════════════════╡\n",
      "│     0 │    1997.16 │ [('Pineapple Candy Puerto Rican Style', 763.28)                                                                        │\n",
      "│       │            │  ('Sauce Alfredo Mix Dry', 535.0)                                                                                      │\n",
      "│       │            │  ('Dry Roasted Sunflower Seeds (With Salt)', 698.88)]                                                                  │\n",
      "├───────┼────────────┼────────────────────────────────────────────────────────────────────────────────────────────────────────────────────────┤\n",
      "│     1 │    2000.44 │ [('Paella Nfs', 400.8) ('Fruit Syrup', 1138.94)                                                                        │\n",
      "│       │            │  ('Pizza Meat And Vegetable Topping Rising Crust Frozen Cooked', 460.7)]                                               │\n",
      "├───────┼────────────┼────────────────────────────────────────────────────────────────────────────────────────────────────────────────────────┤\n",
      "│     2 │    1998.5  │ [('Lamb Australian Imported Fresh External Fat Raw', 487.0)                                                            │\n",
      "│       │            │  ('French Or Catalina Dressing', 1142.5)                                                                               │\n",
      "│       │            │  ('Pizza Cheese With Fruit Thick Crust', 369.0)]                                                                       │\n",
      "├───────┼────────────┼────────────────────────────────────────────────────────────────────────────────────────────────────────────────────────┤\n",
      "│     3 │    1999.76 │ [('Wendys Classic Single Hamburger With Cheese', 521.56)                                                               │\n",
      "│       │            │  ('Cake Ice Cream And Cake Roll Chocolate', 1064.2)                                                                    │\n",
      "│       │            │  ('Cookie Marshmallow With Rice Cereal No Bake', 414.0)]                                                               │\n",
      "├───────┼────────────┼────────────────────────────────────────────────────────────────────────────────────────────────────────────────────────┤\n",
      "│     4 │    2000.34 │ [('Beef Bottom Sirloin Tri-Tip Roast Separable Lean And Fat Trimmed To 0 Inch Fat All Grades Cooked Roasted', 1200.59) │\n",
      "│       │            │  ('Hamburger; Single Regular Patty; Double Decker Bun With Condiments And Special Sauce', 530.95)                      │\n",
      "│       │            │  ('Oatmeal Instant Fruit Flavored Fat Added In Cooking', 268.8)]                                                       │\n",
      "├───────┼────────────┼────────────────────────────────────────────────────────────────────────────────────────────────────────────────────────┤\n",
      "│     5 │    2000.47 │ [('Poultry Mechanically Deboned From Mature Hens Raw', 551.61)                                                         │\n",
      "│       │            │  ('Seeds Sunflower Seed Kernels Toasted With Salt Added', 829.46)                                                      │\n",
      "│       │            │  ('Roast Beef Sandwich With Cheese', 619.4)]                                                                           │\n",
      "├───────┼────────────┼────────────────────────────────────────────────────────────────────────────────────────────────────────────────────────┤\n",
      "│     6 │    1999.95 │ [('Toppings Nuts In Syrup', 1469.44)                                                                                   │\n",
      "│       │            │  ('Lasagna With Cheese And Meat Sauce Diet Frozen Meal', 368.16)                                                       │\n",
      "│       │            │  ('Game Meat Deer Shoulder Clod Separable Lean Only Cooked Braised', 162.35)]                                          │\n",
      "╘═══════╧════════════╧════════════════════════════════════════════════════════════════════════════════════════════════════════════════════════╛\n"
     ]
    }
   ],
   "source": [
    "best_individual = genetic_algorithm()\n",
    "visualize_menu(best_individual)"
   ]
  },
  {
   "cell_type": "markdown",
   "source": [],
   "metadata": {
    "collapsed": false,
    "pycharm": {
     "name": "#%% md\n"
    }
   }
  },
  {
   "cell_type": "code",
   "execution_count": 56,
   "id": "266e7692",
   "metadata": {
    "pycharm": {
     "name": "#%%\n"
    }
   },
   "outputs": [],
   "source": [
    "def visualize_experiment(parameters, measurements):\n",
    "    headers = [parameters, \"Best\", \"Worst\"]\n",
    "    table = []\n",
    "    for measurement in measurements:\n",
    "        table.append(measurement)\n",
    "    print(tabulate(table, headers, tablefmt=\"fancy_grid\"))"
   ]
  },
  {
   "cell_type": "code",
   "execution_count": 57,
   "id": "29d3cfa6",
   "metadata": {
    "pycharm": {
     "name": "#%%\n"
    }
   },
   "outputs": [
    {
     "name": "stdout",
     "output_type": "stream",
     "text": [
      "╒═══════════════════╤════════╤═════════╕\n",
      "│   Population size │   Best │   Worst │\n",
      "╞═══════════════════╪════════╪═════════╡\n",
      "│                10 │   0.22 │   45.42 │\n",
      "├───────────────────┼────────┼─────────┤\n",
      "│                20 │   3.67 │  135.61 │\n",
      "├───────────────────┼────────┼─────────┤\n",
      "│                50 │   2.38 │   44.94 │\n",
      "╘═══════════════════╧════════╧═════════╛\n"
     ]
    }
   ],
   "source": [
    "def experiment_population_size():\n",
    "    results = []\n",
    "    num_of_measurements = 5\n",
    "    measurements_points = [10, 20, 50]\n",
    "    for population_size in measurements_points:\n",
    "        POPULATION_SIZE = population_size\n",
    "        MATING_POPULATION_SIZE = population_size // 2\n",
    "        best_individual_score, worst_individual_score = float('inf'), -float('inf')\n",
    "        for _ in range(num_of_measurements):\n",
    "            new_individual_score = score_menu(genetic_algorithm())\n",
    "            best_individual_score = min(new_individual_score, best_individual_score)\n",
    "            worst_individual_score = max(new_individual_score, worst_individual_score)\n",
    "        results.append([population_size, best_individual_score, worst_individual_score])\n",
    "    return results\n",
    "\n",
    "\n",
    "visualize_experiment(\"Population size\", experiment_population_size())"
   ]
  },
  {
   "cell_type": "code",
   "execution_count": 59,
   "outputs": [
    {
     "name": "stdout",
     "output_type": "stream",
     "text": [
      "╒══════════════╤════════╤═════════╕\n",
      "│   Iterations │   Best │   Worst │\n",
      "╞══════════════╪════════╪═════════╡\n",
      "│           10 │   8.27 │   52.82 │\n",
      "├──────────────┼────────┼─────────┤\n",
      "│           20 │   1.56 │   13.49 │\n",
      "├──────────────┼────────┼─────────┤\n",
      "│           50 │   0.52 │   16    │\n",
      "╘══════════════╧════════╧═════════╛\n"
     ]
    }
   ],
   "source": [
    "def experiment_iterations():\n",
    "    results = []\n",
    "    num_of_measurements = 5\n",
    "    measurements_points = [10, 20, 50]\n",
    "    for population_size in measurements_points:\n",
    "        ITERATIONS = population_size\n",
    "        best_individual_score, worst_individual_score = float('inf'), -float('inf')\n",
    "        for _ in range(num_of_measurements):\n",
    "            new_individual_score = score_menu(genetic_algorithm())\n",
    "            best_individual_score = min(new_individual_score, best_individual_score)\n",
    "            worst_individual_score = max(new_individual_score, worst_individual_score)\n",
    "        results.append([population_size, best_individual_score, worst_individual_score])\n",
    "    return results\n",
    "\n",
    "\n",
    "visualize_experiment(\"Iterations\", experiment_iterations())"
   ],
   "metadata": {
    "collapsed": false,
    "pycharm": {
     "name": "#%%\n"
    }
   }
  },
  {
   "cell_type": "code",
   "execution_count": null,
   "outputs": [],
   "source": [],
   "metadata": {
    "collapsed": false,
    "pycharm": {
     "name": "#%%\n"
    }
   }
  }
 ],
 "metadata": {
  "kernelspec": {
   "display_name": "Python 3 (ipykernel)",
   "language": "python",
   "name": "python3"
  },
  "language_info": {
   "codemirror_mode": {
    "name": "ipython",
    "version": 3
   },
   "file_extension": ".py",
   "mimetype": "text/x-python",
   "name": "python",
   "nbconvert_exporter": "python",
   "pygments_lexer": "ipython3",
   "version": "3.9.7"
  }
 },
 "nbformat": 4,
 "nbformat_minor": 5
}