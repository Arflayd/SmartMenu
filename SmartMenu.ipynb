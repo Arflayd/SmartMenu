{
 "cells": [
  {
   "cell_type": "code",
   "execution_count": 368,
   "id": "5c8e1741",
   "metadata": {
    "pycharm": {
     "name": "#%%\n"
    }
   },
   "outputs": [],
   "source": [
    "import random\n",
    "import string\n",
    "import numpy as np\n",
    "import pandas as pd\n",
    "from tabulate import tabulate"
   ]
  },
  {
   "cell_type": "markdown",
   "id": "efd3a88f",
   "metadata": {
    "pycharm": {
     "name": "#%% md\n"
    }
   },
   "source": [
    "### Config"
   ]
  },
  {
   "cell_type": "code",
   "execution_count": 369,
   "outputs": [],
   "source": [
    "DISH_COUNT = 300\n",
    "MIN_CALORIES_PER_DISH = 100\n",
    "MAX_CALORIES_PER_DISH = 1200\n",
    "CALORIES_PER_DAY = 2000\n",
    "DAYS_PER_MENU = 7\n",
    "DISHES_PER_DAY = 3\n",
    "\n",
    "PENALTY = 400\n",
    "POPULATION_SIZE = 20\n",
    "MATING_POPULATION_SIZE = 10\n",
    "ITERATIONS = 3000\n",
    "PROBABILITY_OF_RANDOM_MUTATE = 0.1\n",
    "PROBABILITY_OF_SWAP_MUTATE = 0.1\n",
    "\n",
    "REAL_DATA = True"
   ],
   "metadata": {
    "collapsed": false,
    "pycharm": {
     "name": "#%%\n"
    }
   }
  },
  {
   "cell_type": "markdown",
   "source": [
    "#### Helper functions"
   ],
   "metadata": {
    "collapsed": false,
    "pycharm": {
     "name": "#%% md\n"
    }
   }
  },
  {
   "cell_type": "code",
   "execution_count": 370,
   "outputs": [],
   "source": [
    "def visualize_menu(menu):\n",
    "    print(\"Score: \" + str(score_menu(menu)))\n",
    "    headers = [\"Day\", \"Calories\", \"Dishes\"]\n",
    "    calories = count_calories_per_day(menu)\n",
    "    table = []\n",
    "    for day in range(DAYS_PER_MENU):\n",
    "        table.append([day, calories[day], menu[day]])\n",
    "    print(tabulate(table, headers, tablefmt=\"fancy_grid\"))"
   ],
   "metadata": {
    "collapsed": false,
    "pycharm": {
     "name": "#%%\n"
    }
   }
  },
  {
   "cell_type": "markdown",
   "source": [
    "#### Test data"
   ],
   "metadata": {
    "collapsed": false,
    "pycharm": {
     "name": "#%% md\n"
    }
   }
  },
  {
   "cell_type": "code",
   "execution_count": 371,
   "outputs": [],
   "source": [
    "def fake_data():\n",
    "    dishes = {}\n",
    "    for _ in range(DISH_COUNT):\n",
    "        name = ''.join(random.choices(string.ascii_lowercase, k=6))\n",
    "        dishes[name] = random.randint(MIN_CALORIES_PER_DISH, MAX_CALORIES_PER_DISH)\n",
    "    dishes = list(dishes.items())\n",
    "    return dishes"
   ],
   "metadata": {
    "collapsed": false,
    "pycharm": {
     "name": "#%%\n"
    }
   }
  },
  {
   "cell_type": "markdown",
   "source": [
    "#### Real data"
   ],
   "metadata": {
    "collapsed": false,
    "pycharm": {
     "name": "#%% md\n"
    }
   }
  },
  {
   "cell_type": "code",
   "execution_count": 372,
   "outputs": [],
   "source": [
    "def real_data():\n",
    "    dishes = {}\n",
    "    data = pd.read_csv('data.csv', delimiter=',', encoding='utf-8', low_memory=False)\n",
    "    df = pd.DataFrame(data, columns=['name', 'Food Group', \"calories_portion\"])\n",
    "\n",
    "    while len(dishes) != DISH_COUNT:\n",
    "        random_choice = df.sample()\n",
    "        if MIN_CALORIES_PER_DISH < random_choice.calories_portion.values[0] < MAX_CALORIES_PER_DISH:\n",
    "            dishes[random_choice.name.values[0]] = random_choice.calories_portion.values[0]\n",
    "    dishes = list(dishes.items())\n",
    "    return dishes"
   ],
   "metadata": {
    "collapsed": false,
    "pycharm": {
     "name": "#%%\n"
    }
   }
  },
  {
   "cell_type": "code",
   "execution_count": 373,
   "outputs": [
    {
     "name": "stdout",
     "output_type": "stream",
     "text": [
      "('Popeyes Fried Chicken Mild Breast Meat And Skin With Breading', 531.56)\n",
      "('Prunes (Dried Plums)', 417.6)\n",
      "('Fish Salmon Chum Canned Drained Solids With Bone', 119.85)\n",
      "('Knish Meat', 174.5)\n",
      "('Tilapia Coated Baked Or Broiled Made With Margarine', 212.44)\n",
      "('Roll Sweet Frosted', 216.0)\n",
      "('Chicken Or Turkey And Vegetables Including Carrots Broccoli And/or Dark-Green Leafy; No Potatoes Cheese Sauce', 296.31)\n"
     ]
    }
   ],
   "source": [
    "dishes = {}\n",
    "if REAL_DATA:\n",
    "    dishes = real_data()\n",
    "else:\n",
    "    dishes = fake_data()\n",
    "print(*dishes[:7], sep='\\n')"
   ],
   "metadata": {
    "collapsed": false,
    "pycharm": {
     "name": "#%%\n"
    }
   }
  },
  {
   "cell_type": "markdown",
   "source": [
    "#### Sample random menu"
   ],
   "metadata": {
    "collapsed": false,
    "pycharm": {
     "name": "#%% md\n"
    }
   }
  },
  {
   "cell_type": "code",
   "execution_count": 374,
   "outputs": [],
   "source": [
    "def create_random_menu():\n",
    "    menu = np.ndarray((DAYS_PER_MENU, DISHES_PER_DAY), tuple)\n",
    "    for day in range(DAYS_PER_MENU):\n",
    "        for dish_index in range(DISHES_PER_DAY):\n",
    "            menu[day, dish_index] = random.choice(dishes)\n",
    "    return menu"
   ],
   "metadata": {
    "collapsed": false,
    "pycharm": {
     "name": "#%%\n"
    }
   }
  },
  {
   "cell_type": "code",
   "execution_count": 375,
   "outputs": [],
   "source": [
    "def count_calories_per_day(menu):\n",
    "    calories = []\n",
    "    for day in range(DAYS_PER_MENU):\n",
    "        calories.append(0)\n",
    "        for dish_index in range(DISHES_PER_DAY):\n",
    "            calories[-1] += menu[day, dish_index][1]\n",
    "\n",
    "    return calories\n",
    "\n",
    "\n",
    "def count_attr_per_day(menu):\n",
    "    names = np.reshape(menu, 21)\n",
    "    unique, counts = np.unique(names, return_counts=True)\n",
    "    names_dict = dict(zip(unique, counts))\n",
    "\n",
    "    attr = []\n",
    "    for day in range(DAYS_PER_MENU):\n",
    "        attr.append(0)\n",
    "        for dish_index in range(DISHES_PER_DAY):\n",
    "            attr[-1] += (names_dict[menu[day, dish_index]] - 1) * PENALTY\n",
    "\n",
    "    return attr\n",
    "\n",
    "\n",
    "def score_menu(menu):\n",
    "    differences = [calories - CALORIES_PER_DAY for calories in count_calories_per_day(menu)]\n",
    "    penalty = [attr ** 2 for attr in count_attr_per_day(menu)]\n",
    "    squares = [calories ** 2 for calories in differences]\n",
    "\n",
    "    return round(sum(squares + penalty))\n",
    "\n",
    "\n",
    "def check_duplications(menu):\n",
    "    names = np.reshape(menu, 21)\n",
    "    unique, counts = np.unique(names, return_counts=True)\n",
    "    is_repeating = dict(zip(unique, counts))\n",
    "\n",
    "    for elem in is_repeating:\n",
    "        if is_repeating[elem] > 2:\n",
    "            print(\"duplicants detected\")\n",
    "            return\n",
    "    print(\"No duplicants\")"
   ],
   "metadata": {
    "collapsed": false,
    "pycharm": {
     "name": "#%%\n"
    }
   }
  },
  {
   "cell_type": "code",
   "execution_count": 376,
   "outputs": [
    {
     "name": "stdout",
     "output_type": "stream",
     "text": [
      "Score: 10880340\n",
      "╒═══════╤════════════╤════════════════════════════════════════════════════════════════════════════════════════════════════════════════════════════╕\n",
      "│   Day │   Calories │ Dishes                                                                                                                     │\n",
      "╞═══════╪════════════╪════════════════════════════════════════════════════════════════════════════════════════════════════════════════════════════╡\n",
      "│     0 │    1369.67 │ [('Chicken Pot Pie Frozen Entree Prepared', 616.08)                                                                        │\n",
      "│       │            │  ('Restaurant Mexican Cheese Tamales', 652.32)                                                                             │\n",
      "│       │            │  ('Grapefruit Juice White Frozen Concentrate Unsweetened Diluted With 3 Volume Water', 101.27)]                            │\n",
      "├───────┼────────────┼────────────────────────────────────────────────────────────────────────────────────────────────────────────────────────────┤\n",
      "│     1 │     772.37 │ [('Seeds Cottonseed Flour Partially Defatted (Glandless)', 337.46)                                                         │\n",
      "│       │            │  ('Rice White With Carrots And Dark Green Vegetables Fat Not Added In Cooking', 182.32)                                    │\n",
      "│       │            │  ('Dennys Chicken Nuggets Star Shaped From Kids Menu', 252.59)]                                                            │\n",
      "├───────┼────────────┼────────────────────────────────────────────────────────────────────────────────────────────────────────────────────────────┤\n",
      "│     2 │     528.06 │ [('Carob Unsweetened', 153.36)                                                                                             │\n",
      "│       │            │  ('Peanut Butter And Jelly Sandwich Frozen Commercial Product Without Crusts', 216.6)                                      │\n",
      "│       │            │  ('Veal Shoulder Blade Separable Lean And Fat Cooked Roasted', 158.1)]                                                     │\n",
      "├───────┼────────────┼────────────────────────────────────────────────────────────────────────────────────────────────────────────────────────────┤\n",
      "│     3 │     826.11 │ [('Prunes (Dried Plums)', 417.6)                                                                                           │\n",
      "│       │            │  ('Chicken Or Turkey And Vegetables Including Carrots Broccoli And/or Dark-Green Leafy; No Potatoes Cheese Sauce', 296.31) │\n",
      "│       │            │  ('Pork Fresh Shoulder (Boston Butt) Blade (Steaks) Separable Lean Only Raw', 112.2)]                                      │\n",
      "├───────┼────────────┼────────────────────────────────────────────────────────────────────────────────────────────────────────────────────────────┤\n",
      "│     4 │    1081.92 │ [('Pasta Cooked Enriched Without Added Salt', 195.92)                                                                      │\n",
      "│       │            │  ('Chicken Fried With Potatoes Vegetable Dessert Frozen Meal', 546.0)                                                      │\n",
      "│       │            │  ('Milk Gravy Quick Gravy', 340.0)]                                                                                        │\n",
      "├───────┼────────────┼────────────────────────────────────────────────────────────────────────────────────────────────────────────────────────────┤\n",
      "│     5 │     493.2  │ [('Beef Round Tip Round Roast Separable Lean And Fat Trimmed To 1/8 Inch Fat All Grades Cooked Roasted', 186.15)           │\n",
      "│       │            │  ('Ostrich Tenderloin Raw', 104.55)                                                                                        │\n",
      "│       │            │  ('Ham Potatoes And Vegetables Excluding Carrots Broccoli And Dark-Green Leafy; No Sauce', 202.5)]                         │\n",
      "├───────┼────────────┼────────────────────────────────────────────────────────────────────────────────────────────────────────────────────────────┤\n",
      "│     6 │     477.5  │ [('Ice Creams Breyers No Sugar Added Vanilla Fudge Twirl', 110.16)                                                         │\n",
      "│       │            │  ('Lamb Domestic Composite Of Trimmed Retail Cuts Separable Fat Trimmed To 1/4 Inch Fat Choice Raw', 188.86)               │\n",
      "│       │            │  ('Okra Batter-Dipped Fried', 178.48)]                                                                                     │\n",
      "╘═══════╧════════════╧════════════════════════════════════════════════════════════════════════════════════════════════════════════════════════════╛\n"
     ]
    }
   ],
   "source": [
    "sample_menu = create_random_menu()\n",
    "visualize_menu(sample_menu)"
   ],
   "metadata": {
    "collapsed": false,
    "pycharm": {
     "name": "#%%\n"
    }
   }
  },
  {
   "cell_type": "markdown",
   "source": [
    "### Algorithm"
   ],
   "metadata": {
    "collapsed": false,
    "pycharm": {
     "name": "#%% md\n"
    }
   }
  },
  {
   "cell_type": "code",
   "execution_count": 377,
   "outputs": [],
   "source": [
    "def crossover(first_menu, second_menu):\n",
    "    child = first_menu.copy()\n",
    "    for day_index in range(DAYS_PER_MENU):\n",
    "        if random.choice((0, 1)) == 1:\n",
    "            child[day_index] = second_menu[day_index]\n",
    "    return child\n",
    "\n",
    "\n",
    "def random_mutate(menu):\n",
    "    menu[random.randint(0, DAYS_PER_MENU - 1), random.randint(0, DISHES_PER_DAY - 1)] = random.choice(dishes)\n",
    "    return menu\n",
    "\n",
    "\n",
    "def swap_mutate(menu):\n",
    "    first_day_index = random.randint(0, DAYS_PER_MENU - 1)\n",
    "    second_day_index = random.randint(0, DAYS_PER_MENU - 1)\n",
    "    dish_index = random.randint(0, DISHES_PER_DAY - 1)\n",
    "    menu[first_day_index, dish_index], menu[second_day_index, dish_index] = menu[second_day_index, dish_index], menu[\n",
    "        first_day_index, dish_index]\n",
    "    return menu"
   ],
   "metadata": {
    "collapsed": false,
    "pycharm": {
     "name": "#%%\n"
    }
   }
  },
  {
   "cell_type": "code",
   "execution_count": 378,
   "outputs": [],
   "source": [
    "def initial_population():\n",
    "    population = []\n",
    "    for _ in range(POPULATION_SIZE):\n",
    "        population.append(create_random_menu())\n",
    "    return population"
   ],
   "metadata": {
    "collapsed": false,
    "pycharm": {
     "name": "#%%\n"
    }
   }
  },
  {
   "cell_type": "code",
   "execution_count": 379,
   "outputs": [],
   "source": [
    "def genetic_algorithm():\n",
    "    population = initial_population()\n",
    "    for i in range(ITERATIONS):\n",
    "        population.sort(key=score_menu)\n",
    "        mating_population = population[:MATING_POPULATION_SIZE]\n",
    "\n",
    "        offspring_population = []\n",
    "        for _ in range(POPULATION_SIZE - MATING_POPULATION_SIZE):\n",
    "            offspring_population.append(crossover(random.choice(mating_population), random.choice(mating_population)))\n",
    "            if random.random() < PROBABILITY_OF_RANDOM_MUTATE:\n",
    "                offspring_population[-1] = random_mutate(offspring_population[-1])\n",
    "            if random.random() < PROBABILITY_OF_SWAP_MUTATE:\n",
    "                offspring_population[-1] = swap_mutate(offspring_population[-1])\n",
    "\n",
    "        population = mating_population + offspring_population\n",
    "\n",
    "    population.sort(key=score_menu)\n",
    "    best_individual, worst_individual = population[0], population[-1]\n",
    "\n",
    "    return best_individual, worst_individual"
   ],
   "metadata": {
    "collapsed": false,
    "pycharm": {
     "name": "#%%\n"
    }
   }
  },
  {
   "cell_type": "markdown",
   "source": [
    "### Example"
   ],
   "metadata": {
    "collapsed": false,
    "pycharm": {
     "name": "#%% md\n"
    }
   }
  },
  {
   "cell_type": "code",
   "execution_count": 380,
   "outputs": [
    {
     "name": "stdout",
     "output_type": "stream",
     "text": [
      "Score: 451284\n",
      "╒═══════╤════════════╤═════════════════════════════════════════════════════════════════════════════════════════════════════╕\n",
      "│   Day │   Calories │ Dishes                                                                                              │\n",
      "╞═══════╪════════════╪═════════════════════════════════════════════════════════════════════════════════════════════════════╡\n",
      "│     0 │    1752    │ [('Burger King Croissanwich With Sausage Egg And Cheese', 526.68)                                   │\n",
      "│       │            │  ('Chicken Fried With Potatoes Vegetable Dessert Frozen Meal', 546.0)                               │\n",
      "│       │            │  ('Pastry Made With Bean Paste And Salted Egg Yolk Filling Baked', 679.32)]                         │\n",
      "├───────┼────────────┼─────────────────────────────────────────────────────────────────────────────────────────────────────┤\n",
      "│     1 │    1728.93 │ [('McDonalds Big Mac', 562.83)                                                                      │\n",
      "│       │            │  ('Stuffed Pot Roast With Potatoes Puerto Rican Style', 655.5)                                      │\n",
      "│       │            │  ('Barley Flour Or Meal', 510.6)]                                                                   │\n",
      "├───────┼────────────┼─────────────────────────────────────────────────────────────────────────────────────────────────────┤\n",
      "│     2 │    1770.3  │ [('Pasta With Cream Sauce Poultry And Added Vegetables Restaurant', 482.5)                          │\n",
      "│       │            │  ('Mixed Nuts Without Peanuts Salted', 866.2)                                                       │\n",
      "│       │            │  ('Popcorn Microwave Low Sodium', 421.6)]                                                           │\n",
      "├───────┼────────────┼─────────────────────────────────────────────────────────────────────────────────────────────────────┤\n",
      "│     3 │    1721.08 │ [('Chicken Pot Pie Frozen Entree Prepared', 616.08)                                                 │\n",
      "│       │            │  ('Stewed Seasoned Ground Beef Puerto Rican Style', 592.0)                                          │\n",
      "│       │            │  ('Infant Formula Mead Johnson Enfamil Reguline Powder With Ara And Dha Not Reconstituted', 513.0)] │\n",
      "├───────┼────────────┼─────────────────────────────────────────────────────────────────────────────────────────────────────┤\n",
      "│     4 │    1739.34 │ [('Egg Cheese And Bacon On Bagel', 590.4)                                                           │\n",
      "│       │            │  ('Wrap Sandwich Filled With Vegetables And Rice', 549.44)                                          │\n",
      "│       │            │  ('Black Bean Sauce', 599.5)]                                                                       │\n",
      "├───────┼────────────┼─────────────────────────────────────────────────────────────────────────────────────────────────────┤\n",
      "│     5 │    1780.22 │ [('Chicken Or Turkey With Teriyaki', 397.72)                                                        │\n",
      "│       │            │  ('Beef Enchilada Chili Gravy Rice Refried Beans Frozen Meal', 527.0)                               │\n",
      "│       │            │  ('Nuts Almonds Blanched', 855.5)]                                                                  │\n",
      "├───────┼────────────┼─────────────────────────────────────────────────────────────────────────────────────────────────────┤\n",
      "│     6 │    1736.38 │ [('Restaurant Mexican Cheese Tamales', 652.32)                                                      │\n",
      "│       │            │  ('Bacon Cheeseburger 1 Medium Patty Plain On Bun From Fast Food / Restaurant', 552.5)              │\n",
      "│       │            │  ('Popeyes Fried Chicken Mild Breast Meat And Skin With Breading', 531.56)]                         │\n",
      "╘═══════╧════════════╧═════════════════════════════════════════════════════════════════════════════════════════════════════╛\n",
      "No duplicants\n"
     ]
    }
   ],
   "source": [
    "best_individual, worst_individual = genetic_algorithm()\n",
    "visualize_menu(best_individual)\n",
    "check_duplications(best_individual)"
   ],
   "metadata": {
    "collapsed": false,
    "pycharm": {
     "name": "#%%\n"
    }
   }
  },
  {
   "cell_type": "markdown",
   "source": [
    "### Experiments"
   ],
   "metadata": {
    "collapsed": false,
    "pycharm": {
     "name": "#%% md\n"
    }
   }
  },
  {
   "cell_type": "code",
   "execution_count": 381,
   "outputs": [],
   "source": [
    "def visualize_experiment(parameters, measurements):\n",
    "    headers = [parameters, \"Best\", \"Worst\"]\n",
    "    table = []\n",
    "    for measurement in measurements:\n",
    "        table.append(measurement)\n",
    "    print(tabulate(table, headers, tablefmt=\"fancy_grid\"))"
   ],
   "metadata": {
    "collapsed": false,
    "pycharm": {
     "name": "#%%\n"
    }
   }
  },
  {
   "cell_type": "code",
   "execution_count": 382,
   "outputs": [
    {
     "name": "stdout",
     "output_type": "stream",
     "text": [
      "╒═══════════════════╤════════╤═════════╕\n",
      "│   Population size │   Best │   Worst │\n",
      "╞═══════════════════╪════════╪═════════╡\n",
      "│                10 │ 409706 │  560485 │\n",
      "├───────────────────┼────────┼─────────┤\n",
      "│                20 │ 433988 │  814278 │\n",
      "├───────────────────┼────────┼─────────┤\n",
      "│                50 │ 413144 │  675037 │\n",
      "├───────────────────┼────────┼─────────┤\n",
      "│               100 │ 420020 │  953587 │\n",
      "├───────────────────┼────────┼─────────┤\n",
      "│               150 │ 421774 │  421774 │\n",
      "├───────────────────┼────────┼─────────┤\n",
      "│               250 │ 386786 │  608673 │\n",
      "├───────────────────┼────────┼─────────┤\n",
      "│               500 │ 396441 │  616232 │\n",
      "├───────────────────┼────────┼─────────┤\n",
      "│              1000 │ 417937 │  417937 │\n",
      "├───────────────────┼────────┼─────────┤\n",
      "│              2000 │ 386546 │  746069 │\n",
      "╘═══════════════════╧════════╧═════════╛\n"
     ]
    }
   ],
   "source": [
    "def experiment_population_size():\n",
    "    results = []\n",
    "    for population_size in [10, 20, 50, 100, 150, 250, 500, 1000, 2000]:\n",
    "        POPULATION_SIZE = population_size\n",
    "        MATING_POPULATION_SIZE = population_size // 2\n",
    "        best_individual, worst_individual = genetic_algorithm()\n",
    "        results.append([population_size, score_menu(best_individual), score_menu(worst_individual)])\n",
    "    return results\n",
    "\n",
    "\n",
    "visualize_experiment(\"Population size\", experiment_population_size())"
   ],
   "metadata": {
    "collapsed": false,
    "pycharm": {
     "name": "#%%\n"
    }
   }
  },
  {
   "cell_type": "code",
   "execution_count": 383,
   "outputs": [
    {
     "name": "stdout",
     "output_type": "stream",
     "text": [
      "╒══════════════╤════════╤═════════╕\n",
      "│   Iterations │   Best │   Worst │\n",
      "╞══════════════╪════════╪═════════╡\n",
      "│           10 │ 424240 │  424240 │\n",
      "├──────────────┼────────┼─────────┤\n",
      "│           20 │ 433307 │  443635 │\n",
      "├──────────────┼────────┼─────────┤\n",
      "│           50 │ 418167 │  443545 │\n",
      "├──────────────┼────────┼─────────┤\n",
      "│          100 │ 388732 │  776799 │\n",
      "├──────────────┼────────┼─────────┤\n",
      "│          150 │ 426347 │  802763 │\n",
      "├──────────────┼────────┼─────────┤\n",
      "│          250 │ 388030 │  423260 │\n",
      "├──────────────┼────────┼─────────┤\n",
      "│          500 │ 456000 │  828761 │\n",
      "├──────────────┼────────┼─────────┤\n",
      "│         1000 │ 418165 │ 1038130 │\n",
      "├──────────────┼────────┼─────────┤\n",
      "│         2000 │ 394147 │  394147 │\n",
      "╘══════════════╧════════╧═════════╛\n"
     ]
    }
   ],
   "source": [
    "def experiment_iterations():\n",
    "    results = []\n",
    "    for iterations in [10, 20, 50, 100, 150, 250, 500, 1000, 2000]:\n",
    "        ITERATIONS = iterations\n",
    "        best_individual, worst_individual = genetic_algorithm()\n",
    "        results.append([iterations, score_menu(best_individual), score_menu(worst_individual)])\n",
    "    return results\n",
    "\n",
    "\n",
    "visualize_experiment(\"Iterations\", experiment_iterations())"
   ],
   "metadata": {
    "collapsed": false,
    "pycharm": {
     "name": "#%%\n"
    }
   }
  },
  {
   "cell_type": "code",
   "execution_count": 383,
   "outputs": [],
   "source": [],
   "metadata": {
    "collapsed": false,
    "pycharm": {
     "name": "#%%\n"
    }
   }
  }
 ],
 "metadata": {
  "kernelspec": {
   "display_name": "Python 3 (ipykernel)",
   "language": "python",
   "name": "python3"
  },
  "language_info": {
   "codemirror_mode": {
    "name": "ipython",
    "version": 3
   },
   "file_extension": ".py",
   "mimetype": "text/x-python",
   "name": "python",
   "nbconvert_exporter": "python",
   "pygments_lexer": "ipython3",
   "version": "3.10.4"
  }
 },
 "nbformat": 4,
 "nbformat_minor": 5
}