{
 "cells": [
  {
   "cell_type": "code",
   "execution_count": 3,
   "id": "5c8e1741",
   "metadata": {
    "pycharm": {
     "name": "#%%\n"
    }
   },
   "outputs": [],
   "source": [
    "import random\n",
    "import string\n",
    "import numpy as np\n",
    "import pandas as pd\n",
    "from tabulate import tabulate"
   ]
  },
  {
   "cell_type": "markdown",
   "id": "efd3a88f",
   "metadata": {
    "pycharm": {
     "name": "#%% md\n"
    }
   },
   "source": [
    "### Config"
   ]
  },
  {
   "cell_type": "code",
   "execution_count": 4,
   "id": "c0a9f15f",
   "metadata": {
    "pycharm": {
     "name": "#%%\n"
    }
   },
   "outputs": [],
   "source": [
    "DISH_COUNT = 300\n",
    "MIN_CALORIES_PER_DISH = 100\n",
    "MAX_CALORIES_PER_DISH = 1200\n",
    "\n",
    "DAYS_PER_MENU = 7\n",
    "DISHES_PER_DAY = 3\n",
    "\n",
    "POPULATION_SIZE = 20\n",
    "MATING_POPULATION_SIZE = 10\n",
    "ITERATIONS = 1000\n",
    "\n",
    "CALORIES_PER_DAY = 2000\n",
    "REAL_DATA = True"
   ]
  },
  {
   "cell_type": "markdown",
   "id": "a5a4e843",
   "metadata": {
    "pycharm": {
     "name": "#%% md\n"
    }
   },
   "source": [
    "#### Helper functions"
   ]
  },
  {
   "cell_type": "code",
   "execution_count": 5,
   "id": "055b00d4",
   "metadata": {
    "pycharm": {
     "name": "#%%\n"
    }
   },
   "outputs": [],
   "source": [
    "def visualize_menu(menu):\n",
    "    print(\"Score: \" + str(score_menu(menu)))\n",
    "    headers = [\"Day\", \"Calories\", \"Dishes\"]\n",
    "    calories = count_calories_per_day(menu)\n",
    "    table = []\n",
    "    for day in range(DAYS_PER_MENU):\n",
    "        table.append([day, calories[day], menu[day]])\n",
    "    print(tabulate(table, headers, tablefmt=\"fancy_grid\"))"
   ]
  },
  {
   "cell_type": "markdown",
   "id": "74e9ae5d",
   "metadata": {
    "pycharm": {
     "name": "#%% md\n"
    }
   },
   "source": [
    "#### Test data"
   ]
  },
  {
   "cell_type": "code",
   "execution_count": 6,
   "id": "5aebac52",
   "metadata": {
    "pycharm": {
     "name": "#%%\n"
    },
    "scrolled": true
   },
   "outputs": [],
   "source": [
    "if not REAL_DATA:\n",
    "    dishes = {}\n",
    "    for _ in range(DISH_COUNT):\n",
    "        name = ''.join(random.choices(string.ascii_lowercase, k=6))\n",
    "        dishes[name] = random.randint(MIN_CALORIES_PER_DISH, MAX_CALORIES_PER_DISH)\n",
    "    dishes = list(dishes.items())\n",
    "\n",
    "    print(*dishes[:7], sep='n')"
   ]
  },
  {
   "cell_type": "markdown",
   "id": "0ad4269a",
   "metadata": {
    "pycharm": {
     "name": "#%% md\n"
    }
   },
   "source": [
    "#### Real data"
   ]
  },
  {
   "cell_type": "code",
   "execution_count": 14,
   "id": "4c55caa9",
   "metadata": {
    "pycharm": {
     "name": "#%%\n"
    }
   },
   "outputs": [
    {
     "name": "stdout",
     "output_type": "stream",
     "text": [
      "('Brussels Sprouts Cooked From Frozen Made With Oil', 105.6)\n",
      "('Dirty Rice', 221.76)\n",
      "('Wheat Flour White Tortilla Mix Enriched', 449.55)\n",
      "('Pizza Cheese With Vegetables From Restaurant Or Fast Food Medium Crust', 321.86)\n",
      "('Cheeseburger On Bun From School', 280.6)\n",
      "('Fava Beans Canned Drained Fat Added In Cooking', 293.4)\n",
      "('Soyburger Meatless With Cheese On Bun', 291.2)\n"
     ]
    }
   ],
   "source": [
    "if REAL_DATA:\n",
    "    dishes = {}\n",
    "    data = pd.read_csv('data.csv', delimiter=',', encoding='utf-8', low_memory=False)\n",
    "    df = pd.DataFrame(data, columns=['name', 'Food Group', \"calories_portion\"])\n",
    "    while len(dishes) != DISH_COUNT:\n",
    "        random_choice = df.sample()\n",
    "        if MIN_CALORIES_PER_DISH < random_choice.calories_portion.values[0] < MAX_CALORIES_PER_DISH:\n",
    "            dishes[random_choice.name.values[0]] = random_choice.calories_portion.values[0]\n",
    "    dishes = list(dishes.items())\n",
    "    print(*dishes[:7], sep='\\n')"
   ]
  },
  {
   "cell_type": "markdown",
   "id": "654fbb0a",
   "metadata": {
    "pycharm": {
     "name": "#%% md\n"
    }
   },
   "source": [
    "#### Sample random menu"
   ]
  },
  {
   "cell_type": "code",
   "execution_count": 15,
   "id": "e70a5ab3",
   "metadata": {
    "pycharm": {
     "name": "#%%\n"
    }
   },
   "outputs": [],
   "source": [
    "def create_random_menu():\n",
    "    menu = np.ndarray((7, 3), tuple)\n",
    "    for day in range(DAYS_PER_MENU):\n",
    "        for dish_index in range(DISHES_PER_DAY):\n",
    "            menu[day, dish_index] = random.choice(dishes)\n",
    "    return menu"
   ]
  },
  {
   "cell_type": "code",
   "execution_count": 16,
   "id": "eefe5341",
   "metadata": {
    "pycharm": {
     "name": "#%%\n"
    }
   },
   "outputs": [],
   "source": [
    "def count_calories_per_day(menu):\n",
    "    calories = []\n",
    "    for day in range(DAYS_PER_MENU):\n",
    "        calories.append(0)\n",
    "        for dish_index in range(DISHES_PER_DAY):\n",
    "            calories[-1] += menu[day, dish_index][1]\n",
    "    return calories\n",
    "\n",
    "\n",
    "def score_menu(menu):\n",
    "    differences = [calories - CALORIES_PER_DAY for calories in count_calories_per_day(menu)]\n",
    "    squares = [calories ** 2 for calories in differences]\n",
    "    return sum(squares)"
   ]
  },
  {
   "cell_type": "code",
   "execution_count": 17,
   "id": "81fcd157",
   "metadata": {
    "pycharm": {
     "name": "#%%\n"
    }
   },
   "outputs": [
    {
     "name": "stdout",
     "output_type": "stream",
     "text": [
      "Score: 13452166.036968\n",
      "╒═══════╤════════════╤════════════════════════════════════════════════════════════════════════════════════════════════════════════════╕\n",
      "│   Day │   Calories │ Dishes                                                                                                         │\n",
      "╞═══════╪════════════╪════════════════════════════════════════════════════════════════════════════════════════════════════════════════╡\n",
      "│     0 │    604.428 │ [('Restaurant Mexican Spanish Rice', 214.6)                                                                    │\n",
      "│       │            │  ('Ravioli Cheese-Filled With Tomato Sauce Diet Frozen Meal', 285.6)                                           │\n",
      "│       │            │  ('Seeds Cottonseed Meal Partially Defatted (Glandless)', 104.228)]                                            │\n",
      "├───────┼────────────┼────────────────────────────────────────────────────────────────────────────────────────────────────────────────┤\n",
      "│     1 │    719.478 │ [('Pork Chow Mein Or Chop Suey With Noodles', 316.8)                                                           │\n",
      "│       │            │  ('Seeds Cottonseed Meal Partially Defatted (Glandless)', 104.228)                                             │\n",
      "│       │            │  ('Hot Pockets Croissant Pockets Chicken Broccoli And Cheddar Stuffed Sandwich Frozen', 298.45)]               │\n",
      "├───────┼────────────┼────────────────────────────────────────────────────────────────────────────────────────────────────────────────┤\n",
      "│     2 │    898.84  │ [('Pizza Extra Cheese Thin Crust', 277.84)                                                                     │\n",
      "│       │            │  ('Soyburger Meatless With Cheese On Bun', 291.2)                                                              │\n",
      "│       │            │  ('Carp Coated Baked Or Broiled Fat Not Added In Cooking', 329.8)]                                             │\n",
      "├───────┼────────────┼────────────────────────────────────────────────────────────────────────────────────────────────────────────────┤\n",
      "│     3 │    510.12  │ [('Succotash', 220.8)                                                                                          │\n",
      "│       │            │  ('Light Ice Cream Cone Flavors Other Than Chocolate', 115.44)                                                 │\n",
      "│       │            │  ('Figs Canned Light Syrup Pack Solids And Liquids', 173.88)]                                                  │\n",
      "├───────┼────────────┼────────────────────────────────────────────────────────────────────────────────────────────────────────────────┤\n",
      "│     4 │    777     │ [('Vegetables Stew Type Cooked Fat Added In Cooking Ns As To Type Of Fat', 118.8)                              │\n",
      "│       │            │  ('Pasta Mix Italian Lasagna Unprepared', 501.96)                                                              │\n",
      "│       │            │  ('Strawberry Milk Low Fat', 156.24)]                                                                          │\n",
      "├───────┼────────────┼────────────────────────────────────────────────────────────────────────────────────────────────────────────────┤\n",
      "│     5 │    526.97  │ [('Vegetable Combination Including Carrots Broccoli And/or Dark-Green Leafy; Cooked With Cream Sauce', 166.44) │\n",
      "│       │            │  ('Corn Yellow Cooked From Frozen Fat Added In Cooking Ns As To Type Of Fat', 162.24)                          │\n",
      "│       │            │  ('Soup Tomato Bisque Canned Prepared With Equal Volume Milk', 198.29)]                                        │\n",
      "├───────┼────────────┼────────────────────────────────────────────────────────────────────────────────────────────────────────────────┤\n",
      "│     6 │    336.58  │ [('Ice Creams Chocolate', 125.28)                                                                              │\n",
      "│       │            │  ('Whale Beluga Meat Raw (Alaska Native)', 111.0)                                                              │\n",
      "│       │            │  ('Turkey Retail Parts Drumstick Meat Only Raw', 100.3)]                                                       │\n",
      "╘═══════╧════════════╧════════════════════════════════════════════════════════════════════════════════════════════════════════════════╛\n"
     ]
    }
   ],
   "source": [
    "sample_menu = create_random_menu()\n",
    "visualize_menu(sample_menu)"
   ]
  },
  {
   "cell_type": "code",
   "execution_count": 18,
   "id": "d0df3f87",
   "metadata": {
    "pycharm": {
     "name": "#%%\n"
    }
   },
   "outputs": [],
   "source": [
    "def crossover(first_menu, second_menu):\n",
    "    child = first_menu.copy()\n",
    "    for day_index in range(DAYS_PER_MENU):\n",
    "        if random.choice((0, 1)) == 1:\n",
    "            child[day_index] = second_menu[day_index]\n",
    "    return child\n",
    "\n",
    "\n",
    "def random_mutate(menu):\n",
    "    menu[random.randint(0, DAYS_PER_MENU - 1), random.randint(0, DISHES_PER_DAY - 1)] = random.choice(dishes)\n",
    "    return menu\n",
    "\n",
    "\n",
    "def swap_mutate(menu):\n",
    "    first_day_index = random.randint(0, DAYS_PER_MENU - 1)\n",
    "    second_day_index = random.randint(0, DAYS_PER_MENU - 1)\n",
    "    dish_index = random.randint(0, DISHES_PER_DAY - 1)\n",
    "    menu[first_day_index, dish_index], menu[second_day_index, dish_index] = menu[second_day_index, dish_index], menu[\n",
    "        first_day_index, dish_index]\n",
    "    return menu"
   ]
  },
  {
   "cell_type": "code",
   "execution_count": 22,
   "id": "aceb5dbd",
   "metadata": {
    "pycharm": {
     "name": "#%%\n"
    }
   },
   "outputs": [],
   "source": [
    "population = []\n",
    "for _ in range(POPULATION_SIZE):\n",
    "    population.append(create_random_menu())"
   ]
  },
  {
   "cell_type": "code",
   "execution_count": 23,
   "id": "89b343e3",
   "metadata": {
    "pycharm": {
     "name": "#%%\n"
    }
   },
   "outputs": [],
   "source": [
    "for i in range(ITERATIONS):\n",
    "    population.sort(key=score_menu)\n",
    "    mating_population = population[:MATING_POPULATION_SIZE]\n",
    "\n",
    "    offspring_population = []\n",
    "    for _ in range(POPULATION_SIZE - MATING_POPULATION_SIZE):\n",
    "        offspring_population.append(crossover(random.choice(mating_population), random.choice(mating_population)))\n",
    "        if random.random() < 0.1:\n",
    "            offspring_population[-1] = random_mutate(offspring_population[-1])\n",
    "        if random.random() < 0.1:\n",
    "            offspring_population[-1] = swap_mutate(offspring_population[-1])\n",
    "\n",
    "    population = mating_population + offspring_population"
   ]
  },
  {
   "cell_type": "code",
   "execution_count": 24,
   "id": "dcb47bfe",
   "metadata": {
    "pycharm": {
     "name": "#%%\n"
    }
   },
   "outputs": [
    {
     "name": "stdout",
     "output_type": "stream",
     "text": [
      "Score: 1583.420099999988\n",
      "╒═══════╤════════════╤═════════════════════════════════════════════════════════════════════════════╕\n",
      "│   Day │   Calories │ Dishes                                                                      │\n",
      "╞═══════╪════════════╪═════════════════════════════════════════════════════════════════════════════╡\n",
      "│     0 │    2010.2  │ [('Dennys Spaghetti And Meatballs', 960.5)                                  │\n",
      "│       │            │  ('Pork Fresh Shoulder Whole Separable Lean And Fat Cooked Roasted', 394.2) │\n",
      "│       │            │  ('Stuffed Pot Roast With Potatoes Puerto Rican Style', 655.5)]             │\n",
      "├───────┼────────────┼─────────────────────────────────────────────────────────────────────────────┤\n",
      "│     1 │    1986.46 │ [('Tiramisu', 615.96) ('Liver Dumpling', 715.0)                             │\n",
      "│       │            │  ('Stuffed Pot Roast With Potatoes Puerto Rican Style', 655.5)]             │\n",
      "├───────┼────────────┼─────────────────────────────────────────────────────────────────────────────┤\n",
      "│     2 │    2019.58 │ [('Queso Chihuahua', 493.68) ('Liver Dumpling', 715.0)                      │\n",
      "│       │            │  ('Semisweet Chocolate Made With Butter', 810.9)]                           │\n",
      "├───────┼────────────┼─────────────────────────────────────────────────────────────────────────────┤\n",
      "│     3 │    1979.92 │ [('Seafood Newburg', 597.8) ('Rye Grain', 571.22)                           │\n",
      "│       │            │  ('Semisweet Chocolate Made With Butter', 810.9)]                           │\n",
      "├───────┼────────────┼─────────────────────────────────────────────────────────────────────────────┤\n",
      "│     4 │    1986.46 │ [('Tiramisu', 615.96) ('Liver Dumpling', 715.0)                             │\n",
      "│       │            │  ('Stuffed Pot Roast With Potatoes Puerto Rican Style', 655.5)]             │\n",
      "├───────┼────────────┼─────────────────────────────────────────────────────────────────────────────┤\n",
      "│     5 │    1988.05 │ [('Pie Lemon Not Cream Or Meringue Individual Size Or Tart', 462.15)        │\n",
      "│       │            │  ('Liver Dumpling', 715.0) ('Semisweet Chocolate Made With Butter', 810.9)] │\n",
      "├───────┼────────────┼─────────────────────────────────────────────────────────────────────────────┤\n",
      "│     6 │    1986.46 │ [('Tiramisu', 615.96) ('Liver Dumpling', 715.0)                             │\n",
      "│       │            │  ('Stuffed Pot Roast With Potatoes Puerto Rican Style', 655.5)]             │\n",
      "╘═══════╧════════════╧═════════════════════════════════════════════════════════════════════════════╛\n"
     ]
    }
   ],
   "source": [
    "population.sort(key=score_menu)\n",
    "visualize_menu(population[0])"
   ]
  },
  {
   "cell_type": "code",
   "execution_count": 74,
   "id": "192222f4",
   "metadata": {
    "pycharm": {
     "name": "#%%\n"
    }
   },
   "outputs": [],
   "source": []
  }
 ],
 "metadata": {
  "kernelspec": {
   "display_name": "Python 3 (ipykernel)",
   "language": "python",
   "name": "python3"
  },
  "language_info": {
   "codemirror_mode": {
    "name": "ipython",
    "version": 3
   },
   "file_extension": ".py",
   "mimetype": "text/x-python",
   "name": "python",
   "nbconvert_exporter": "python",
   "pygments_lexer": "ipython3",
   "version": "3.8.10"
  }
 },
 "nbformat": 4,
 "nbformat_minor": 5
}
