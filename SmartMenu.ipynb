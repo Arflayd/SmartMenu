{
 "cells": [
  {
   "cell_type": "code",
   "execution_count": 1,
   "id": "5c8e1741",
   "metadata": {
    "pycharm": {
     "name": "#%%\n"
    }
   },
   "outputs": [],
   "source": [
    "import random\n",
    "import string\n",
    "import numpy as np\n",
    "import pandas as pd\n",
    "from tabulate import tabulate"
   ]
  },
  {
   "cell_type": "markdown",
   "id": "efd3a88f",
   "metadata": {
    "pycharm": {
     "name": "#%% md\n"
    }
   },
   "source": [
    "### Config"
   ]
  },
  {
   "cell_type": "code",
   "execution_count": 2,
   "id": "c0a9f15f",
   "metadata": {
    "pycharm": {
     "name": "#%%\n"
    }
   },
   "outputs": [],
   "source": [
    "# How many dishes are available and in what range of calories\n",
    "DISH_COUNT = 300\n",
    "MIN_CALORIES_PER_DISH = 100\n",
    "MAX_CALORIES_PER_DISH = 1500\n",
    "\n",
    "# User config - how many days, how many dishes per day, how many calories per day\n",
    "DAYS_PER_MENU = 7\n",
    "DISHES_PER_DAY = 3\n",
    "CALORIES_PER_DAY = 2000\n",
    "# Penalty for dishes repaeating during the week\n",
    "PENALTY = 400\n",
    "\n",
    "# Genetic algorithm config\n",
    "POPULATION_SIZE = 20\n",
    "MATING_POPULATION_SIZE = 10\n",
    "ITERATIONS = 3000"
   ]
  },
  {
   "cell_type": "markdown",
   "id": "a5a4e843",
   "metadata": {
    "pycharm": {
     "name": "#%% md\n"
    }
   },
   "source": [
    "#### Helper functions"
   ]
  },
  {
   "cell_type": "code",
   "execution_count": 16,
   "id": "055b00d4",
   "metadata": {
    "pycharm": {
     "name": "#%%\n"
    }
   },
   "outputs": [],
   "source": [
    "def visualize_menu(menu):\n",
    "    print(\"Score: \" + str(score_menu(menu)))\n",
    "    headers = [\"Day\", \"Calories\", \"Dishes\"]\n",
    "    calories = count_calories_per_day(menu)\n",
    "    table = []\n",
    "    for day in range(DAYS_PER_MENU):\n",
    "        table.append([day, calories[day], menu[day]])\n",
    "    print(tabulate(table, headers, tablefmt=\"fancy_grid\"))"
   ]
  },
  {
   "cell_type": "markdown",
   "id": "0ad4269a",
   "metadata": {
    "pycharm": {
     "name": "#%% md\n"
    }
   },
   "source": [
    "#### Real data"
   ]
  },
  {
   "cell_type": "code",
   "execution_count": 17,
   "id": "4c55caa9",
   "metadata": {
    "pycharm": {
     "name": "#%%\n"
    }
   },
   "outputs": [
    {
     "name": "stdout",
     "output_type": "stream",
     "text": [
      "('Sausage Pork And Beef With Cheddar Cheese Smoked', 227.92)\n",
      "('Veal Shoulder Blade Chop Separable Lean Only Cooked Grilled', 135.15)\n",
      "('Beef Australian Imported Wagyu Loin Top Loin Steak/roast Boneless Separable Lean Only Aust. Marble Score 4/5 Raw', 254.22)\n",
      "('Potato Pudding', 287.28)\n",
      "('Pears Canned Heavy Syrup Drained', 148.74)\n",
      "('Beef Round Top Round Separable Lean And Fat Trimmed To 1/8 Inch Fat Choice Cooked Braised', 212.5)\n",
      "('Restaurant Latino Arepa (Unleavened Cornmeal Bread)', 214.62)\n"
     ]
    }
   ],
   "source": [
    "dishes = {}\n",
    "data = pd.read_csv('data.csv', delimiter=',', encoding='utf-8', low_memory=False)\n",
    "df = pd.DataFrame(data, columns=['name', 'Food Group', \"calories_portion\"])\n",
    "\n",
    "while len(dishes) != DISH_COUNT:\n",
    "    random_choice = df.sample()\n",
    "    if MIN_CALORIES_PER_DISH < random_choice.calories_portion.values[0] < MAX_CALORIES_PER_DISH:\n",
    "        dishes[random_choice.name.values[0]] = random_choice.calories_portion.values[0]\n",
    "dishes = list(dishes.items())\n",
    "print(*dishes[:7], sep='\\n')"
   ]
  },
  {
   "cell_type": "markdown",
   "id": "654fbb0a",
   "metadata": {
    "pycharm": {
     "name": "#%% md\n"
    }
   },
   "source": [
    "#### Sample random menu"
   ]
  },
  {
   "cell_type": "code",
   "execution_count": 18,
   "id": "e70a5ab3",
   "metadata": {
    "pycharm": {
     "name": "#%%\n"
    }
   },
   "outputs": [],
   "source": [
    "def create_random_menu():\n",
    "    menu = np.ndarray((DAYS_PER_MENU, DISHES_PER_DAY), tuple)\n",
    "    for day in range(DAYS_PER_MENU):\n",
    "        for dish_index in range(DISHES_PER_DAY):\n",
    "            menu[day, dish_index] = random.choice(dishes)\n",
    "    return menu"
   ]
  },
  {
   "cell_type": "code",
   "execution_count": 27,
   "id": "eefe5341",
   "metadata": {
    "pycharm": {
     "name": "#%%\n"
    }
   },
   "outputs": [],
   "source": [
    "def count_calories_per_day(menu):\n",
    "\n",
    "    calories = []\n",
    "    for day in range(DAYS_PER_MENU):\n",
    "        calories.append(0)\n",
    "        for dish_index in range(DISHES_PER_DAY):\n",
    "            calories[-1] += menu[day, dish_index][1]\n",
    "    \n",
    "    return calories\n",
    "\n",
    "def count_duplicates_per_day(menu):\n",
    "    \n",
    "    names = np.reshape(menu, DAYS_PER_MENU * DISHES_PER_DAY)\n",
    "    unique, counts = np.unique(names, return_counts=True)\n",
    "    names_dict = dict(zip(unique, counts))\n",
    "\n",
    "    attr = []\n",
    "    for day in range(DAYS_PER_MENU):\n",
    "        attr.append(0)\n",
    "        for dish_index in range(DISHES_PER_DAY):\n",
    "            attr[-1] += (names_dict[menu[day, dish_index]] - 1 )\n",
    "    \n",
    "    print(attr)\n",
    "    return attr\n",
    "\n",
    "def score_menu(menu):\n",
    "    \n",
    "    differences = [calories - CALORIES_PER_DAY for calories in count_calories_per_day(menu)]\n",
    "    penalty = [(attr*PENALTY) ** 2 for attr in count_duplicates_per_day(menu)]\n",
    "    squares = [calories ** 2 for calories in differences]\n",
    "    \n",
    "    return sum(squares + penalty)"
   ]
  },
  {
   "cell_type": "code",
   "execution_count": 35,
   "id": "81fcd157",
   "metadata": {
    "pycharm": {
     "name": "#%%\n"
    }
   },
   "outputs": [
    {
     "name": "stdout",
     "output_type": "stream",
     "text": [
      "[1, 0, 0, 0, 1, 0, 0]\n",
      "Score: 10684233.0637\n",
      "╒═══════╤════════════╤═════════════════════════════════════════════════════════════════════════════════════════════════╕\n",
      "│   Day │   Calories │ Dishes                                                                                          │\n",
      "╞═══════╪════════════╪═════════════════════════════════════════════════════════════════════════════════════════════════╡\n",
      "│     0 │     651.97 │ [('Potatoes French Fried Steak Fries Salt Added In Processing Frozen Oven-Heated', 196.84)      │\n",
      "│       │            │  ('Beef New Zealand Imported Variety Meats And By-Products Tongue Raw', 274.59)                 │\n",
      "│       │            │  ('Frankfurter Or Hot Dog Sandwich Fat Free Plain On Whole Grain White Bun', 180.54)]           │\n",
      "├───────┼────────────┼─────────────────────────────────────────────────────────────────────────────────────────────────┤\n",
      "│     1 │     764.88 │ [('Bread Salvadoran Sweet Cheese (Quesadilla Salvadorena)', 205.7)                              │\n",
      "│       │            │  ('Ruffed Grouse Breast Meat Skinless Raw', 126.56)                                             │\n",
      "│       │            │  ('Bacon Chicken And Tomato Club Sandwich On Multigrain Roll With Lettuce And Spread', 432.62)] │\n",
      "├───────┼────────────┼─────────────────────────────────────────────────────────────────────────────────────────────────┤\n",
      "│     2 │     765.92 │ [('Pork Fresh Loin Top Loin (Chops) Boneless Separable Lean And Fat Cooked Braised', 270.0)     │\n",
      "│       │            │  ('Pizza Cheese Whole Wheat Thick Crust', 359.04)                                               │\n",
      "│       │            │  ('Muffin English Cheese', 136.88)]                                                             │\n",
      "├───────┼────────────┼─────────────────────────────────────────────────────────────────────────────────────────────────┤\n",
      "│     3 │     770.88 │ [('Macaroni Or Noodles With Cheese And Tomato', 335.8)                                          │\n",
      "│       │            │  ('Gordita Sope Or Chalupa With Chicken And Sour Cream', 300.08)                                │\n",
      "│       │            │  ('Chocolate Coated Graham Crackers', 135.0)]                                                   │\n",
      "├───────┼────────────┼─────────────────────────────────────────────────────────────────────────────────────────────────┤\n",
      "│     4 │    1044    │ [('Taco Bell Nachos Supreme', 495.06)                                                           │\n",
      "│       │            │  ('Frankfurter Or Hot Dog Sandwich Beef Plain On Whole Grain White Bread', 274.35)              │\n",
      "│       │            │  ('Beef New Zealand Imported Variety Meats And By-Products Tongue Raw', 274.59)]                │\n",
      "├───────┼────────────┼─────────────────────────────────────────────────────────────────────────────────────────────────┤\n",
      "│     5 │     929.76 │ [('Oatmeal Instant Plain Made With Milk Ns As To Fat Added In Cooking', 304.8)                  │\n",
      "│       │            │  ('Chicken Thigh Baked Coated Skin / Coating Eaten', 324.0)                                     │\n",
      "│       │            │  ('Carrots Raw Salad With Apples', 300.96)]                                                     │\n",
      "├───────┼────────────┼─────────────────────────────────────────────────────────────────────────────────────────────────┤\n",
      "│     6 │     611.3  │ [('Cereal (General Mills Lucky Charms)', 136.8)                                                 │\n",
      "│       │            │  ('Bread Pound Cake Type Pan De Torta Salvadoran', 214.5)                                       │\n",
      "│       │            │  ('Lo Mein With Chicken', 260.0)]                                                               │\n",
      "╘═══════╧════════════╧═════════════════════════════════════════════════════════════════════════════════════════════════╛\n"
     ]
    }
   ],
   "source": [
    "sample_menu = create_random_menu()\n",
    "visualize_menu(sample_menu)"
   ]
  },
  {
   "cell_type": "code",
   "execution_count": 10,
   "id": "d0df3f87",
   "metadata": {
    "pycharm": {
     "name": "#%%\n"
    }
   },
   "outputs": [],
   "source": [
    "def crossover(first_menu, second_menu):\n",
    "    child = first_menu.copy()\n",
    "    for day_index in range(DAYS_PER_MENU):\n",
    "        if random.choice((0, 1)) == 1:\n",
    "            child[day_index] = second_menu[day_index]\n",
    "    return child\n",
    "\n",
    "\n",
    "def random_mutate(menu):\n",
    "    menu[random.randint(0, DAYS_PER_MENU - 1), random.randint(0, DISHES_PER_DAY - 1)] = random.choice(dishes)\n",
    "    return menu\n",
    "\n",
    "\n",
    "def swap_mutate(menu):\n",
    "    first_day_index = random.randint(0, DAYS_PER_MENU - 1)\n",
    "    second_day_index = random.randint(0, DAYS_PER_MENU - 1)\n",
    "    dish_index = random.randint(0, DISHES_PER_DAY - 1)\n",
    "    menu[first_day_index, dish_index], menu[second_day_index, dish_index] = menu[second_day_index, dish_index], menu[\n",
    "        first_day_index, dish_index]\n",
    "    return menu"
   ]
  },
  {
   "cell_type": "code",
   "execution_count": 11,
   "id": "aceb5dbd",
   "metadata": {
    "pycharm": {
     "name": "#%%\n"
    }
   },
   "outputs": [],
   "source": [
    "population = []\n",
    "for _ in range(POPULATION_SIZE):\n",
    "    population.append(create_random_menu())"
   ]
  },
  {
   "cell_type": "code",
   "execution_count": 12,
   "id": "89b343e3",
   "metadata": {
    "pycharm": {
     "name": "#%%\n"
    }
   },
   "outputs": [],
   "source": [
    "for i in range(ITERATIONS):\n",
    "    population.sort(key=score_menu)\n",
    "    mating_population = population[:MATING_POPULATION_SIZE]\n",
    "\n",
    "    offspring_population = []\n",
    "    for _ in range(POPULATION_SIZE - MATING_POPULATION_SIZE):\n",
    "        offspring_population.append(crossover(random.choice(mating_population), random.choice(mating_population)))\n",
    "        if random.random() < 0.1:\n",
    "            offspring_population[-1] = random_mutate(offspring_population[-1])\n",
    "        if random.random() < 0.1:\n",
    "            offspring_population[-1] = swap_mutate(offspring_population[-1])\n",
    "\n",
    "    population = mating_population + offspring_population"
   ]
  },
  {
   "cell_type": "code",
   "execution_count": 13,
   "id": "dcb47bfe",
   "metadata": {
    "pycharm": {
     "name": "#%%\n"
    }
   },
   "outputs": [
    {
     "name": "stdout",
     "output_type": "stream",
     "text": [
      "Score: 332.8300000000001\n",
      "╒═══════╤════════════╤═══════════════════════════════════════════════════════════════════════════════════════════════════════════════════╕\n",
      "│   Day │   Calories │ Dishes                                                                                                            │\n",
      "╞═══════╪════════════╪═══════════════════════════════════════════════════════════════════════════════════════════════════════════════════╡\n",
      "│     0 │    2000.05 │ [('Restaurant Mexican Cheese Enchilada', 666.12)                                                                  │\n",
      "│       │            │  ('Poultry Mechanically Deboned From Mature Hens Raw', 551.61)                                                    │\n",
      "│       │            │  ('Pie Crust Standard-Type Frozen Ready-To-Bake Enriched Baked', 782.32)]                                         │\n",
      "├───────┼────────────┼───────────────────────────────────────────────────────────────────────────────────────────────────────────────────┤\n",
      "│     1 │    2006.18 │ [('Pasta Whole Grain With Cream Sauce Ready-To-Heat', 402.5)                                                      │\n",
      "│       │            │  ('Pastry Mainly Flour And Water Fried', 430.0)                                                                   │\n",
      "│       │            │  ('Turkey Retail Parts Breast Meat Only Cooked Roasted', 1173.68)]                                                │\n",
      "├───────┼────────────┼───────────────────────────────────────────────────────────────────────────────────────────────────────────────────┤\n",
      "│     2 │    1998.61 │ [('Soft Serve Blended With Chocolate Candy', 633.36)                                                              │\n",
      "│       │            │  ('Chicken Barbecue Sandwich', 530.58)                                                                            │\n",
      "│       │            │  ('Carrabbas Italian Grill Lasagne', 834.67)]                                                                     │\n",
      "├───────┼────────────┼───────────────────────────────────────────────────────────────────────────────────────────────────────────────────┤\n",
      "│     3 │    1996.95 │ [('Restaurant Mexican Soft Taco With Ground Beef Cheese And Lettuce', 615.39)                                     │\n",
      "│       │            │  ('Honey', 1030.56)                                                                                               │\n",
      "│       │            │  ('Seal Bearded (Oogruk) Meat Dried (Alaska Native)', 351.0)]                                                     │\n",
      "├───────┼────────────┼───────────────────────────────────────────────────────────────────────────────────────────────────────────────────┤\n",
      "│     4 │    1997.1  │ [('Syrups Table Blends Pancake', 734.76)                                                                          │\n",
      "│       │            │  ('Beef With Soy-Based Sauce', 448.96)                                                                            │\n",
      "│       │            │  ('Nuts Mixed Nuts Oil Roasted With Peanuts With Salt Added', 813.38)]                                            │\n",
      "├───────┼────────────┼───────────────────────────────────────────────────────────────────────────────────────────────────────────────────┤\n",
      "│     5 │    2000.87 │ [('Beef Burgundy', 356.24) ('Hollandaise Sauce', 1295.28)                                                         │\n",
      "│       │            │  ('Beef Rib Small End (Ribs 10-12) Separable Lean And Fat Trimmed To 1/8 Inch Fat Prime Cooked Roasted', 349.35)] │\n",
      "├───────┼────────────┼───────────────────────────────────────────────────────────────────────────────────────────────────────────────────┤\n",
      "│     6 │    1983.44 │ [('Beef New Zealand Imported Subcutaneous Fat Raw', 774.05)                                                       │\n",
      "│       │            │  ('Pork Cured Ham Separable Fat Boneless Unheated', 602.55)                                                       │\n",
      "│       │            │  ('Uncooked Oats', 606.84)]                                                                                       │\n",
      "╘═══════╧════════════╧═══════════════════════════════════════════════════════════════════════════════════════════════════════════════════╛\n",
      "No duplicants\n"
     ]
    }
   ],
   "source": [
    "def check_duplicant(menu):\n",
    "    names = np.reshape(menu, 21)\n",
    "    unique, counts = np.unique(names, return_counts=True)\n",
    "    is_repetable = dict(zip(unique, counts))\n",
    "    \n",
    "    for elem in is_repetable:\n",
    "        if is_repetable[elem] > 2:\n",
    "            print(\"duplicants detected\")\n",
    "            return\n",
    "    print(\"No duplicants\")\n",
    "\n",
    "    \n",
    "population.sort(key=score_menu)\n",
    "visualize_menu(population[0])    \n",
    "check_duplicant(population[0])"
   ]
  },
  {
   "cell_type": "code",
   "execution_count": null,
   "id": "bf633279",
   "metadata": {},
   "outputs": [],
   "source": []
  },
  {
   "cell_type": "code",
   "execution_count": null,
   "id": "266e7692",
   "metadata": {},
   "outputs": [],
   "source": []
  },
  {
   "cell_type": "code",
   "execution_count": null,
   "id": "29d3cfa6",
   "metadata": {},
   "outputs": [],
   "source": []
  }
 ],
 "metadata": {
  "kernelspec": {
   "display_name": "Python 3 (ipykernel)",
   "language": "python",
   "name": "python3"
  },
  "language_info": {
   "codemirror_mode": {
    "name": "ipython",
    "version": 3
   },
   "file_extension": ".py",
   "mimetype": "text/x-python",
   "name": "python",
   "nbconvert_exporter": "python",
   "pygments_lexer": "ipython3",
   "version": "3.9.7"
  }
 },
 "nbformat": 4,
 "nbformat_minor": 5
}
