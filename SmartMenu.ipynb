{
 "cells": [
  {
   "cell_type": "code",
   "execution_count": 213,
   "id": "5c8e1741",
   "metadata": {
    "pycharm": {
     "name": "#%%\n"
    }
   },
   "outputs": [],
   "source": [
    "import random\n",
    "import string\n",
    "import numpy as np\n",
    "import pandas as pd\n",
    "from tabulate import tabulate"
   ]
  },
  {
   "cell_type": "markdown",
   "id": "efd3a88f",
   "metadata": {
    "pycharm": {
     "name": "#%% md\n"
    }
   },
   "source": [
    "### Config"
   ]
  },
  {
   "cell_type": "code",
   "execution_count": 214,
   "outputs": [],
   "source": [
    "DISH_COUNT = 300\n",
    "MIN_CALORIES_PER_DISH = 100\n",
    "MAX_CALORIES_PER_DISH = 1200\n",
    "CALORIES_PER_DAY = 2000\n",
    "DAYS_PER_MENU = 7\n",
    "DISHES_PER_DAY = 3\n",
    "\n",
    "PENALTY = 400\n",
    "POPULATION_SIZE = 20\n",
    "MATING_POPULATION_SIZE = 10\n",
    "ITERATIONS = 3000\n",
    "\n",
    "REAL_DATA = True"
   ],
   "metadata": {
    "collapsed": false,
    "pycharm": {
     "name": "#%%\n"
    }
   }
  },
  {
   "cell_type": "markdown",
   "source": [
    "#### Helper functions"
   ],
   "metadata": {
    "collapsed": false,
    "pycharm": {
     "name": "#%% md\n"
    }
   }
  },
  {
   "cell_type": "code",
   "execution_count": 215,
   "outputs": [],
   "source": [
    "def visualize_menu(menu):\n",
    "    print(\"Score: \" + str(score_menu(menu)))\n",
    "    headers = [\"Day\", \"Calories\", \"Dishes\"]\n",
    "    calories = count_calories_per_day(menu)\n",
    "    table = []\n",
    "    for day in range(DAYS_PER_MENU):\n",
    "        table.append([day, calories[day], menu[day]])\n",
    "    print(tabulate(table, headers, tablefmt=\"fancy_grid\"))"
   ],
   "metadata": {
    "collapsed": false,
    "pycharm": {
     "name": "#%%\n"
    }
   }
  },
  {
   "cell_type": "markdown",
   "source": [
    "#### Test data"
   ],
   "metadata": {
    "collapsed": false,
    "pycharm": {
     "name": "#%% md\n"
    }
   }
  },
  {
   "cell_type": "code",
   "execution_count": 216,
   "outputs": [],
   "source": [
    "def fake_data():\n",
    "    dishes = {}\n",
    "    for _ in range(DISH_COUNT):\n",
    "        name = ''.join(random.choices(string.ascii_lowercase, k=6))\n",
    "        dishes[name] = random.randint(MIN_CALORIES_PER_DISH, MAX_CALORIES_PER_DISH)\n",
    "    dishes = list(dishes.items())\n",
    "    return dishes"
   ],
   "metadata": {
    "collapsed": false,
    "pycharm": {
     "name": "#%%\n"
    }
   }
  },
  {
   "cell_type": "markdown",
   "source": [
    "#### Real data"
   ],
   "metadata": {
    "collapsed": false,
    "pycharm": {
     "name": "#%% md\n"
    }
   }
  },
  {
   "cell_type": "code",
   "execution_count": 217,
   "outputs": [],
   "source": [
    "def real_data():\n",
    "    dishes = {}\n",
    "    data = pd.read_csv('data.csv', delimiter=',', encoding='utf-8', low_memory=False)\n",
    "    df = pd.DataFrame(data, columns=['name', 'Food Group', \"calories_portion\"])\n",
    "\n",
    "    while len(dishes) != DISH_COUNT:\n",
    "        random_choice = df.sample()\n",
    "        if MIN_CALORIES_PER_DISH < random_choice.calories_portion.values[0] < MAX_CALORIES_PER_DISH:\n",
    "            dishes[random_choice.name.values[0]] = random_choice.calories_portion.values[0]\n",
    "    dishes = list(dishes.items())\n",
    "    return dishes"
   ],
   "metadata": {
    "collapsed": false,
    "pycharm": {
     "name": "#%%\n"
    }
   }
  },
  {
   "cell_type": "code",
   "execution_count": 218,
   "outputs": [
    {
     "name": "stdout",
     "output_type": "stream",
     "text": [
      "('Spaghetti Sauce With Meat And Added Vegetables', 218.4)\n",
      "('Eggnog Lowfat / Light', 189.44)\n",
      "('Double Bacon Cheeseburger 2 Medium Patties With Condiments On Bun From Fast Food / Restaurant', 907.85)\n",
      "('Cod Baked Or Broiled Made Without Fat', 147.9)\n",
      "('Whiting Cooked Ns As To Cooking Method', 249.73)\n",
      "('Lamb Domestic Shoulder Arm Separable Lean And Fat Trimmed To 1/4 Inch Fat Choice Cooked Roasted', 237.15)\n",
      "('Beans Yellow Mature Seeds Raw', 676.2)\n"
     ]
    }
   ],
   "source": [
    "dishes = {}\n",
    "if REAL_DATA:\n",
    "    dishes = real_data()\n",
    "else:\n",
    "    dishes = fake_data()\n",
    "print(*dishes[:7], sep='\\n')"
   ],
   "metadata": {
    "collapsed": false,
    "pycharm": {
     "name": "#%%\n"
    }
   }
  },
  {
   "cell_type": "markdown",
   "source": [
    "#### Sample random menu"
   ],
   "metadata": {
    "collapsed": false,
    "pycharm": {
     "name": "#%% md\n"
    }
   }
  },
  {
   "cell_type": "code",
   "execution_count": 219,
   "outputs": [],
   "source": [
    "def create_random_menu():\n",
    "    menu = np.ndarray((7, 3), tuple)\n",
    "    for day in range(DAYS_PER_MENU):\n",
    "        for dish_index in range(DISHES_PER_DAY):\n",
    "            menu[day, dish_index] = random.choice(dishes)\n",
    "    return menu"
   ],
   "metadata": {
    "collapsed": false,
    "pycharm": {
     "name": "#%%\n"
    }
   }
  },
  {
   "cell_type": "code",
   "execution_count": 220,
   "outputs": [],
   "source": [
    "def count_calories_per_day(menu):\n",
    "    calories = []\n",
    "    for day in range(DAYS_PER_MENU):\n",
    "        calories.append(0)\n",
    "        for dish_index in range(DISHES_PER_DAY):\n",
    "            calories[-1] += menu[day, dish_index][1]\n",
    "\n",
    "    return calories\n",
    "\n",
    "\n",
    "def count_attr_per_day(menu):\n",
    "    names = np.reshape(menu, 21)\n",
    "    unique, counts = np.unique(names, return_counts=True)\n",
    "    names_dict = dict(zip(unique, counts))\n",
    "\n",
    "    attr = []\n",
    "    for day in range(DAYS_PER_MENU):\n",
    "        attr.append(0)\n",
    "        for dish_index in range(DISHES_PER_DAY):\n",
    "            attr[-1] += (names_dict[menu[day, dish_index]] - 1) * PENALTY\n",
    "\n",
    "    return attr\n",
    "\n",
    "\n",
    "def score_menu(menu):\n",
    "    differences = [calories - CALORIES_PER_DAY for calories in count_calories_per_day(menu)]\n",
    "    penalty = [attr ** 2 for attr in count_attr_per_day(menu)]\n",
    "    squares = [calories ** 2 for calories in differences]\n",
    "\n",
    "    return sum(squares + penalty)\n",
    "\n",
    "\n",
    "def check_duplications(menu):\n",
    "    names = np.reshape(menu, 21)\n",
    "    unique, counts = np.unique(names, return_counts=True)\n",
    "    is_repeating = dict(zip(unique, counts))\n",
    "\n",
    "    for elem in is_repeating:\n",
    "        if is_repeating[elem] > 2:\n",
    "            print(\"duplicants detected\")\n",
    "            return\n",
    "    print(\"No duplicants\")"
   ],
   "metadata": {
    "collapsed": false,
    "pycharm": {
     "name": "#%%\n"
    }
   }
  },
  {
   "cell_type": "code",
   "execution_count": 221,
   "outputs": [
    {
     "name": "stdout",
     "output_type": "stream",
     "text": [
      "Score: 9544128.046775999\n",
      "╒═══════╤════════════╤══════════════════════════════════════════════════════════════════════════════════════════════════════════════════════════════════════════╕\n",
      "│   Day │   Calories │ Dishes                                                                                                                                   │\n",
      "╞═══════╪════════════╪══════════════════════════════════════════════════════════════════════════════════════════════════════════════════════════════════════════╡\n",
      "│     0 │    821.84  │ [('Salmon Coated Fried Made With Oil', 430.1)                                                                                            │\n",
      "│       │            │  ('Eggnog Lowfat / Light', 189.44)                                                                                                       │\n",
      "│       │            │  ('Veal Leg (Top Round) Separable Lean And Fat Cooked Pan-Fried Breaded', 202.3)]                                                        │\n",
      "├───────┼────────────┼──────────────────────────────────────────────────────────────────────────────────────────────────────────────────────────────────────────┤\n",
      "│     1 │    581.024 │ [('Oil Oat', 120.224)                                                                                                                    │\n",
      "│       │            │  ('Bread Naan Plain Commercially Prepared Refrigerated', 261.9)                                                                          │\n",
      "│       │            │  ('Chicken Broilers Or Fryers Meat And Skin And Giblets And Neck Roasted', 198.9)]                                                       │\n",
      "├───────┼────────────┼──────────────────────────────────────────────────────────────────────────────────────────────────────────────────────────────────────────┤\n",
      "│     2 │    618.74  │ [('Lamb New Zealand Imported Frozen Leg Whole (Shank And Sirloin) Separable Lean And Fat Trimmed To 1/8 Inch Fat Cooked Roasted', 198.9) │\n",
      "│       │            │  ('Cooked Small White Beans', 254.18)                                                                                                    │\n",
      "│       │            │  ('Chicken Broilers Or Fryers Skin Only Cooked Fried Flour', 165.66)]                                                                    │\n",
      "├───────┼────────────┼──────────────────────────────────────────────────────────────────────────────────────────────────────────────────────────────────────────┤\n",
      "│     3 │    957.47  │ [('Soft Pretzels (Salted)', 483.34) ('Rice Brown With Beans', 360.89)                                                                    │\n",
      "│       │            │  ('Stuffed Tomato With Rice Meatless', 113.24)]                                                                                          │\n",
      "├───────┼────────────┼──────────────────────────────────────────────────────────────────────────────────────────────────────────────────────────────────────────┤\n",
      "│     4 │    812.23  │ [('Burger King French Fries', 207.2)                                                                                                     │\n",
      "│       │            │  ('Rice White Cooked Ns As To Fat Added In Cooking', 210.27)                                                                             │\n",
      "│       │            │  ('Turkey Tetrazzini Frozen Meal', 394.76)]                                                                                              │\n",
      "├───────┼────────────┼──────────────────────────────────────────────────────────────────────────────────────────────────────────────────────────────────────────┤\n",
      "│     5 │    977.16  │ [('Spaghetti Sauce With Meat And Added Vegetables', 218.4)                                                                               │\n",
      "│       │            │  ('Cheddar Cheese', 531.96)                                                                                                              │\n",
      "│       │            │  ('Chicken Drumstick Sauteed Skin Not Eaten', 226.8)]                                                                                    │\n",
      "├───────┼────────────┼──────────────────────────────────────────────────────────────────────────────────────────────────────────────────────────────────────────┤\n",
      "│     6 │   1168.84  │ [('Burger King Original Chicken Sandwich', 569.14)                                                                                       │\n",
      "│       │            │  ('Chicken Or Turkey Salad Made With Light Mayonnaise', 327.7)                                                                           │\n",
      "│       │            │  ('Salmon Baked Or Broiled Made Without Fat', 272.0)]                                                                                    │\n",
      "╘═══════╧════════════╧══════════════════════════════════════════════════════════════════════════════════════════════════════════════════════════════════════════╛\n"
     ]
    }
   ],
   "source": [
    "sample_menu = create_random_menu()\n",
    "visualize_menu(sample_menu)"
   ],
   "metadata": {
    "collapsed": false,
    "pycharm": {
     "name": "#%%\n"
    }
   }
  },
  {
   "cell_type": "markdown",
   "source": [
    "### Algorithm"
   ],
   "metadata": {
    "collapsed": false,
    "pycharm": {
     "name": "#%% md\n"
    }
   }
  },
  {
   "cell_type": "code",
   "execution_count": 222,
   "outputs": [],
   "source": [
    "def crossover(first_menu, second_menu):\n",
    "    child = first_menu.copy()\n",
    "    for day_index in range(DAYS_PER_MENU):\n",
    "        if random.choice((0, 1)) == 1:\n",
    "            child[day_index] = second_menu[day_index]\n",
    "    return child\n",
    "\n",
    "\n",
    "def random_mutate(menu):\n",
    "    menu[random.randint(0, DAYS_PER_MENU - 1), random.randint(0, DISHES_PER_DAY - 1)] = random.choice(dishes)\n",
    "    return menu\n",
    "\n",
    "\n",
    "def swap_mutate(menu):\n",
    "    first_day_index = random.randint(0, DAYS_PER_MENU - 1)\n",
    "    second_day_index = random.randint(0, DAYS_PER_MENU - 1)\n",
    "    dish_index = random.randint(0, DISHES_PER_DAY - 1)\n",
    "    menu[first_day_index, dish_index], menu[second_day_index, dish_index] = menu[second_day_index, dish_index], menu[\n",
    "        first_day_index, dish_index]\n",
    "    return menu"
   ],
   "metadata": {
    "collapsed": false,
    "pycharm": {
     "name": "#%%\n"
    }
   }
  },
  {
   "cell_type": "code",
   "execution_count": 223,
   "outputs": [],
   "source": [
    "def initial_population():\n",
    "    population = []\n",
    "    for _ in range(POPULATION_SIZE):\n",
    "        population.append(create_random_menu())\n",
    "    return population"
   ],
   "metadata": {
    "collapsed": false,
    "pycharm": {
     "name": "#%%\n"
    }
   }
  },
  {
   "cell_type": "code",
   "execution_count": 230,
   "outputs": [],
   "source": [
    "def genetic_algorithm():\n",
    "    population = initial_population()\n",
    "    for i in range(ITERATIONS):\n",
    "        population.sort(key=score_menu)\n",
    "        mating_population = population[:MATING_POPULATION_SIZE]\n",
    "\n",
    "        offspring_population = []\n",
    "        for _ in range(POPULATION_SIZE - MATING_POPULATION_SIZE):\n",
    "            offspring_population.append(crossover(random.choice(mating_population), random.choice(mating_population)))\n",
    "            if random.random() < 0.1:\n",
    "                offspring_population[-1] = random_mutate(offspring_population[-1])\n",
    "            if random.random() < 0.1:\n",
    "                offspring_population[-1] = swap_mutate(offspring_population[-1])\n",
    "\n",
    "        population = mating_population + offspring_population\n",
    "\n",
    "    population.sort(key=score_menu)\n",
    "    best_individual, worst_individual = population[0], population[-1]\n",
    "\n",
    "    return best_individual, worst_individual"
   ],
   "metadata": {
    "collapsed": false,
    "pycharm": {
     "name": "#%%\n"
    }
   }
  },
  {
   "cell_type": "markdown",
   "source": [
    "### Example"
   ],
   "metadata": {
    "collapsed": false,
    "pycharm": {
     "name": "#%% md\n"
    }
   }
  },
  {
   "cell_type": "code",
   "execution_count": 231,
   "outputs": [
    {
     "name": "stdout",
     "output_type": "stream",
     "text": [
      "Score: 54525.16129999991\n",
      "╒═══════╤════════════╤══════════════════════════════════════════════════════════════════════════════════════════════════════════════════════════════════════════════════╕\n",
      "│   Day │   Calories │ Dishes                                                                                                                                           │\n",
      "╞═══════╪════════════╪══════════════════════════════════════════════════════════════════════════════════════════════════════════════════════════════════════════════════╡\n",
      "│     0 │    1886.86 │ [('Beans Yellow Mature Seeds Raw', 676.2) ('Crisp Blueberry', 629.76)                                                                            │\n",
      "│       │            │  ('Cornmeal Degermed Enriched White', 580.9)]                                                                                                    │\n",
      "├───────┼────────────┼──────────────────────────────────────────────────────────────────────────────────────────────────────────────────────────────────────────────────┤\n",
      "│     1 │    1896.09 │ [('Beans Black Mature Seeds Raw', 661.54)                                                                                                        │\n",
      "│       │            │  ('Olive Garden Chicken Parmigiana Without Pasta', 641.44)                                                                                       │\n",
      "│       │            │  ('Veal Cordon Bleu', 593.11)]                                                                                                                   │\n",
      "├───────┼────────────┼──────────────────────────────────────────────────────────────────────────────────────────────────────────────────────────────────────────────────┤\n",
      "│     2 │    1943.4  │ [('Double Bacon Cheeseburger 2 Small Patties With Condiments On Bun From Fast Food / Restaurant (Burger King Bacon Double Cheeseburger)', 510.0) │\n",
      "│       │            │  ('Semolina Enriched', 601.2) ('Peanuts Valencia Raw', 832.2)]                                                                                   │\n",
      "├───────┼────────────┼──────────────────────────────────────────────────────────────────────────────────────────────────────────────────────────────────────────────────┤\n",
      "│     3 │    1881.82 │ [('Burger King Original Chicken Sandwich', 569.14)                                                                                               │\n",
      "│       │            │  ('Trail Mix With Pretzels Cereal Or Granola', 662.2)                                                                                            │\n",
      "│       │            │  ('Couscous Dry', 650.48)]                                                                                                                       │\n",
      "├───────┼────────────┼──────────────────────────────────────────────────────────────────────────────────────────────────────────────────────────────────────────────────┤\n",
      "│     4 │    1948.76 │ [('Double Bacon Cheeseburger 2 Medium Patties With Condiments On Bun From Fast Food / Restaurant', 907.85)                                       │\n",
      "│       │            │  ('Funnel Cake With Sugar And Fruit', 508.95) ('Cheddar Cheese', 531.96)]                                                                        │\n",
      "├───────┼────────────┼──────────────────────────────────────────────────────────────────────────────────────────────────────────────────────────────────────────────────┤\n",
      "│     5 │    1898.06 │ [('Popcorn Movie Theater With Added Butter', 551.04)                                                                                             │\n",
      "│       │            │  ('Corn Grain White', 605.9) ('Quiche With Meat Poultry Or Fish', 741.12)]                                                                       │\n",
      "├───────┼────────────┼──────────────────────────────────────────────────────────────────────────────────────────────────────────────────────────────────────────────────┤\n",
      "│     6 │    1972.8  │ [('Cheese Spread Cream Cheese Light Or Lite', 482.4)                                                                                             │\n",
      "│       │            │  ('Egg Cheese And Bacon On Bagel', 590.4)                                                                                                        │\n",
      "│       │            │  ('Butter Clarified Butter (Ghee)', 900.0)]                                                                                                      │\n",
      "╘═══════╧════════════╧══════════════════════════════════════════════════════════════════════════════════════════════════════════════════════════════════════════════════╛\n",
      "No duplicants\n"
     ]
    }
   ],
   "source": [
    "best_individual, worst_individual = genetic_algorithm()\n",
    "visualize_menu(best_individual)\n",
    "check_duplications(best_individual)"
   ],
   "metadata": {
    "collapsed": false,
    "pycharm": {
     "name": "#%%\n"
    }
   }
  },
  {
   "cell_type": "markdown",
   "source": [
    "### Experiments"
   ],
   "metadata": {
    "collapsed": false,
    "pycharm": {
     "name": "#%% md\n"
    }
   }
  },
  {
   "cell_type": "code",
   "execution_count": 234,
   "outputs": [
    {
     "name": "stdout",
     "output_type": "stream",
     "text": [
      "48380.20749999996 439263.25719999993\n",
      "50922.72989999996 425610.8519\n"
     ]
    }
   ],
   "source": [
    "PENALTY = 400\n",
    "POPULATION_SIZE = 20\n",
    "MATING_POPULATION_SIZE = 10\n",
    "ITERATIONS = 3000\n",
    "best_individual, worst_individual = genetic_algorithm()\n",
    "print(score_menu(best_individual), score_menu(worst_individual))"
   ],
   "metadata": {
    "collapsed": false,
    "pycharm": {
     "name": "#%%\n"
    }
   }
  },
  {
   "cell_type": "code",
   "execution_count": 229,
   "outputs": [],
   "source": [],
   "metadata": {
    "collapsed": false,
    "pycharm": {
     "name": "#%%\n"
    }
   }
  },
  {
   "cell_type": "code",
   "execution_count": null,
   "outputs": [],
   "source": [],
   "metadata": {
    "collapsed": false,
    "pycharm": {
     "name": "#%%\n"
    }
   }
  }
 ],
 "metadata": {
  "kernelspec": {
   "display_name": "Python 3 (ipykernel)",
   "language": "python",
   "name": "python3"
  },
  "language_info": {
   "codemirror_mode": {
    "name": "ipython",
    "version": 3
   },
   "file_extension": ".py",
   "mimetype": "text/x-python",
   "name": "python",
   "nbconvert_exporter": "python",
   "pygments_lexer": "ipython3",
   "version": "3.10.4"
  }
 },
 "nbformat": 4,
 "nbformat_minor": 5
}