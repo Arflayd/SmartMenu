{
 "cells": [
  {
   "cell_type": "code",
   "execution_count": 203,
   "id": "5c8e1741",
   "metadata": {
    "pycharm": {
     "name": "#%%\n"
    }
   },
   "outputs": [],
   "source": [
    "import random\n",
    "import string\n",
    "import numpy as np\n",
    "import pandas as pd\n",
    "from tabulate import tabulate"
   ]
  },
  {
   "cell_type": "markdown",
   "id": "efd3a88f",
   "metadata": {
    "pycharm": {
     "name": "#%% md\n"
    }
   },
   "source": [
    "### Config"
   ]
  },
  {
   "cell_type": "code",
   "execution_count": 257,
   "id": "c0a9f15f",
   "metadata": {
    "pycharm": {
     "name": "#%%\n"
    }
   },
   "outputs": [],
   "source": [
    "# How many dishes are available and in what range of calories\n",
    "DISH_COUNT = 300\n",
    "MIN_CALORIES_PER_DISH = 100\n",
    "MAX_CALORIES_PER_DISH = 1500\n",
    "\n",
    "# User config - how many days, how many dishes per day, how many calories per day\n",
    "DAYS_PER_MENU = 7\n",
    "DISHES_PER_DAY = 3\n",
    "CALORIES_PER_DAY = 2000\n",
    "# Penalty for dishes repaeating during the week\n",
    "PENALTY = 800\n",
    "\n",
    "# Genetic algorithm config\n",
    "POPULATION_SIZE = 20\n",
    "MATING_POPULATION_SIZE = 10\n",
    "ITERATIONS = 1000"
   ]
  },
  {
   "cell_type": "markdown",
   "id": "a5a4e843",
   "metadata": {
    "pycharm": {
     "name": "#%% md\n"
    }
   },
   "source": [
    "#### Helper functions"
   ]
  },
  {
   "cell_type": "code",
   "execution_count": 258,
   "id": "055b00d4",
   "metadata": {
    "pycharm": {
     "name": "#%%\n"
    }
   },
   "outputs": [],
   "source": [
    "def visualize_menu(menu):\n",
    "    print(\"Score: \" + str(score_menu(menu)))\n",
    "    headers = [\"Day\", \"Calories\", \"Dishes\"]\n",
    "    calories = count_calories_per_day(menu)\n",
    "    table = []\n",
    "    for day in range(DAYS_PER_MENU):\n",
    "        table.append([day, calories[day], menu[day]])\n",
    "    print(tabulate(table, headers, tablefmt=\"fancy_grid\"))"
   ]
  },
  {
   "cell_type": "markdown",
   "id": "0ad4269a",
   "metadata": {
    "pycharm": {
     "name": "#%% md\n"
    }
   },
   "source": [
    "#### Real data"
   ]
  },
  {
   "cell_type": "code",
   "execution_count": 259,
   "id": "4c55caa9",
   "metadata": {
    "pycharm": {
     "name": "#%%\n"
    }
   },
   "outputs": [
    {
     "name": "stdout",
     "output_type": "stream",
     "text": [
      "('Palm Hearts Cooked Assume Fat Not Added In Cooking', 166.44)\n",
      "('Red Kidney Beans Canned Drained Made With Oil', 338.4)\n",
      "('Cheese Sandwich American Cheese On White Bread No Spread', 288.66)\n",
      "('Rice Fried With Pork', 354.42)\n",
      "('Beef Chuck Under Blade Pot Roast Or Steak Boneless Separable Lean Only Trimmed To 0 Inch Fat Choice Raw', 123.25)\n",
      "('Pie Pecan Commercially Prepared', 115.588)\n",
      "('Parsnips Creamed', 239.4)\n"
     ]
    }
   ],
   "source": [
    "dishes = {}\n",
    "data = pd.read_csv('data.csv', delimiter=',', encoding='utf-8', low_memory=False)\n",
    "df = pd.DataFrame(data, columns=['name', 'Food Group', \"calories_portion\"])\n",
    "\n",
    "while len(dishes) != DISH_COUNT:\n",
    "    random_choice = df.sample()\n",
    "    if MIN_CALORIES_PER_DISH < random_choice.calories_portion.values[0] < MAX_CALORIES_PER_DISH:\n",
    "        dishes[random_choice.name.values[0]] = random_choice.calories_portion.values[0]\n",
    "dishes = list(dishes.items())\n",
    "print(*dishes[:7], sep='\\n')"
   ]
  },
  {
   "cell_type": "markdown",
   "id": "654fbb0a",
   "metadata": {
    "pycharm": {
     "name": "#%% md\n"
    }
   },
   "source": [
    "#### Sample random menu"
   ]
  },
  {
   "cell_type": "code",
   "execution_count": 260,
   "id": "e70a5ab3",
   "metadata": {
    "pycharm": {
     "name": "#%%\n"
    }
   },
   "outputs": [],
   "source": [
    "def create_random_menu():\n",
    "    menu = np.ndarray((DAYS_PER_MENU, DISHES_PER_DAY), tuple)\n",
    "    for day in range(DAYS_PER_MENU):\n",
    "        for dish_index in range(DISHES_PER_DAY):\n",
    "            menu[day, dish_index] = random.choice(dishes)\n",
    "    return menu"
   ]
  },
  {
   "cell_type": "code",
   "execution_count": 261,
   "id": "eefe5341",
   "metadata": {
    "pycharm": {
     "name": "#%%\n"
    }
   },
   "outputs": [],
   "source": [
    "def count_calories_per_day(menu):\n",
    "\n",
    "    calories = []\n",
    "    for day in range(DAYS_PER_MENU):\n",
    "        calories.append(0)\n",
    "        for dish_index in range(DISHES_PER_DAY):\n",
    "            calories[-1] += menu[day, dish_index][1]\n",
    "    \n",
    "    return calories\n",
    "\n",
    "def count_duplicates_per_day(menu):\n",
    "    \n",
    "    names = np.reshape(menu, DAYS_PER_MENU * DISHES_PER_DAY)\n",
    "    unique, counts = np.unique(names, return_counts=True)\n",
    "    return 0 if max(counts) == 1 else max(counts)\n",
    "\n",
    "def score_menu(menu):\n",
    "    \n",
    "    differences = [calories - CALORIES_PER_DAY for calories in count_calories_per_day(menu)]\n",
    "    squares = [calories ** 2 for calories in differences]\n",
    "    \n",
    "    return sum(squares) + (count_duplicates_per_day(menu) * PENALTY) ** 2"
   ]
  },
  {
   "cell_type": "code",
   "execution_count": 262,
   "id": "81fcd157",
   "metadata": {
    "pycharm": {
     "name": "#%%\n"
    }
   },
   "outputs": [
    {
     "name": "stdout",
     "output_type": "stream",
     "text": [
      "Score: 14544040.553599998\n",
      "╒═══════╤════════════╤════════════════════════════════════════════════════════════════════════════════════════════════════════════════════════════════════╕\n",
      "│   Day │   Calories │ Dishes                                                                                                                             │\n",
      "╞═══════╪════════════╪════════════════════════════════════════════════════════════════════════════════════════════════════════════════════════════════════╡\n",
      "│     0 │     599.36 │ [('Mixed Vegetables Cooked From Canned Made With Butter', 127.16)                                                                  │\n",
      "│       │            │  ('Caribou Eye Raw (Alaska Native)', 326.0)                                                                                        │\n",
      "│       │            │  ('Turkey Fryer-Roasters Meat And Skin Cooked Roasted', 146.2)]                                                                    │\n",
      "├───────┼────────────┼────────────────────────────────────────────────────────────────────────────────────────────────────────────────────────────────────┤\n",
      "│     1 │     656.96 │ [('Lamb Liver (Cooked)', 202.3) ('Meatballs Frozen Italian Style', 243.1)                                                          │\n",
      "│       │            │  ('School Lunch Chicken Patty Whole Grain Breaded', 211.56)]                                                                       │\n",
      "├───────┼────────────┼────────────────────────────────────────────────────────────────────────────────────────────────────────────────────────────────────┤\n",
      "│     2 │    1000.36 │ [('Mackerel Coated Fried', 520.2)                                                                                                  │\n",
      "│       │            │  ('Beef Rib Small End (Ribs 10-12) Separable Lean And Fat Trimmed To 1/8 Inch Fat Choice Cooked Broiled', 258.4)                   │\n",
      "│       │            │  ('Dirty Rice', 221.76)]                                                                                                           │\n",
      "├───────┼────────────┼────────────────────────────────────────────────────────────────────────────────────────────────────────────────────────────────────┤\n",
      "│     3 │     896.66 │ [('Egg Omelet Or Scrambled Egg With Cheese Meat And Vegetables Other Than Dark-Green And/or Tomatoes Fat Added In Cooking', 171.0) │\n",
      "│       │            │  ('Grilled Cheese Sandwich American Cheese On White Bread', 378.16)                                                                │\n",
      "│       │            │  ('Pasta Whole Grain With Cream Sauce Poultry And Added Vegetables Home Recipe', 347.5)]                                           │\n",
      "├───────┼────────────┼────────────────────────────────────────────────────────────────────────────────────────────────────────────────────────────────────┤\n",
      "│     4 │     570.74 │ [('Bread Sunflower Meal', 304.0)                                                                                                   │\n",
      "│       │            │  ('Fruit Cocktail (Peach And Pineapple And Pear And Grape And Cherry) Canned Light Syrup Solids And Liquids', 137.94)              │\n",
      "│       │            │  ('Fruit Juice Smoothie Bolthouse Farms Green Goodness', 128.8)]                                                                   │\n",
      "├───────┼────────────┼────────────────────────────────────────────────────────────────────────────────────────────────────────────────────────────────────┤\n",
      "│     5 │     456.86 │ [('Ratatouille', 139.1) ('Ostrich Outside Strip Raw', 102.0)                                                                       │\n",
      "│       │            │  ('Beef Loin Top Sirloin Filet Boneless Separable Lean Only Trimmed To 0 Inch Fat Choice Cooked Grilled', 215.76)]                 │\n",
      "├───────┼────────────┼────────────────────────────────────────────────────────────────────────────────────────────────────────────────────────────────────┤\n",
      "│     6 │     743.9  │ [('Chicken And Vegetables In Cream Or White Sauce Diet Frozen Meal', 244.8)                                                        │\n",
      "│       │            │  ('Ratatouille', 139.1) ('Coffee Creamer Liquid Fat Free Flavored', 360.0)]                                                        │\n",
      "╘═══════╧════════════╧════════════════════════════════════════════════════════════════════════════════════════════════════════════════════════════════════╛\n"
     ]
    }
   ],
   "source": [
    "sample_menu = create_random_menu()\n",
    "visualize_menu(sample_menu)"
   ]
  },
  {
   "cell_type": "code",
   "execution_count": 263,
   "id": "d0df3f87",
   "metadata": {
    "pycharm": {
     "name": "#%%\n"
    }
   },
   "outputs": [],
   "source": [
    "def crossover(first_menu, second_menu):\n",
    "    child = first_menu.copy()\n",
    "    for day_index in range(DAYS_PER_MENU):\n",
    "        if random.choice((0, 1)) == 1:\n",
    "            child[day_index] = second_menu[day_index]\n",
    "    return child\n",
    "\n",
    "\n",
    "def random_mutate(menu):\n",
    "    menu[random.randint(0, DAYS_PER_MENU - 1), random.randint(0, DISHES_PER_DAY - 1)] = random.choice(dishes)\n",
    "    return menu\n",
    "\n",
    "\n",
    "def swap_mutate(menu):\n",
    "    first_day_index = random.randint(0, DAYS_PER_MENU - 1)\n",
    "    second_day_index = random.randint(0, DAYS_PER_MENU - 1)\n",
    "    dish_index = random.randint(0, DISHES_PER_DAY - 1)\n",
    "    menu[first_day_index, dish_index], menu[second_day_index, dish_index] = menu[second_day_index, dish_index], menu[\n",
    "        first_day_index, dish_index]\n",
    "    return menu"
   ]
  },
  {
   "cell_type": "code",
   "execution_count": 264,
   "id": "aceb5dbd",
   "metadata": {
    "pycharm": {
     "name": "#%%\n"
    }
   },
   "outputs": [],
   "source": [
    "population = []\n",
    "for _ in range(POPULATION_SIZE):\n",
    "    population.append(create_random_menu())"
   ]
  },
  {
   "cell_type": "code",
   "execution_count": 265,
   "id": "89b343e3",
   "metadata": {
    "pycharm": {
     "name": "#%%\n"
    }
   },
   "outputs": [],
   "source": [
    "for i in range(ITERATIONS):\n",
    "    population.sort(key=score_menu)\n",
    "    mating_population = population[:MATING_POPULATION_SIZE]\n",
    "\n",
    "    offspring_population = []\n",
    "    for _ in range(POPULATION_SIZE - MATING_POPULATION_SIZE):\n",
    "        offspring_population.append(crossover(random.choice(mating_population), random.choice(mating_population)))\n",
    "        if random.random() < 0.1:\n",
    "            offspring_population[-1] = random_mutate(offspring_population[-1])\n",
    "        if random.random() < 0.1:\n",
    "            offspring_population[-1] = swap_mutate(offspring_population[-1])\n",
    "\n",
    "    population = mating_population + offspring_population"
   ]
  },
  {
   "cell_type": "code",
   "execution_count": 266,
   "id": "dcb47bfe",
   "metadata": {
    "pycharm": {
     "name": "#%%\n"
    }
   },
   "outputs": [
    {
     "name": "stdout",
     "output_type": "stream",
     "text": [
      "Score: 62174.83739999996\n",
      "╒═══════╤════════════╤══════════════════════════════════════════════════════════════════════════════════════════════════════════════════════════════════════════════════════════╕\n",
      "│   Day │   Calories │ Dishes                                                                                                                                                   │\n",
      "╞═══════╪════════════╪══════════════════════════════════════════════════════════════════════════════════════════════════════════════════════════════════════════════════════════╡\n",
      "│     0 │    1841.19 │ [('Sugar Brown And Water Syrup', 747.78)                                                                                                                 │\n",
      "│       │            │  ('Seeds Breadnut Tree Seeds Dried', 587.2) ('Beef Pot Pie', 506.21)]                                                                                    │\n",
      "├───────┼────────────┼──────────────────────────────────────────────────────────────────────────────────────────────────────────────────────────────────────────────────────────┤\n",
      "│     1 │    2005.25 │ [('Frankfurter Or Hot Dog Sandwich Beef Plain On Whole Grain White Bun', 303.96)                                                                         │\n",
      "│       │            │  ('Margarine-Like Spread Liquid Salted', 1196.29)                                                                                                        │\n",
      "│       │            │  ('Pasta With Cream Sauce Restaurant', 505.0)]                                                                                                           │\n",
      "├───────┼────────────┼──────────────────────────────────────────────────────────────────────────────────────────────────────────────────────────────────────────────────────────┤\n",
      "│     2 │    1876.94 │ [('Soybeans Mature Seeds Roasted Salted', 806.68)                                                                                                        │\n",
      "│       │            │  ('Chicken Or Turkey A La King With Vegetables Including Carrots Broccoli And/or Dark-Green Leafy; No Potatoes Cream White Or Soup-Based Sauce', 448.26) │\n",
      "│       │            │  ('Plum Sauce Asian Style', 622.0)]                                                                                                                      │\n",
      "├───────┼────────────┼──────────────────────────────────────────────────────────────────────────────────────────────────────────────────────────────────────────────────────────┤\n",
      "│     3 │    1996.5  │ [('Nuts Pistachio Nuts Dry Roasted With Salt Added', 699.87)                                                                                             │\n",
      "│       │            │  ('Fried Fish With Sauce Puerto Rican Style', 321.63)                                                                                                    │\n",
      "│       │            │  ('Coleslaw Dressing', 975.0)]                                                                                                                           │\n",
      "├───────┼────────────┼──────────────────────────────────────────────────────────────────────────────────────────────────────────────────────────────────────────────────────────┤\n",
      "│     4 │    1852.94 │ [('Burger King Croissanwich With Sausage And Cheese', 492.56)                                                                                            │\n",
      "│       │            │  ('Chicken With Mole Sauce', 383.08) ('Molasses', 977.3)]                                                                                                │\n",
      "├───────┼────────────┼──────────────────────────────────────────────────────────────────────────────────────────────────────────────────────────────────────────────────────────┤\n",
      "│     5 │    1999.96 │ [('Roasted Squash And Pumpkin Seeds (Unsalted)', 677.32)                                                                                                 │\n",
      "│       │            │  ('Cheese Quiche Meatless', 698.88)                                                                                                                      │\n",
      "│       │            │  ('Beans Black Turtle Mature Seeds Raw', 623.76)]                                                                                                        │\n",
      "├───────┼────────────┼──────────────────────────────────────────────────────────────────────────────────────────────────────────────────────────────────────────────────────────┤\n",
      "│     6 │    1988    │ [('Fruit Syrup', 1138.94) ('Hot Ham And Cheese Sandwich On Bun', 345.06)                                                                                 │\n",
      "│       │            │  ('Cheese Goat', 504.0)]                                                                                                                                 │\n",
      "╘═══════╧════════════╧══════════════════════════════════════════════════════════════════════════════════════════════════════════════════════════════════════════════════════════╛\n",
      "No duplicants\n"
     ]
    }
   ],
   "source": [
    "def check_duplicant(menu):\n",
    "    names = np.reshape(menu, 21)\n",
    "    unique, counts = np.unique(names, return_counts=True)\n",
    "    is_repetable = dict(zip(unique, counts))\n",
    "    \n",
    "    for elem in is_repetable:\n",
    "        if is_repetable[elem] > 1:\n",
    "            print(\"duplicants detected\")\n",
    "            return\n",
    "    print(\"No duplicants\")\n",
    "\n",
    "    \n",
    "population.sort(key=score_menu)\n",
    "visualize_menu(population[0])    \n",
    "check_duplicant(population[0])"
   ]
  },
  {
   "cell_type": "code",
   "execution_count": null,
   "id": "bf633279",
   "metadata": {},
   "outputs": [],
   "source": []
  },
  {
   "cell_type": "code",
   "execution_count": null,
   "id": "266e7692",
   "metadata": {},
   "outputs": [],
   "source": []
  },
  {
   "cell_type": "code",
   "execution_count": null,
   "id": "29d3cfa6",
   "metadata": {},
   "outputs": [],
   "source": []
  }
 ],
 "metadata": {
  "kernelspec": {
   "display_name": "Python 3 (ipykernel)",
   "language": "python",
   "name": "python3"
  },
  "language_info": {
   "codemirror_mode": {
    "name": "ipython",
    "version": 3
   },
   "file_extension": ".py",
   "mimetype": "text/x-python",
   "name": "python",
   "nbconvert_exporter": "python",
   "pygments_lexer": "ipython3",
   "version": "3.8.10"
  }
 },
 "nbformat": 4,
 "nbformat_minor": 5
}
