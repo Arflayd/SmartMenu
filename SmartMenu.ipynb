{
 "cells": [
  {
   "cell_type": "code",
   "execution_count": 1,
   "id": "5c8e1741",
   "metadata": {},
   "outputs": [],
   "source": [
    "import random\n",
    "import string\n",
    "import numpy as np"
   ]
  },
  {
   "cell_type": "markdown",
   "id": "efd3a88f",
   "metadata": {},
   "source": [
    "### Config"
   ]
  },
  {
   "cell_type": "code",
   "execution_count": 2,
   "id": "c0a9f15f",
   "metadata": {},
   "outputs": [],
   "source": [
    "DISH_COUNT = 300\n",
    "MIN_CALORIES_PER_DISH = 100\n",
    "MAX_CALORIES_PER_DISH = 1200\n",
    "\n",
    "DAYS_PER_MENU = 7\n",
    "DISHES_PER_DAY = 3\n",
    "\n",
    "POPULATION_SIZE = 20\n",
    "MATING_POPULATION_SIZE = 10\n",
    "ITERATIONS = 1000\n",
    "\n",
    "CALORIES_PER_DAY = 2000"
   ]
  },
  {
   "cell_type": "markdown",
   "id": "74e9ae5d",
   "metadata": {},
   "source": [
    "#### Test data"
   ]
  },
  {
   "cell_type": "code",
   "execution_count": 3,
   "id": "5aebac52",
   "metadata": {
    "scrolled": true
   },
   "outputs": [
    {
     "name": "stdout",
     "output_type": "stream",
     "text": [
      "[('yjknwx', 186), ('ssbskk', 774), ('twxlia', 691), ('agnmek', 545), ('nucsgd', 809), ('rmkevn', 101), ('easeba', 473)]\n"
     ]
    }
   ],
   "source": [
    "dishes = {}\n",
    "for _ in range(DISH_COUNT):\n",
    "    name = ''.join(random.choices(string.ascii_lowercase, k=6))\n",
    "    dishes[name] = random.randint(MIN_CALORIES_PER_DISH, MAX_CALORIES_PER_DISH)\n",
    "dishes = list(dishes.items())\n",
    "    \n",
    "print(dishes[:7])"
   ]
  },
  {
   "cell_type": "markdown",
   "id": "654fbb0a",
   "metadata": {},
   "source": [
    "#### Sample random menu"
   ]
  },
  {
   "cell_type": "code",
   "execution_count": 4,
   "id": "e70a5ab3",
   "metadata": {},
   "outputs": [],
   "source": [
    "def create_random_menu():\n",
    "    menu = np.ndarray((7,3), tuple)\n",
    "    for day in range(DAYS_PER_MENU):\n",
    "        for dish_index in range(DISHES_PER_DAY):\n",
    "            menu[day, dish_index] = random.choice(dishes)\n",
    "    return menu"
   ]
  },
  {
   "cell_type": "code",
   "execution_count": 5,
   "id": "eefe5341",
   "metadata": {},
   "outputs": [],
   "source": [
    "def count_calories_per_day(menu):\n",
    "    calories = []\n",
    "    for day in range(DAYS_PER_MENU):\n",
    "        calories.append(0)\n",
    "        for dish_index in range(DISHES_PER_DAY):\n",
    "            calories[-1] += menu[day, dish_index][1]\n",
    "    return calories\n",
    "\n",
    "def score_menu(menu):\n",
    "    score = 0\n",
    "    differences = [calories - CALORIES_PER_DAY for calories in count_calories_per_day(menu)]\n",
    "    squares = [calories**2 for calories in differences]\n",
    "    return sum(squares)"
   ]
  },
  {
   "cell_type": "code",
   "execution_count": 6,
   "id": "81fcd157",
   "metadata": {},
   "outputs": [
    {
     "name": "stdout",
     "output_type": "stream",
     "text": [
      "[[('btpith', 223) ('sbvbbr', 1190) ('woibew', 223)]\n",
      " [('zajfsy', 209) ('kqyqvq', 1192) ('sdxjgo', 309)]\n",
      " [('tjurzk', 439) ('pmlbhd', 576) ('pdskxh', 564)]\n",
      " [('ptkweb', 835) ('jeztav', 724) ('oqfszs', 176)]\n",
      " [('mzfyid', 1020) ('xknjxq', 139) ('envogq', 1085)]\n",
      " [('hoqprh', 473) ('gkiqil', 928) ('tjurzk', 439)]\n",
      " [('bqflvi', 138) ('rmukfn', 1166) ('cdjlrz', 1001)]]\n",
      "\n",
      "[1636, 1710, 1579, 1735, 2244, 1840, 2305]\n",
      "score: 642223\n"
     ]
    }
   ],
   "source": [
    "sample_menu = create_random_menu()\n",
    "print(sample_menu)\n",
    "print()\n",
    "print(count_calories_per_day(sample_menu))\n",
    "print(\"score: \" + str(score_menu(sample_menu)))"
   ]
  },
  {
   "cell_type": "code",
   "execution_count": 7,
   "id": "d0df3f87",
   "metadata": {},
   "outputs": [],
   "source": [
    "def crossover(first_menu, second_menu):\n",
    "    child = first_menu.copy()\n",
    "    for day_index in range(DAYS_PER_MENU):\n",
    "        if random.choice((0, 1)) == 1:\n",
    "            child[day_index] = second_menu[day_index]\n",
    "    return child\n",
    "\n",
    "def random_mutate(menu):\n",
    "    menu[random.randint(0, DAYS_PER_MENU-1), random.randint(0, DISHES_PER_DAY-1)] = random.choice(dishes)\n",
    "    return menu\n",
    "    \n",
    "def swap_mutate(menu):\n",
    "    first_day_index = random.randint(0, DAYS_PER_MENU-1)\n",
    "    second_day_index = random.randint(0, DAYS_PER_MENU-1)\n",
    "    dish_index = random.randint(0, DISHES_PER_DAY-1)\n",
    "    menu[first_day_index, dish_index], menu[second_day_index, dish_index] = menu[second_day_index, dish_index], menu[first_day_index, dish_index]\n",
    "    return menu"
   ]
  },
  {
   "cell_type": "code",
   "execution_count": 8,
   "id": "aceb5dbd",
   "metadata": {},
   "outputs": [],
   "source": [
    "population = []\n",
    "for _ in range(POPULATION_SIZE):\n",
    "    population.append(create_random_menu())"
   ]
  },
  {
   "cell_type": "code",
   "execution_count": 9,
   "id": "89b343e3",
   "metadata": {},
   "outputs": [],
   "source": [
    "for i in range(ITERATIONS):\n",
    "    population.sort(key=score_menu)\n",
    "    mating_population = population[:MATING_POPULATION_SIZE]\n",
    "\n",
    "    offspring_population = []\n",
    "    for _ in range(POPULATION_SIZE - MATING_POPULATION_SIZE):\n",
    "        offspring_population.append(crossover(random.choice(mating_population), random.choice(mating_population)))\n",
    "        if random.random() < 0.1:\n",
    "            offspring_population[-1] = random_mutate(offspring_population[-1])\n",
    "        if random.random() < 0.1:\n",
    "            offspring_population[-1] = swap_mutate(offspring_population[-1])\n",
    "\n",
    "    population = mating_population + offspring_population"
   ]
  },
  {
   "cell_type": "code",
   "execution_count": 10,
   "id": "dcb47bfe",
   "metadata": {},
   "outputs": [
    {
     "name": "stdout",
     "output_type": "stream",
     "text": [
      "[[('hcwqie', 124) ('vhgwfc', 864) ('ybswnz', 1017)]\n",
      " [('ypwvxc', 710) ('mcytqw', 423) ('mcaurl', 871)]\n",
      " [('sxpbdx', 911) ('hnogfk', 906) ('qopmnv', 181)]\n",
      " [('sqeise', 704) ('mcytqw', 423) ('mcaurl', 871)]\n",
      " [('mymknv', 978) ('fwuzyl', 838) ('qopmnv', 181)]\n",
      " [('zsgtmt', 712) ('agnmek', 545) ('mqcgtl', 747)]\n",
      " [('gnfvip', 774) ('uebqjr', 455) ('lyhxdu', 771)]]\n",
      "[2005, 2004, 1998, 1998, 1997, 2004, 2000]\n",
      "74\n"
     ]
    }
   ],
   "source": [
    "population.sort(key=score_menu)\n",
    "print(population[0])\n",
    "print(count_calories_per_day(population[0]))\n",
    "print(score_menu(population[0]))"
   ]
  },
  {
   "cell_type": "code",
   "execution_count": null,
   "id": "192222f4",
   "metadata": {},
   "outputs": [],
   "source": []
  },
  {
   "cell_type": "code",
   "execution_count": null,
   "id": "1d218f1a",
   "metadata": {},
   "outputs": [],
   "source": []
  }
 ],
 "metadata": {
  "kernelspec": {
   "display_name": "Python 3 (ipykernel)",
   "language": "python",
   "name": "python3"
  },
  "language_info": {
   "codemirror_mode": {
    "name": "ipython",
    "version": 3
   },
   "file_extension": ".py",
   "mimetype": "text/x-python",
   "name": "python",
   "nbconvert_exporter": "python",
   "pygments_lexer": "ipython3",
   "version": "3.9.7"
  }
 },
 "nbformat": 4,
 "nbformat_minor": 5
}
