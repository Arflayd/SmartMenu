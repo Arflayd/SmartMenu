{
 "cells": [
  {
   "cell_type": "code",
   "execution_count": 55,
   "id": "5c8e1741",
   "metadata": {
    "pycharm": {
     "name": "#%%\n"
    }
   },
   "outputs": [],
   "source": [
    "import random\n",
    "import string\n",
    "import numpy as np\n",
    "import pandas as pd\n",
    "from tabulate import tabulate"
   ]
  },
  {
   "cell_type": "markdown",
   "id": "efd3a88f",
   "metadata": {
    "pycharm": {
     "name": "#%% md\n"
    }
   },
   "source": [
    "### Config"
   ]
  },
  {
   "cell_type": "code",
   "execution_count": 31,
   "id": "c0a9f15f",
   "metadata": {
    "pycharm": {
     "name": "#%%\n"
    }
   },
   "outputs": [],
   "source": [
    "DISH_COUNT = 300\n",
    "MIN_CALORIES_PER_DISH = 100\n",
    "MAX_CALORIES_PER_DISH = 1200\n",
    "\n",
    "DAYS_PER_MENU = 7\n",
    "DISHES_PER_DAY = 3\n",
    "\n",
    "POPULATION_SIZE = 20\n",
    "MATING_POPULATION_SIZE = 10\n",
    "ITERATIONS = 1000\n",
    "\n",
    "CALORIES_PER_DAY = 2000\n",
    "REAL_DATA = True"
   ]
  },
  {
   "cell_type": "markdown",
   "source": [
    "#### Helper functions"
   ],
   "metadata": {
    "collapsed": false,
    "pycharm": {
     "name": "#%% md\n"
    }
   }
  },
  {
   "cell_type": "code",
   "execution_count": 58,
   "outputs": [],
   "source": [
    "def visualize_menu(menu):\n",
    "    print(\"Score: \" + str(score_menu(menu)))\n",
    "    headers = [\"Day\", \"Calories\", \"Dishes\"]\n",
    "    calories = count_calories_per_day(menu)\n",
    "    table = []\n",
    "    for day in range(DAYS_PER_MENU):\n",
    "        table.append([day, calories[day], menu[day]])\n",
    "    print(tabulate(table, headers, tablefmt=\"fancy_grid\"))"
   ],
   "metadata": {
    "collapsed": false,
    "pycharm": {
     "name": "#%%\n"
    }
   }
  },
  {
   "cell_type": "markdown",
   "id": "74e9ae5d",
   "metadata": {
    "pycharm": {
     "name": "#%% md\n"
    }
   },
   "source": [
    "#### Test data"
   ]
  },
  {
   "cell_type": "code",
   "execution_count": 59,
   "id": "5aebac52",
   "metadata": {
    "scrolled": true,
    "pycharm": {
     "name": "#%%\n"
    }
   },
   "outputs": [],
   "source": [
    "if not REAL_DATA:\n",
    "    dishes = {}\n",
    "    for _ in range(DISH_COUNT):\n",
    "        name = ''.join(random.choices(string.ascii_lowercase, k=6))\n",
    "        dishes[name] = random.randint(MIN_CALORIES_PER_DISH, MAX_CALORIES_PER_DISH)\n",
    "    dishes = list(dishes.items())\n",
    "\n",
    "    print(*dishes[:7], sep='n')"
   ]
  },
  {
   "cell_type": "markdown",
   "source": [
    "#### Real data"
   ],
   "metadata": {
    "collapsed": false,
    "pycharm": {
     "name": "#%% md\n"
    }
   }
  },
  {
   "cell_type": "code",
   "execution_count": 60,
   "outputs": [
    {
     "name": "stdout",
     "output_type": "stream",
     "text": [
      "('Dried Sweetened Mango', 319.0)\n",
      "('Squab (Pigeon) Light Meat Without Skin Raw', 134.0)\n",
      "('Beef Round Top Round Steak Boneless Separable Lean And Fat Trimmed To 0 Inch Fat Select Raw', 120.0)\n",
      "('Rice White Short-Grain Raw Unenriched', 358.0)\n",
      "('Milk And Cereal Bar', 413.0)\n",
      "('Pretzels Soft Gluten Free', 297.0)\n",
      "('Snacks Corn Cakes', 387.0)\n"
     ]
    }
   ],
   "source": [
    "if REAL_DATA:\n",
    "    dishes = {}\n",
    "    data = pd.read_excel('menu_database.xlsx')\n",
    "    df = pd.DataFrame(data, columns=['name', 'Food Group', \"Calories\"])\n",
    "    while len(dishes) != DISH_COUNT:\n",
    "        random_choice = df.sample()\n",
    "        if MIN_CALORIES_PER_DISH < random_choice.Calories.values[0] < MAX_CALORIES_PER_DISH:\n",
    "            dishes[random_choice.name.values[0]] = random_choice.Calories.values[0]\n",
    "    dishes = list(dishes.items())\n",
    "    print(*dishes[:7], sep='\\n')"
   ],
   "metadata": {
    "collapsed": false,
    "pycharm": {
     "name": "#%%\n"
    }
   }
  },
  {
   "cell_type": "markdown",
   "id": "654fbb0a",
   "metadata": {
    "pycharm": {
     "name": "#%% md\n"
    }
   },
   "source": [
    "#### Sample random menu"
   ]
  },
  {
   "cell_type": "code",
   "execution_count": 61,
   "id": "e70a5ab3",
   "metadata": {
    "pycharm": {
     "name": "#%%\n"
    }
   },
   "outputs": [],
   "source": [
    "def create_random_menu():\n",
    "    menu = np.ndarray((7, 3), tuple)\n",
    "    for day in range(DAYS_PER_MENU):\n",
    "        for dish_index in range(DISHES_PER_DAY):\n",
    "            menu[day, dish_index] = random.choice(dishes)\n",
    "    return menu"
   ]
  },
  {
   "cell_type": "code",
   "execution_count": 62,
   "id": "eefe5341",
   "metadata": {
    "pycharm": {
     "name": "#%%\n"
    }
   },
   "outputs": [],
   "source": [
    "def count_calories_per_day(menu):\n",
    "    calories = []\n",
    "    for day in range(DAYS_PER_MENU):\n",
    "        calories.append(0)\n",
    "        for dish_index in range(DISHES_PER_DAY):\n",
    "            calories[-1] += menu[day, dish_index][1]\n",
    "    return calories\n",
    "\n",
    "\n",
    "def score_menu(menu):\n",
    "    differences = [calories - CALORIES_PER_DAY for calories in count_calories_per_day(menu)]\n",
    "    squares = [calories ** 2 for calories in differences]\n",
    "    return sum(squares)"
   ]
  },
  {
   "cell_type": "code",
   "execution_count": 63,
   "id": "81fcd157",
   "metadata": {
    "pycharm": {
     "name": "#%%\n"
    }
   },
   "outputs": [
    {
     "name": "stdout",
     "output_type": "stream",
     "text": [
      "Score: 12468607.0\n",
      "╒═══════╤════════════╤══════════════════════════════════════════════════════════════════════════════════════════════════════════════╕\n",
      "│   Day │   Calories │ Dishes                                                                                                       │\n",
      "╞═══════╪════════════╪══════════════════════════════════════════════════════════════════════════════════════════════════════════════╡\n",
      "│     0 │        399 │ [('Squid Baked Or Broiled Fat Not Added In Cooking', 113.0)                                                  │\n",
      "│       │            │  ('Turkey Dark Meat Roasted Skin Not Eaten', 167.0)                                                          │\n",
      "│       │            │  ('Milk Shakes Thick Chocolate', 119.0)]                                                                     │\n",
      "├───────┼────────────┼──────────────────────────────────────────────────────────────────────────────────────────────────────────────┤\n",
      "│     1 │        656 │ [('Pork Fresh Variety Meats And By-Products Stomach Raw', 159.0)                                             │\n",
      "│       │            │  ('Cooked Spiny Lobster', 143.0)                                                                             │\n",
      "│       │            │  ('Potatoes Mashed Dehydrated Flakes Without Milk Dry Form', 354.0)]                                         │\n",
      "├───────┼────────────┼──────────────────────────────────────────────────────────────────────────────────────────────────────────────┤\n",
      "│     2 │        580 │ [('Cod Coated Fried Made With Cooking Spray', 151.0)                                                         │\n",
      "│       │            │  ('Beef Shoulder Steak Boneless Separable Lean Only Trimmed To 0 Inch Fat All Grades Cooked Grilled', 175.0) │\n",
      "│       │            │  ('Frankfurter Or Hot Dog Sandwich Chicken And/or Turkey Plain On White Bun', 254.0)]                        │\n",
      "├───────┼────────────┼──────────────────────────────────────────────────────────────────────────────────────────────────────────────┤\n",
      "│     3 │        439 │ [('Peas Cowpeas Field Peas Or Blackeye Peas Not Dried Cooked From Frozen Made With Oil', 151.0)              │\n",
      "│       │            │  ('Beef And Rice No Sauce', 145.0)                                                                           │\n",
      "│       │            │  ('Game Meat Goat Cooked Roasted', 143.0)]                                                                   │\n",
      "├───────┼────────────┼──────────────────────────────────────────────────────────────────────────────────────────────────────────────┤\n",
      "│     4 │        941 │ [('Gravy Mushroom Dry Powder', 328.0) ('Bacon And Egg Sandwich', 237.0)                                      │\n",
      "│       │            │  ('Cereal Oat Nfs', 376.0)]                                                                                  │\n",
      "├───────┼────────────┼──────────────────────────────────────────────────────────────────────────────────────────────────────────────┤\n",
      "│     5 │        452 │ [('Red Kidney Beans Canned Drained Low Sodium Ns As To Fat Added In Cooking', 188.0)                         │\n",
      "│       │            │  ('Fish Shark Mixed Species Raw', 130.0)                                                                     │\n",
      "│       │            │  ('Oven-Roasted Chicken Breast Roll', 134.0)]                                                                │\n",
      "├───────┼────────────┼──────────────────────────────────────────────────────────────────────────────────────────────────────────────┤\n",
      "│     6 │       1642 │ [('Potatoes Mashed Dehydrated Flakes Without Milk Dry Form', 354.0)                                          │\n",
      "│       │            │  ('Walnut Oil', 884.0)                                                                                       │\n",
      "│       │            │  ('Cake Or Cupcake Nut With Icing Or Filling', 404.0)]                                                       │\n",
      "╘═══════╧════════════╧══════════════════════════════════════════════════════════════════════════════════════════════════════════════╛\n"
     ]
    }
   ],
   "source": [
    "sample_menu = create_random_menu()\n",
    "visualize_menu(sample_menu)"
   ]
  },
  {
   "cell_type": "code",
   "execution_count": 69,
   "id": "d0df3f87",
   "metadata": {
    "pycharm": {
     "name": "#%%\n"
    }
   },
   "outputs": [],
   "source": [
    "def crossover(first_menu, second_menu):\n",
    "    child = first_menu.copy()\n",
    "    for day_index in range(DAYS_PER_MENU):\n",
    "        if random.choice((0, 1)) == 1:\n",
    "            child[day_index] = second_menu[day_index]\n",
    "    return child\n",
    "\n",
    "\n",
    "def random_mutate(menu):\n",
    "    menu[random.randint(0, DAYS_PER_MENU - 1), random.randint(0, DISHES_PER_DAY - 1)] = random.choice(dishes)\n",
    "    return menu\n",
    "\n",
    "\n",
    "def swap_mutate(menu):\n",
    "    first_day_index = random.randint(0, DAYS_PER_MENU - 1)\n",
    "    second_day_index = random.randint(0, DAYS_PER_MENU - 1)\n",
    "    dish_index = random.randint(0, DISHES_PER_DAY - 1)\n",
    "    menu[first_day_index, dish_index], menu[second_day_index, dish_index] = menu[second_day_index, dish_index], menu[\n",
    "        first_day_index, dish_index]\n",
    "    return menu"
   ]
  },
  {
   "cell_type": "code",
   "execution_count": 70,
   "id": "aceb5dbd",
   "metadata": {
    "pycharm": {
     "name": "#%%\n"
    }
   },
   "outputs": [],
   "source": [
    "population = []\n",
    "for _ in range(POPULATION_SIZE):\n",
    "    population.append(create_random_menu())"
   ]
  },
  {
   "cell_type": "code",
   "execution_count": 73,
   "id": "89b343e3",
   "metadata": {
    "pycharm": {
     "name": "#%%\n"
    }
   },
   "outputs": [],
   "source": [
    "for i in range(ITERATIONS):\n",
    "    population.sort(key=score_menu)\n",
    "    mating_population = population[:MATING_POPULATION_SIZE]\n",
    "\n",
    "    offspring_population = []\n",
    "    for _ in range(POPULATION_SIZE - MATING_POPULATION_SIZE):\n",
    "        offspring_population.append(crossover(random.choice(mating_population), random.choice(mating_population)))\n",
    "        if random.random() < 0.1:\n",
    "            offspring_population[-1] = random_mutate(offspring_population[-1])\n",
    "        if random.random() < 0.1:\n",
    "            offspring_population[-1] = swap_mutate(offspring_population[-1])\n",
    "\n",
    "    population = mating_population + offspring_population"
   ]
  },
  {
   "cell_type": "code",
   "execution_count": 74,
   "id": "dcb47bfe",
   "metadata": {
    "pycharm": {
     "name": "#%%\n"
    }
   },
   "outputs": [
    {
     "name": "stdout",
     "output_type": "stream",
     "text": [
      "Score: 612.0\n",
      "╒═══════╤════════════╤════════════════════════════════════════════════════════════════════════════════════════════════════════════════════════════════╕\n",
      "│   Day │   Calories │ Dishes                                                                                                                         │\n",
      "╞═══════╪════════════╪════════════════════════════════════════════════════════════════════════════════════════════════════════════════════════════════╡\n",
      "│     0 │       2000 │ [('Fat Back Cooked', 750.0)                                                                                                    │\n",
      "│       │            │  ('Pretzels Soft Ready-To-Eat Unsalted Buttered', 350.0)                                                                       │\n",
      "│       │            │  ('Fat Goose', 900.0)]                                                                                                         │\n",
      "├───────┼────────────┼────────────────────────────────────────────────────────────────────────────────────────────────────────────────────────────────┤\n",
      "│     1 │       1988 │ [('Fat Back Cooked', 750.0)                                                                                                    │\n",
      "│       │            │  ('Infant Formula Abbott Nutrition Similac Advance With Iron Powder Not Reconstituted', 522.0)                                 │\n",
      "│       │            │  ('Nuts Macadamia Nuts Dry Roasted With Salt Added', 716.0)]                                                                   │\n",
      "├───────┼────────────┼────────────────────────────────────────────────────────────────────────────────────────────────────────────────────────────────┤\n",
      "│     2 │       2000 │ [('Fat Back Cooked', 750.0)                                                                                                    │\n",
      "│       │            │  ('Pretzels Soft Ready-To-Eat Unsalted Buttered', 350.0)                                                                       │\n",
      "│       │            │  ('Fat Goose', 900.0)]                                                                                                         │\n",
      "├───────┼────────────┼────────────────────────────────────────────────────────────────────────────────────────────────────────────────────────────────┤\n",
      "│     3 │       1997 │ [('Fat Back Cooked', 750.0) ('Beans Pinto Mature Seeds Raw', 347.0)                                                            │\n",
      "│       │            │  ('Fat Goose', 900.0)]                                                                                                         │\n",
      "├───────┼────────────┼────────────────────────────────────────────────────────────────────────────────────────────────────────────────────────────────┤\n",
      "│     4 │       2003 │ [('Fat Back Cooked', 750.0)                                                                                                    │\n",
      "│       │            │  ('Margarine-Like Vegetable Oil Spread 60% Fat Stick With Salt', 537.0)                                                        │\n",
      "│       │            │  ('Nuts Macadamia Nuts Dry Roasted With Salt Added', 716.0)]                                                                   │\n",
      "├───────┼────────────┼────────────────────────────────────────────────────────────────────────────────────────────────────────────────────────────────┤\n",
      "│     5 │       2003 │ [('Infant Formula Nestle Good Start Essentials Soy With Iron Powder', 502.0)                                                   │\n",
      "│       │            │  ('Almonds Salted', 601.0) ('Fat Goose', 900.0)]                                                                               │\n",
      "├───────┼────────────┼────────────────────────────────────────────────────────────────────────────────────────────────────────────────────────────────┤\n",
      "│     6 │       1979 │ [('Fat Back Cooked', 750.0) ('Almonds Salted', 601.0)                                                                          │\n",
      "│       │            │  ('Margarine-Like Shortening Industrial Soy (Partially Hydrogenated) Cottonseed And Soy Principal Use Flaky Pastries', 628.0)] │\n",
      "╘═══════╧════════════╧════════════════════════════════════════════════════════════════════════════════════════════════════════════════════════════════╛\n"
     ]
    }
   ],
   "source": [
    "population.sort(key=score_menu)\n",
    "visualize_menu(population[0])"
   ]
  },
  {
   "cell_type": "code",
   "execution_count": 74,
   "id": "192222f4",
   "metadata": {
    "pycharm": {
     "name": "#%%\n"
    }
   },
   "outputs": [],
   "source": []
  }
 ],
 "metadata": {
  "kernelspec": {
   "display_name": "Python 3 (ipykernel)",
   "language": "python",
   "name": "python3"
  },
  "language_info": {
   "codemirror_mode": {
    "name": "ipython",
    "version": 3
   },
   "file_extension": ".py",
   "mimetype": "text/x-python",
   "name": "python",
   "nbconvert_exporter": "python",
   "pygments_lexer": "ipython3",
   "version": "3.9.7"
  }
 },
 "nbformat": 4,
 "nbformat_minor": 5
}