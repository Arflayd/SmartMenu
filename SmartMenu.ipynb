{
 "cells": [
  {
   "cell_type": "code",
   "execution_count": 26,
   "id": "5c8e1741",
   "metadata": {
    "pycharm": {
     "name": "#%%\n"
    }
   },
   "outputs": [],
   "source": [
    "import random\n",
    "import string\n",
    "import numpy as np\n",
    "import pandas as pd\n",
    "from tabulate import tabulate"
   ]
  },
  {
   "cell_type": "markdown",
   "id": "efd3a88f",
   "metadata": {
    "pycharm": {
     "name": "#%% md\n"
    }
   },
   "source": [
    "### Config"
   ]
  },
  {
   "cell_type": "code",
   "execution_count": 27,
   "id": "c0a9f15f",
   "metadata": {
    "pycharm": {
     "name": "#%%\n"
    }
   },
   "outputs": [],
   "source": [
    "# How many dishes are available and in what range of calories\n",
    "DISH_COUNT = 3000\n",
    "MIN_CALORIES_PER_DISH = 100\n",
    "MAX_CALORIES_PER_DISH = 1500\n",
    "\n",
    "# User config - how many days, how many dishes per day, how many calories per day\n",
    "DAYS_PER_MENU = 7\n",
    "DISHES_PER_DAY = 3\n",
    "CALORIES_PER_DAY = 2000\n",
    "# Penalty for dishes repaeating during the week\n",
    "PENALTY = 400\n",
    "\n",
    "# Genetic algorithm config\n",
    "POPULATION_SIZE = 200\n",
    "MATING_POPULATION_SIZE = 50\n",
    "ITERATIONS = 1000"
   ]
  },
  {
   "cell_type": "markdown",
   "id": "a5a4e843",
   "metadata": {
    "pycharm": {
     "name": "#%% md\n"
    }
   },
   "source": [
    "#### Helper functions"
   ]
  },
  {
   "cell_type": "code",
   "execution_count": 28,
   "id": "055b00d4",
   "metadata": {
    "pycharm": {
     "name": "#%%\n"
    }
   },
   "outputs": [],
   "source": [
    "def visualize_menu(menu):\n",
    "    print(\"Score: \" + str(score_menu(menu)))\n",
    "    headers = [\"Day\", \"Calories\", \"Dishes\"]\n",
    "    calories = count_calories_per_day(menu)\n",
    "    table = []\n",
    "    for day in range(DAYS_PER_MENU):\n",
    "        table.append([day, calories[day], menu[day]])\n",
    "    print(tabulate(table, headers, tablefmt=\"fancy_grid\"))"
   ]
  },
  {
   "cell_type": "markdown",
   "id": "0ad4269a",
   "metadata": {
    "pycharm": {
     "name": "#%% md\n"
    }
   },
   "source": [
    "#### Real data"
   ]
  },
  {
   "cell_type": "code",
   "execution_count": 29,
   "id": "4c55caa9",
   "metadata": {
    "pycharm": {
     "name": "#%%\n"
    }
   },
   "outputs": [
    {
     "name": "stdout",
     "output_type": "stream",
     "text": [
      "('Steak And Cheese Sandwich Plain On Roll', 421.6)\n",
      "('Frankfurter Or Hot Dog Sandwich Reduced Fat Or Light Plain On Whole Wheat Bun', 193.8)\n",
      "('Haddock Coated Baked Or Broiled Fat Added In Cooking', 316.2)\n",
      "('Enchilada With Meat Red-Chile Or Enchilada Sauce', 179.34)\n",
      "('Cookies Peanut Butter Commercially Prepared Soft-Type', 129.78799999999998)\n",
      "('Dry Roasted Macadamia Nuts', 947.76)\n",
      "('Lamb Australian Imported Fresh Rack Roast Frenched Denuded Bone-In Separable Lean And Fat Trimmed To 0 Inch Fat Cooked Roasted', 164.05)\n"
     ]
    }
   ],
   "source": [
    "dishes = {}\n",
    "data = pd.read_csv('data.csv', delimiter=',', encoding='utf-8', low_memory=False)\n",
    "df = pd.DataFrame(data, columns=['name', 'Food Group', \"calories_portion\"])\n",
    "\n",
    "while len(dishes) != DISH_COUNT:\n",
    "    random_choice = df.sample()\n",
    "    if MIN_CALORIES_PER_DISH < random_choice.calories_portion.values[0] < MAX_CALORIES_PER_DISH:\n",
    "        dishes[random_choice.name.values[0]] = random_choice.calories_portion.values[0]\n",
    "dishes = list(dishes.items())\n",
    "print(*dishes[:DAYS_PER_MENU], sep='\\n')"
   ]
  },
  {
   "cell_type": "markdown",
   "id": "654fbb0a",
   "metadata": {
    "pycharm": {
     "name": "#%% md\n"
    }
   },
   "source": [
    "#### Sample random menu"
   ]
  },
  {
   "cell_type": "code",
   "execution_count": 30,
   "id": "e70a5ab3",
   "metadata": {
    "pycharm": {
     "name": "#%%\n"
    }
   },
   "outputs": [],
   "source": [
    "def create_random_menu():\n",
    "    menu = np.ndarray((DAYS_PER_MENU, DISHES_PER_DAY), tuple)\n",
    "    for day in range(DAYS_PER_MENU):\n",
    "        for dish_index in range(DISHES_PER_DAY):\n",
    "            menu[day, dish_index] = random.choice(dishes)\n",
    "    return menu"
   ]
  },
  {
   "cell_type": "code",
   "execution_count": 31,
   "id": "eefe5341",
   "metadata": {
    "pycharm": {
     "name": "#%%\n"
    }
   },
   "outputs": [],
   "source": [
    "def count_calories_per_day(menu):\n",
    "\n",
    "    calories = []\n",
    "    for day in range(DAYS_PER_MENU):\n",
    "        calories.append(0)\n",
    "        for dish_index in range(DISHES_PER_DAY):\n",
    "            calories[-1] += menu[day, dish_index][1]\n",
    "    \n",
    "    return calories\n",
    "\n",
    "def count_duplicates_per_day(menu):\n",
    "    \n",
    "    names = np.reshape(menu, DAYS_PER_MENU * DISHES_PER_DAY)\n",
    "    unique, counts = np.unique(names, return_counts=True)\n",
    "    names_dict = dict(zip(unique, counts))\n",
    "\n",
    "    attr = []\n",
    "    for day in range(DAYS_PER_MENU):\n",
    "        attr.append(0)\n",
    "        for dish_index in range(DISHES_PER_DAY):\n",
    "            attr[-1] += (names_dict[menu[day, dish_index]] - 1 )\n",
    "    \n",
    "    return attr\n",
    "\n",
    "def score_menu(menu):\n",
    "    \n",
    "    differences = [calories - CALORIES_PER_DAY for calories in count_calories_per_day(menu)]\n",
    "    penalty = [(attr*PENALTY) ** 2 for attr in count_duplicates_per_day(menu)]\n",
    "    squares = [calories ** 2 for calories in differences]\n",
    "    \n",
    "    return sum(squares + penalty)"
   ]
  },
  {
   "cell_type": "code",
   "execution_count": 32,
   "id": "81fcd157",
   "metadata": {
    "pycharm": {
     "name": "#%%\n"
    }
   },
   "outputs": [
    {
     "name": "stdout",
     "output_type": "stream",
     "text": [
      "Score: 7966764.277852001\n",
      "╒═══════╤════════════╤════════════════════════════════════════════════════════════════════════════════════════════════════════════════════╕\n",
      "│   Day │   Calories │ Dishes                                                                                                             │\n",
      "╞═══════╪════════════╪════════════════════════════════════════════════════════════════════════════════════════════════════════════════════╡\n",
      "│     0 │    571.284 │ [('Beef Chuck Blade Roast Separable Lean And Fat Trimmed To 1/8 Inch Fat Select Cooked Braised', 270.3)            │\n",
      "│       │            │  ('Dark Chocolate (45-59% Cocoa)', 155.064)                                                                        │\n",
      "│       │            │  ('Noodles Egg Dry Enriched', 145.92)]                                                                             │\n",
      "├───────┼────────────┼────────────────────────────────────────────────────────────────────────────────────────────────────────────────────┤\n",
      "│     1 │    893.64  │ [('Beef Noodles And Vegetables Including Carrots Broccoli And/or Dark-Green Leafy; No Sauce', 238.14)              │\n",
      "│       │            │  ('Babyfood Multigrain Whole Grain Cereal Dry Fortified', 407.0)                                                   │\n",
      "│       │            │  ('Peas Cowpeas Field Peas Or Blackeye Peas Not Dried Cooked Ns As To Form Made With Margarine', 248.5)]           │\n",
      "├───────┼────────────┼────────────────────────────────────────────────────────────────────────────────────────────────────────────────────┤\n",
      "│     2 │   1684.56  │ [('Vegetable Oil-Butter Spread Stick Salted', 1209.91)                                                             │\n",
      "│       │            │  ('Snacks Plantain Chips Salted', 150.804)                                                                         │\n",
      "│       │            │  ('Pears Dried Sulfured Stewed Without Added Sugar', 323.85)]                                                      │\n",
      "├───────┼────────────┼────────────────────────────────────────────────────────────────────────────────────────────────────────────────────┤\n",
      "│     3 │   1229.39  │ [('Nuts Coconut Milk Raw (Liquid Expressed From Grated Meat And Water)', 552.0)                                    │\n",
      "│       │            │  ('Beef Chuck Eye Steak Boneless Separable Lean Only Trimmed To 0 Inch Fat Choice Cooked Grilled', 182.75)         │\n",
      "│       │            │  ('Chicken Or Turkey Cordon Bleu', 494.64)]                                                                        │\n",
      "├───────┼────────────┼────────────────────────────────────────────────────────────────────────────────────────────────────────────────────┤\n",
      "│     4 │   1173.81  │ [('Vegetable Combination Including Carrots Broccoli And/or Dark-Green Leafy; Cooked With Soy-Based Sauce', 194.25) │\n",
      "│       │            │  ('Beef Dumplings And Vegetables Excluding Carrots Broccoli And Dark-Green Leafy; Gravy', 321.21)                  │\n",
      "│       │            │  ('Restaurant Chinese Chicken And Vegetables', 658.35)]                                                            │\n",
      "├───────┼────────────┼────────────────────────────────────────────────────────────────────────────────────────────────────────────────────┤\n",
      "│     5 │    435.53  │ [('Milk Buttermilk Dried', 116.1) ('Quaker Quaker Oat Life Plain', 119.68)                                         │\n",
      "│       │            │  ('Pork Fresh Composite Of Trimmed Retail Cuts (Loin And Shoulder Blade) Separable Lean And Fat Cooked', 199.75)]  │\n",
      "├───────┼────────────┼────────────────────────────────────────────────────────────────────────────────────────────────────────────────────┤\n",
      "│     6 │   1062.98  │ [('Pizza With Meat Gluten-Free Thin Crust', 359.6)                                                                 │\n",
      "│       │            │  ('Corn Flour Masa Unenriched White', 413.82)                                                                      │\n",
      "│       │            │  ('Turnover Filled With Egg Meat And Cheese Frozen', 289.56)]                                                      │\n",
      "╘═══════╧════════════╧════════════════════════════════════════════════════════════════════════════════════════════════════════════════════╛\n"
     ]
    }
   ],
   "source": [
    "sample_menu = create_random_menu()\n",
    "visualize_menu(sample_menu)"
   ]
  },
  {
   "cell_type": "code",
   "execution_count": 33,
   "id": "d0df3f87",
   "metadata": {
    "pycharm": {
     "name": "#%%\n"
    }
   },
   "outputs": [],
   "source": [
    "def crossover(first_menu, second_menu):\n",
    "    child = first_menu.copy()\n",
    "    for day_index in range(DAYS_PER_MENU):\n",
    "        if random.choice((0, 1)) == 1:\n",
    "            child[day_index] = second_menu[day_index]\n",
    "    return child\n",
    "\n",
    "\n",
    "def random_mutate(menu):\n",
    "    menu[random.randint(0, DAYS_PER_MENU - 1), random.randint(0, DISHES_PER_DAY - 1)] = random.choice(dishes)\n",
    "    return menu\n",
    "\n",
    "\n",
    "def swap_mutate(menu):\n",
    "    first_day_index = random.randint(0, DAYS_PER_MENU - 1)\n",
    "    second_day_index = random.randint(0, DAYS_PER_MENU - 1)\n",
    "    dish_index = random.randint(0, DISHES_PER_DAY - 1)\n",
    "    menu[first_day_index, dish_index], menu[second_day_index, dish_index] = menu[second_day_index, dish_index], menu[\n",
    "        first_day_index, dish_index]\n",
    "    return menu"
   ]
  },
  {
   "cell_type": "code",
   "execution_count": 34,
   "id": "aceb5dbd",
   "metadata": {
    "pycharm": {
     "name": "#%%\n"
    }
   },
   "outputs": [],
   "source": [
    "population = []\n",
    "for _ in range(POPULATION_SIZE):\n",
    "    population.append(create_random_menu())"
   ]
  },
  {
   "cell_type": "code",
   "execution_count": 35,
   "id": "89b343e3",
   "metadata": {
    "pycharm": {
     "name": "#%%\n"
    }
   },
   "outputs": [],
   "source": [
    "for i in range(ITERATIONS):\n",
    "    population.sort(key=score_menu)\n",
    "    mating_population = population[:MATING_POPULATION_SIZE]\n",
    "\n",
    "    offspring_population = []\n",
    "    for _ in range(POPULATION_SIZE - MATING_POPULATION_SIZE):\n",
    "        offspring_population.append(crossover(random.choice(mating_population), random.choice(mating_population)))\n",
    "        if random.random() < 0.1:\n",
    "            offspring_population[-1] = random_mutate(offspring_population[-1])\n",
    "        if random.random() < 0.1:\n",
    "            offspring_population[-1] = swap_mutate(offspring_population[-1])\n",
    "\n",
    "    population = mating_population + offspring_population"
   ]
  },
  {
   "cell_type": "code",
   "execution_count": 36,
   "id": "dcb47bfe",
   "metadata": {
    "pycharm": {
     "name": "#%%\n"
    }
   },
   "outputs": [
    {
     "name": "stdout",
     "output_type": "stream",
     "text": [
      "Score: 2.8335999999998025\n",
      "╒═══════╤════════════╤═══════════════════════════════════════════════════════════════════════════════════════════════════════╕\n",
      "│   Day │   Calories │ Dishes                                                                                                │\n",
      "╞═══════╪════════════╪═══════════════════════════════════════════════════════════════════════════════════════════════════════╡\n",
      "│     0 │    2000.19 │ [('Submarine Sandwich Steak And Cheese On White Bread With Cheese Lettuce And Tomato', 367.83)        │\n",
      "│       │            │  ('Seeds Sunflower Seed Kernels Dry Roasted With Salt Added', 744.96)                                 │\n",
      "│       │            │  ('Confectioners Coating Yogurt', 887.4)]                                                             │\n",
      "├───────┼────────────┼───────────────────────────────────────────────────────────────────────────────────────────────────────┤\n",
      "│     1 │    1999.67 │ [('Corn Flour Whole-Grain White', 422.37) ('Barley Pearled Raw', 704.0)                               │\n",
      "│       │            │  ('Mixed Nuts Without Peanuts Unsalted', 873.3)]                                                      │\n",
      "├───────┼────────────┼───────────────────────────────────────────────────────────────────────────────────────────────────────┤\n",
      "│     2 │    2000.4  │ [('Pumpkin Pie Mix Canned', 280.8)                                                                    │\n",
      "│       │            │  ('Wheat Flour White (Industrial) 10% Protein Bleached Unenriched', 366.0)                            │\n",
      "│       │            │  ('Honey Butter', 1353.6)]                                                                            │\n",
      "├───────┼────────────┼───────────────────────────────────────────────────────────────────────────────────────────────────────┤\n",
      "│     3 │    1999.94 │ [('Fruit Syrup', 1138.94) ('Raisins Seeded', 488.4)                                                   │\n",
      "│       │            │  ('Macaroni Or Noodles With Cheese And Tuna', 372.6)]                                                 │\n",
      "├───────┼────────────┼───────────────────────────────────────────────────────────────────────────────────────────────────────┤\n",
      "│     4 │    2000    │ [('Low-Moisture Dried Apricots', 380.8)                                                               │\n",
      "│       │            │  ('Nuts Mixed Nuts Oil Roasted Without Peanuts Without Salt Added', 885.6)                            │\n",
      "│       │            │  ('McDonalds Double Quarter Pounder With Cheese', 733.6)]                                             │\n",
      "├───────┼────────────┼───────────────────────────────────────────────────────────────────────────────────────────────────────┤\n",
      "│     5 │    2000.35 │ [('Rice White Long-Grain Regular Raw Enriched', 675.25) ('Yautia', 132.3)                             │\n",
      "│       │            │  ('Triple Cheeseburger 3 Medium Patties With Condiments On Bun From Fast Food / Restaurant', 1192.8)] │\n",
      "├───────┼────────────┼───────────────────────────────────────────────────────────────────────────────────────────────────────┤\n",
      "│     6 │    2001.55 │ [('Double Hamburger 2 Small Patties Plain On Bun From Fast Food / Restaurant', 388.8)                 │\n",
      "│       │            │  ('Cake Ice Cream And Cake Roll Chocolate', 1064.2)                                                   │\n",
      "│       │            │  ('Digiorno Pizza Pepperoni Topping Rising Crust Frozen Baked', 548.55)]                              │\n",
      "╘═══════╧════════════╧═══════════════════════════════════════════════════════════════════════════════════════════════════════╛\n"
     ]
    }
   ],
   "source": [
    "population.sort(key=score_menu)\n",
    "visualize_menu(population[0])"
   ]
  },
  {
   "cell_type": "code",
   "execution_count": null,
   "id": "bf633279",
   "metadata": {},
   "outputs": [],
   "source": []
  },
  {
   "cell_type": "code",
   "execution_count": null,
   "id": "266e7692",
   "metadata": {},
   "outputs": [],
   "source": []
  },
  {
   "cell_type": "code",
   "execution_count": null,
   "id": "29d3cfa6",
   "metadata": {},
   "outputs": [],
   "source": []
  }
 ],
 "metadata": {
  "kernelspec": {
   "display_name": "Python 3 (ipykernel)",
   "language": "python",
   "name": "python3"
  },
  "language_info": {
   "codemirror_mode": {
    "name": "ipython",
    "version": 3
   },
   "file_extension": ".py",
   "mimetype": "text/x-python",
   "name": "python",
   "nbconvert_exporter": "python",
   "pygments_lexer": "ipython3",
   "version": "3.9.7"
  }
 },
 "nbformat": 4,
 "nbformat_minor": 5
}
