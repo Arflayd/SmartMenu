{
 "cells": [
  {
   "cell_type": "code",
   "execution_count": 299,
   "id": "5c8e1741",
   "metadata": {
    "pycharm": {
     "name": "#%%\n"
    }
   },
   "outputs": [],
   "source": [
    "import random\n",
    "import string\n",
    "import numpy as np\n",
    "import pandas as pd\n",
    "from tabulate import tabulate"
   ]
  },
  {
   "cell_type": "markdown",
   "id": "efd3a88f",
   "metadata": {
    "pycharm": {
     "name": "#%% md\n"
    }
   },
   "source": [
    "### Config"
   ]
  },
  {
   "cell_type": "code",
   "execution_count": 300,
   "outputs": [],
   "source": [
    "DISH_COUNT = 300\n",
    "MIN_CALORIES_PER_DISH = 100\n",
    "MAX_CALORIES_PER_DISH = 1200\n",
    "CALORIES_PER_DAY = 2000\n",
    "DAYS_PER_MENU = 7\n",
    "DISHES_PER_DAY = 3\n",
    "\n",
    "PENALTY = 400\n",
    "POPULATION_SIZE = 20\n",
    "MATING_POPULATION_SIZE = 10\n",
    "ITERATIONS = 3000\n",
    "\n",
    "REAL_DATA = True"
   ],
   "metadata": {
    "collapsed": false,
    "pycharm": {
     "name": "#%%\n"
    }
   }
  },
  {
   "cell_type": "markdown",
   "source": [
    "#### Helper functions"
   ],
   "metadata": {
    "collapsed": false,
    "pycharm": {
     "name": "#%% md\n"
    }
   }
  },
  {
   "cell_type": "code",
   "execution_count": 301,
   "outputs": [],
   "source": [
    "def visualize_menu(menu):\n",
    "    print(\"Score: \" + str(score_menu(menu)))\n",
    "    headers = [\"Day\", \"Calories\", \"Dishes\"]\n",
    "    calories = count_calories_per_day(menu)\n",
    "    table = []\n",
    "    for day in range(DAYS_PER_MENU):\n",
    "        table.append([day, calories[day], menu[day]])\n",
    "    print(tabulate(table, headers, tablefmt=\"fancy_grid\"))"
   ],
   "metadata": {
    "collapsed": false,
    "pycharm": {
     "name": "#%%\n"
    }
   }
  },
  {
   "cell_type": "markdown",
   "source": [
    "#### Test data"
   ],
   "metadata": {
    "collapsed": false,
    "pycharm": {
     "name": "#%% md\n"
    }
   }
  },
  {
   "cell_type": "code",
   "execution_count": 302,
   "outputs": [],
   "source": [
    "def fake_data():\n",
    "    dishes = {}\n",
    "    for _ in range(DISH_COUNT):\n",
    "        name = ''.join(random.choices(string.ascii_lowercase, k=6))\n",
    "        dishes[name] = random.randint(MIN_CALORIES_PER_DISH, MAX_CALORIES_PER_DISH)\n",
    "    dishes = list(dishes.items())\n",
    "    return dishes"
   ],
   "metadata": {
    "collapsed": false,
    "pycharm": {
     "name": "#%%\n"
    }
   }
  },
  {
   "cell_type": "markdown",
   "source": [
    "#### Real data"
   ],
   "metadata": {
    "collapsed": false,
    "pycharm": {
     "name": "#%% md\n"
    }
   }
  },
  {
   "cell_type": "code",
   "execution_count": 303,
   "outputs": [],
   "source": [
    "def real_data():\n",
    "    dishes = {}\n",
    "    data = pd.read_csv('data.csv', delimiter=',', encoding='utf-8', low_memory=False)\n",
    "    df = pd.DataFrame(data, columns=['name', 'Food Group', \"calories_portion\"])\n",
    "\n",
    "    while len(dishes) != DISH_COUNT:\n",
    "        random_choice = df.sample()\n",
    "        if MIN_CALORIES_PER_DISH < random_choice.calories_portion.values[0] < MAX_CALORIES_PER_DISH:\n",
    "            dishes[random_choice.name.values[0]] = random_choice.calories_portion.values[0]\n",
    "    dishes = list(dishes.items())\n",
    "    return dishes"
   ],
   "metadata": {
    "collapsed": false,
    "pycharm": {
     "name": "#%%\n"
    }
   }
  },
  {
   "cell_type": "code",
   "execution_count": 304,
   "outputs": [
    {
     "name": "stdout",
     "output_type": "stream",
     "text": [
      "('Apple Candied', 255.42)\n",
      "('Menudo Soup Home Recipe', 118.09)\n",
      "('Kfc Fried Chicken Extra Crispy Skin And Breading', 464.0)\n",
      "('Tortellini Cheese-Filled No Sauce', 354.0)\n",
      "('Peanuts Virginia Oil-Roasted Without Salt', 826.54)\n",
      "('Beef Noodles And Vegetables Including Carrots Broccoli And/or Dark-Green Leafy; Tomato-Based Sauce', 311.25)\n",
      "('Lobster Bisque', 128.96)\n"
     ]
    }
   ],
   "source": [
    "dishes = {}\n",
    "if REAL_DATA:\n",
    "    dishes = real_data()\n",
    "else:\n",
    "    dishes = fake_data()\n",
    "print(*dishes[:7], sep='\\n')"
   ],
   "metadata": {
    "collapsed": false,
    "pycharm": {
     "name": "#%%\n"
    }
   }
  },
  {
   "cell_type": "markdown",
   "source": [
    "#### Sample random menu"
   ],
   "metadata": {
    "collapsed": false,
    "pycharm": {
     "name": "#%% md\n"
    }
   }
  },
  {
   "cell_type": "code",
   "execution_count": 305,
   "outputs": [],
   "source": [
    "def create_random_menu():\n",
    "    menu = np.ndarray((7, 3), tuple)\n",
    "    for day in range(DAYS_PER_MENU):\n",
    "        for dish_index in range(DISHES_PER_DAY):\n",
    "            menu[day, dish_index] = random.choice(dishes)\n",
    "    return menu"
   ],
   "metadata": {
    "collapsed": false,
    "pycharm": {
     "name": "#%%\n"
    }
   }
  },
  {
   "cell_type": "code",
   "execution_count": 306,
   "outputs": [],
   "source": [
    "def count_calories_per_day(menu):\n",
    "    calories = []\n",
    "    for day in range(DAYS_PER_MENU):\n",
    "        calories.append(0)\n",
    "        for dish_index in range(DISHES_PER_DAY):\n",
    "            calories[-1] += menu[day, dish_index][1]\n",
    "\n",
    "    return calories\n",
    "\n",
    "\n",
    "def count_attr_per_day(menu):\n",
    "    names = np.reshape(menu, 21)\n",
    "    unique, counts = np.unique(names, return_counts=True)\n",
    "    names_dict = dict(zip(unique, counts))\n",
    "\n",
    "    attr = []\n",
    "    for day in range(DAYS_PER_MENU):\n",
    "        attr.append(0)\n",
    "        for dish_index in range(DISHES_PER_DAY):\n",
    "            attr[-1] += (names_dict[menu[day, dish_index]] - 1) * PENALTY\n",
    "\n",
    "    return attr\n",
    "\n",
    "\n",
    "def score_menu(menu):\n",
    "    differences = [calories - CALORIES_PER_DAY for calories in count_calories_per_day(menu)]\n",
    "    penalty = [attr ** 2 for attr in count_attr_per_day(menu)]\n",
    "    squares = [calories ** 2 for calories in differences]\n",
    "\n",
    "    return round(sum(squares + penalty))\n",
    "\n",
    "\n",
    "def check_duplications(menu):\n",
    "    names = np.reshape(menu, 21)\n",
    "    unique, counts = np.unique(names, return_counts=True)\n",
    "    is_repeating = dict(zip(unique, counts))\n",
    "\n",
    "    for elem in is_repeating:\n",
    "        if is_repeating[elem] > 2:\n",
    "            print(\"duplicants detected\")\n",
    "            return\n",
    "    print(\"No duplicants\")"
   ],
   "metadata": {
    "collapsed": false,
    "pycharm": {
     "name": "#%%\n"
    }
   }
  },
  {
   "cell_type": "code",
   "execution_count": 307,
   "outputs": [
    {
     "name": "stdout",
     "output_type": "stream",
     "text": [
      "Score: 13869177\n",
      "╒═══════╤════════════╤════════════════════════════════════════════════════════════════════════════════════════════════════════════════════════════╕\n",
      "│   Day │   Calories │ Dishes                                                                                                                     │\n",
      "╞═══════╪════════════╪════════════════════════════════════════════════════════════════════════════════════════════════════════════════════════════╡\n",
      "│     0 │    659.51  │ [('Ham Or Pork Noodles And Vegetables Including Carrots Broccoli And/or Dark-Green Leafy; Tomato-Based Sauce', 311.25)     │\n",
      "│       │            │  ('Stewed Pink Beans With White Potatoes And Ham Puerto Rican Style', 219.3)                                               │\n",
      "│       │            │  ('Lobster Bisque', 128.96)]                                                                                               │\n",
      "├───────┼────────────┼────────────────────────────────────────────────────────────────────────────────────────────────────────────────────────────┤\n",
      "│     1 │    410.328 │ [('Banana Red Fried', 138.18) ('Nuts Acorns Raw', 109.908)                                                                 │\n",
      "│       │            │  ('Corn Yellow Cooked Ns As To Form Ns As To Fat Added In Cooking', 162.24)]                                               │\n",
      "├───────┼────────────┼────────────────────────────────────────────────────────────────────────────────────────────────────────────────────────────┤\n",
      "│     2 │    603.54  │ [('Snacks Granola Bar Kashi Golean Chewy Mixed Flavors', 304.2)                                                            │\n",
      "│       │            │  ('Beef Brisket Flat Half Separable Lean Only Trimmed To 0 Inch Fat Select Cooked Braised', 168.3)                         │\n",
      "│       │            │  ('Salsa Red Homemade', 131.04)]                                                                                           │\n",
      "├───────┼────────────┼────────────────────────────────────────────────────────────────────────────────────────────────────────────────────────────┤\n",
      "│     3 │    697.63  │ [('Fish With Cream Or White Sauce Not Tuna Or Lobster', 291.33)                                                            │\n",
      "│       │            │  ('Beef Rib Small End (Ribs 10-12) Separable Lean And Fat Trimmed To 1/8 Inch Fat All Grades Cooked Broiled', 247.35)      │\n",
      "│       │            │  ('Beef Round Bottom Round Steak Separable Lean And Fat Trimmed To 1/8 Inch Fat Select Raw', 158.95)]                      │\n",
      "├───────┼────────────┼────────────────────────────────────────────────────────────────────────────────────────────────────────────────────────────┤\n",
      "│     4 │    551.9   │ [('Milk Reduced Fat Fluid 2% Milkfat With Added Nonfat Milk Solids Without Added Vitamin A', 137.2)                        │\n",
      "│       │            │  ('Broiled Sirloin Strip Steak', 180.2) ('Tomato Sandwich', 234.5)]                                                        │\n",
      "├───────┼────────────┼────────────────────────────────────────────────────────────────────────────────────────────────────────────────────────────┤\n",
      "│     5 │    619.06  │ [('Cooked Sockeye Salmon', 132.6)                                                                                          │\n",
      "│       │            │  ('Shellfish Mixture And Vegetables Excluding Carrots Broccoli And Dark-Green Leafy; No Potatoes Soy-Based Sauce', 256.06) │\n",
      "│       │            │  ('Cream Of Wheat Regular Or Quick Made With Non-Dairy Milk Fat Added In Cooking', 230.4)]                                 │\n",
      "├───────┼────────────┼────────────────────────────────────────────────────────────────────────────────────────────────────────────────────────────┤\n",
      "│     6 │    745.03  │ [('Beef Rib Small End (Ribs 10-12) Separable Lean And Fat Trimmed To 1/8 Inch Fat All Grades Cooked Broiled', 247.35)      │\n",
      "│       │            │  ('Chicken Thigh Fried Coated Skin / Coating Eaten From Pre-Cooked', 372.6)                                                │\n",
      "│       │            │  ('Gravy Meat Or Poultry Low Sodium Prepared', 125.08)]                                                                    │\n",
      "╘═══════╧════════════╧════════════════════════════════════════════════════════════════════════════════════════════════════════════════════════════╛\n"
     ]
    }
   ],
   "source": [
    "sample_menu = create_random_menu()\n",
    "visualize_menu(sample_menu)"
   ],
   "metadata": {
    "collapsed": false,
    "pycharm": {
     "name": "#%%\n"
    }
   }
  },
  {
   "cell_type": "markdown",
   "source": [
    "### Algorithm"
   ],
   "metadata": {
    "collapsed": false,
    "pycharm": {
     "name": "#%% md\n"
    }
   }
  },
  {
   "cell_type": "code",
   "execution_count": 308,
   "outputs": [],
   "source": [
    "def crossover(first_menu, second_menu):\n",
    "    child = first_menu.copy()\n",
    "    for day_index in range(DAYS_PER_MENU):\n",
    "        if random.choice((0, 1)) == 1:\n",
    "            child[day_index] = second_menu[day_index]\n",
    "    return child\n",
    "\n",
    "\n",
    "def random_mutate(menu):\n",
    "    menu[random.randint(0, DAYS_PER_MENU - 1), random.randint(0, DISHES_PER_DAY - 1)] = random.choice(dishes)\n",
    "    return menu\n",
    "\n",
    "\n",
    "def swap_mutate(menu):\n",
    "    first_day_index = random.randint(0, DAYS_PER_MENU - 1)\n",
    "    second_day_index = random.randint(0, DAYS_PER_MENU - 1)\n",
    "    dish_index = random.randint(0, DISHES_PER_DAY - 1)\n",
    "    menu[first_day_index, dish_index], menu[second_day_index, dish_index] = menu[second_day_index, dish_index], menu[\n",
    "        first_day_index, dish_index]\n",
    "    return menu"
   ],
   "metadata": {
    "collapsed": false,
    "pycharm": {
     "name": "#%%\n"
    }
   }
  },
  {
   "cell_type": "code",
   "execution_count": 309,
   "outputs": [],
   "source": [
    "def initial_population():\n",
    "    population = []\n",
    "    for _ in range(POPULATION_SIZE):\n",
    "        population.append(create_random_menu())\n",
    "    return population"
   ],
   "metadata": {
    "collapsed": false,
    "pycharm": {
     "name": "#%%\n"
    }
   }
  },
  {
   "cell_type": "code",
   "execution_count": 310,
   "outputs": [],
   "source": [
    "def genetic_algorithm():\n",
    "    population = initial_population()\n",
    "    for i in range(ITERATIONS):\n",
    "        population.sort(key=score_menu)\n",
    "        mating_population = population[:MATING_POPULATION_SIZE]\n",
    "\n",
    "        offspring_population = []\n",
    "        for _ in range(POPULATION_SIZE - MATING_POPULATION_SIZE):\n",
    "            offspring_population.append(crossover(random.choice(mating_population), random.choice(mating_population)))\n",
    "            if random.random() < 0.1:\n",
    "                offspring_population[-1] = random_mutate(offspring_population[-1])\n",
    "            if random.random() < 0.1:\n",
    "                offspring_population[-1] = swap_mutate(offspring_population[-1])\n",
    "\n",
    "        population = mating_population + offspring_population\n",
    "\n",
    "    population.sort(key=score_menu)\n",
    "    best_individual, worst_individual = population[0], population[-1]\n",
    "\n",
    "    return best_individual, worst_individual"
   ],
   "metadata": {
    "collapsed": false,
    "pycharm": {
     "name": "#%%\n"
    }
   }
  },
  {
   "cell_type": "markdown",
   "source": [
    "### Example"
   ],
   "metadata": {
    "collapsed": false,
    "pycharm": {
     "name": "#%% md\n"
    }
   }
  },
  {
   "cell_type": "code",
   "execution_count": 311,
   "outputs": [
    {
     "name": "stdout",
     "output_type": "stream",
     "text": [
      "Score: 21545\n",
      "╒═══════╤════════════╤═══════════════════════════════════════════════════════════════════════════════════════════╕\n",
      "│   Day │   Calories │ Dishes                                                                                    │\n",
      "╞═══════╪════════════╪═══════════════════════════════════════════════════════════════════════════════════════════╡\n",
      "│     0 │    1997.08 │ [('Semisweet Chocolate Made With Butter', 810.9)                                          │\n",
      "│       │            │  ('Chilaquiles Tortilla Casserole With Salsa And Cheese No Egg', 693.68)                  │\n",
      "│       │            │  ('Pasta Whole Grain With Cream Sauce Restaurant', 492.5)]                                │\n",
      "├───────┼────────────┼───────────────────────────────────────────────────────────────────────────────────────────┤\n",
      "│     1 │    1942.78 │ [('On The Border Soft Taco With Ground Beef Cheese And Lettuce', 741.96)                  │\n",
      "│       │            │  ('Wrap Sandwich Filled With Meat Poultry Or Fish Vegetables And Cheese', 574.0)          │\n",
      "│       │            │  ('Wheat Kamut Khorasan Uncooked', 626.82)]                                               │\n",
      "├───────┼────────────┼───────────────────────────────────────────────────────────────────────────────────────────┤\n",
      "│     2 │    1924.99 │ [('Beans Pinto Mature Seeds Raw', 669.71)                                                 │\n",
      "│       │            │  ('Restaurant Chinese Shrimp And Vegetables', 468.78)                                     │\n",
      "│       │            │  ('Nuts Pecans Oil Roasted With Salt Added', 786.5)]                                      │\n",
      "├───────┼────────────┼───────────────────────────────────────────────────────────────────────────────────────────┤\n",
      "│     3 │    1966.32 │ [('Carrabbas Italian Grill Cheese Ravioli With Marinara Sauce', 569.4)                    │\n",
      "│       │            │  ('Dry Roasted Macadamia Nuts', 947.76)                                                   │\n",
      "│       │            │  ('Chicken Broilers Or Fryers Skin Only Cooked Fried Batter', 449.16)]                    │\n",
      "├───────┼────────────┼───────────────────────────────────────────────────────────────────────────────────────────┤\n",
      "│     4 │    2007.47 │ [('Beef New Zealand Imported Subcutaneous Fat Cooked', 621.35)                            │\n",
      "│       │            │  ('Nuts Mixed Nuts Dry Roasted With Peanuts Salt Added Planters Pistachio Blend', 840.84) │\n",
      "│       │            │  ('Meatballs Swedish In Sauce With Noodles Frozen Meal', 545.28)]                         │\n",
      "├───────┼────────────┼───────────────────────────────────────────────────────────────────────────────────────────┤\n",
      "│     5 │    1989.24 │ [('Cake Ice Cream And Cake Roll Not Chocolate', 1067.6)                                   │\n",
      "│       │            │  ('Snacks Granola Bar Kashi Golean Chewy Mixed Flavors', 304.2)                           │\n",
      "│       │            │  ('Poultry Mechanically Deboned From Backs And Necks With Skin Raw', 617.44)]             │\n",
      "├───────┼────────────┼───────────────────────────────────────────────────────────────────────────────────────────┤\n",
      "│     6 │    1893.56 │ [('Lamb New Zealand Imported Subcutaneous Fat Cooked', 674.0)                             │\n",
      "│       │            │  ('Nuts Coconut Milk Frozen (Liquid Expressed From Grated Meat And Water)', 484.8)        │\n",
      "│       │            │  ('Syrups Table Blends Pancake', 734.76)]                                                 │\n",
      "╘═══════╧════════════╧═══════════════════════════════════════════════════════════════════════════════════════════╛\n",
      "No duplicants\n"
     ]
    }
   ],
   "source": [
    "best_individual, worst_individual = genetic_algorithm()\n",
    "visualize_menu(best_individual)\n",
    "check_duplications(best_individual)"
   ],
   "metadata": {
    "collapsed": false,
    "pycharm": {
     "name": "#%%\n"
    }
   }
  },
  {
   "cell_type": "markdown",
   "source": [
    "### Experiments"
   ],
   "metadata": {
    "collapsed": false,
    "pycharm": {
     "name": "#%% md\n"
    }
   }
  },
  {
   "cell_type": "code",
   "execution_count": 312,
   "outputs": [],
   "source": [
    "def visualize_experiment(parameters, measurements):\n",
    "    headers = [parameters, \"Best\", \"Worst\"]\n",
    "    table = []\n",
    "    for measurement in measurements:\n",
    "        table.append(measurement)\n",
    "    print(tabulate(table, headers, tablefmt=\"fancy_grid\"))"
   ],
   "metadata": {
    "collapsed": false,
    "pycharm": {
     "name": "#%%\n"
    }
   }
  },
  {
   "cell_type": "code",
   "execution_count": 313,
   "outputs": [
    {
     "name": "stdout",
     "output_type": "stream",
     "text": [
      "╒═══════════════════╤════════╤═════════╕\n",
      "│   Population size │   Best │   Worst │\n",
      "╞═══════════════════╪════════╪═════════╡\n",
      "│                10 │    787 │  605276 │\n",
      "├───────────────────┼────────┼─────────┤\n",
      "│                20 │    965 │  247339 │\n",
      "├───────────────────┼────────┼─────────┤\n",
      "│                50 │   1298 │  290709 │\n",
      "├───────────────────┼────────┼─────────┤\n",
      "│               100 │   1736 │  124836 │\n",
      "├───────────────────┼────────┼─────────┤\n",
      "│               150 │    853 │  320937 │\n",
      "├───────────────────┼────────┼─────────┤\n",
      "│               250 │   1233 │    1233 │\n",
      "╘═══════════════════╧════════╧═════════╛\n"
     ]
    }
   ],
   "source": [
    "def experiment_population_size():\n",
    "    results = []\n",
    "    for population_size in [10, 20, 50, 100, 150, 250]:\n",
    "        POPULATION_SIZE = population_size\n",
    "        MATING_POPULATION_SIZE = population_size // 2\n",
    "        best_individual, worst_individual = genetic_algorithm()\n",
    "        results.append([population_size, score_menu(best_individual), score_menu(worst_individual)])\n",
    "    return results\n",
    "\n",
    "\n",
    "visualize_experiment(\"Population size\", experiment_population_size())"
   ],
   "metadata": {
    "collapsed": false,
    "pycharm": {
     "name": "#%%\n"
    }
   }
  },
  {
   "cell_type": "code",
   "execution_count": 314,
   "outputs": [
    {
     "name": "stdout",
     "output_type": "stream",
     "text": [
      "╒══════════════╤════════╤═════════╕\n",
      "│   Iterations │   Best │   Worst │\n",
      "╞══════════════╪════════╪═════════╡\n",
      "│           10 │   9753 │   38962 │\n",
      "├──────────────┼────────┼─────────┤\n",
      "│           20 │   1725 │  107627 │\n",
      "├──────────────┼────────┼─────────┤\n",
      "│           50 │  11793 │  592188 │\n",
      "├──────────────┼────────┼─────────┤\n",
      "│          100 │   2225 │  679935 │\n",
      "├──────────────┼────────┼─────────┤\n",
      "│          150 │   6298 │  241119 │\n",
      "├──────────────┼────────┼─────────┤\n",
      "│          250 │   1794 │   36018 │\n",
      "├──────────────┼────────┼─────────┤\n",
      "│          500 │   1271 │  213455 │\n",
      "├──────────────┼────────┼─────────┤\n",
      "│         1000 │   8050 │  109461 │\n",
      "├──────────────┼────────┼─────────┤\n",
      "│         2000 │   9250 │  696373 │\n",
      "╘══════════════╧════════╧═════════╛\n"
     ]
    }
   ],
   "source": [
    "def experiment_iterations():\n",
    "    results = []\n",
    "    for iterations in [10, 20, 50, 100, 150, 250, 500, 1000, 2000]:\n",
    "        ITERATIONS = iterations\n",
    "        best_individual, worst_individual = genetic_algorithm()\n",
    "        results.append([iterations, score_menu(best_individual), score_menu(worst_individual)])\n",
    "    return results\n",
    "\n",
    "\n",
    "visualize_experiment(\"Iterations\", experiment_iterations())"
   ],
   "metadata": {
    "collapsed": false,
    "pycharm": {
     "name": "#%%\n"
    }
   }
  },
  {
   "cell_type": "code",
   "execution_count": 314,
   "outputs": [],
   "source": [],
   "metadata": {
    "collapsed": false,
    "pycharm": {
     "name": "#%%\n"
    }
   }
  }
 ],
 "metadata": {
  "kernelspec": {
   "display_name": "Python 3 (ipykernel)",
   "language": "python",
   "name": "python3"
  },
  "language_info": {
   "codemirror_mode": {
    "name": "ipython",
    "version": 3
   },
   "file_extension": ".py",
   "mimetype": "text/x-python",
   "name": "python",
   "nbconvert_exporter": "python",
   "pygments_lexer": "ipython3",
   "version": "3.10.4"
  }
 },
 "nbformat": 4,
 "nbformat_minor": 5
}