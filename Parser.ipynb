{
 "cells": [
  {
   "cell_type": "code",
   "execution_count": 1,
   "id": "3d44896b",
   "metadata": {},
   "outputs": [],
   "source": [
    "import pandas as pd\n",
    "pd.options.mode.chained_assignment = None  # default='warn'"
   ]
  },
  {
   "cell_type": "markdown",
   "id": "c7a71954",
   "metadata": {},
   "source": [
    "# Import data \n",
    "\n",
    "## source https://tools.myfooddata.com/"
   ]
  },
  {
   "cell_type": "code",
   "execution_count": 2,
   "id": "837a49e1",
   "metadata": {},
   "outputs": [],
   "source": [
    "csv_file = \"MyFoodData-Nutrition-Facts-SpreadSheet-Release-1-4.csv\""
   ]
  },
  {
   "cell_type": "markdown",
   "id": "b9a51acd",
   "metadata": {},
   "source": [
    "# Load data"
   ]
  },
  {
   "cell_type": "code",
   "execution_count": 3,
   "id": "ccbbc927",
   "metadata": {},
   "outputs": [],
   "source": [
    "df = pd.read_csv(csv_file, delimiter=';', encoding='utf-8', low_memory=False)"
   ]
  },
  {
   "cell_type": "markdown",
   "id": "669a0401",
   "metadata": {},
   "source": [
    "# Data processing"
   ]
  },
  {
   "cell_type": "code",
   "execution_count": 4,
   "id": "66b247a7",
   "metadata": {},
   "outputs": [],
   "source": [
    "df_pod = df[[\"name\", \"Food Group\", \"Calories\", \"Serving Weight 1 (g)\"]]\n",
    "df_pod.loc[pd.isnull(df_pod[\"Serving Weight 1 (g)\"]) == True, \"Serving Weight 1 (g)\"] = '100'\n",
    "df_pod[\"Serving Weight 1 (g)\"] = pd.to_numeric(df_pod[\"Serving Weight 1 (g)\"])\n",
    "df_pod[\"Calories\"] = pd.to_numeric(df_pod[\"Calories\"])\n",
    "df_pod.loc[:, 'calories_portion'] = df_pod[\"Serving Weight 1 (g)\"] * df_pod[\"Calories\"] / 100"
   ]
  },
  {
   "cell_type": "code",
   "execution_count": 5,
   "id": "1383c419",
   "metadata": {},
   "outputs": [
    {
     "name": "stdout",
     "output_type": "stream",
     "text": [
      "                                                    name   Food Group  \\\n",
      "0      Pillsbury Golden Layer Buttermilk Biscuits Art...  Baked Foods   \n",
      "1      Pillsbury Cinnamon Rolls With Icing Refrigerat...  Baked Foods   \n",
      "2      Kraft Foods Shake N Bake Original Recipe Coati...  Baked Foods   \n",
      "3          George Weston Bakeries Thomas English Muffins  Baked Foods   \n",
      "4                Waffles Buttermilk Frozen Ready-To-Heat  Baked Foods   \n",
      "...                                                  ...          ...   \n",
      "14159                 Cheese As Ingredient In Sandwiches          NaN   \n",
      "14160           Breading Or Batter As Ingredient In Food          NaN   \n",
      "14161            Wheat Bread As Ingredient In Sandwiches          NaN   \n",
      "14162                  Sauce As Ingredient In Hamburgers          NaN   \n",
      "14163               Industrial Oil As Ingredient In Food          NaN   \n",
      "\n",
      "       Calories  Serving Weight 1 (g)  calories_portion  \n",
      "0         307.0                  34.0            104.38  \n",
      "1         330.0                  44.0            145.20  \n",
      "2         377.0                  28.0            105.56  \n",
      "3         232.0                  57.0            132.24  \n",
      "4         273.0                  39.0            106.47  \n",
      "...         ...                   ...               ...  \n",
      "14159     359.0                 100.0            359.00  \n",
      "14160     201.0                 100.0            201.00  \n",
      "14161     263.0                 100.0            263.00  \n",
      "14162     271.0                 100.0            271.00  \n",
      "14163     892.0                 100.0            892.00  \n",
      "\n",
      "[14164 rows x 5 columns]\n"
     ]
    }
   ],
   "source": [
    "print(df_pod)"
   ]
  },
  {
   "cell_type": "markdown",
   "id": "5b594ae6",
   "metadata": {},
   "source": [
    "# Write data to .csv file"
   ]
  },
  {
   "cell_type": "code",
   "execution_count": 7,
   "id": "2db99cf4",
   "metadata": {},
   "outputs": [],
   "source": [
    "df_pod[df_pod[\"Food Group\"] != \"Beverages\"].to_csv(\"data.csv\")"
   ]
  },
  {
   "cell_type": "code",
   "execution_count": null,
   "id": "ee3d9006",
   "metadata": {},
   "outputs": [],
   "source": []
  }
 ],
 "metadata": {
  "kernelspec": {
   "display_name": "Python 3 (ipykernel)",
   "language": "python",
   "name": "python3"
  },
  "language_info": {
   "codemirror_mode": {
    "name": "ipython",
    "version": 3
   },
   "file_extension": ".py",
   "mimetype": "text/x-python",
   "name": "python",
   "nbconvert_exporter": "python",
   "pygments_lexer": "ipython3",
   "version": "3.8.10"
  }
 },
 "nbformat": 4,
 "nbformat_minor": 5
}
